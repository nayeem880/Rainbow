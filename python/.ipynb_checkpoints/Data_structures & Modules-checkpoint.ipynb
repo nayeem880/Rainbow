{
 "cells": [
  {
   "cell_type": "code",
   "execution_count": 1,
   "metadata": {},
   "outputs": [
    {
     "name": "stdout",
     "output_type": "stream",
     "text": [
      "This is datastruture tutorial in python\n"
     ]
    }
   ],
   "source": [
    "print(\"This is data struture tutorial in python\")"
   ]
  },
  {
   "cell_type": "code",
   "execution_count": 29,
   "metadata": {},
   "outputs": [
    {
     "data": {
      "text/plain": [
       "['nick', 'zussman', 'price', 'fedrick', 'obama', 'milan', 'sarah', 'n', 'm']"
      ]
     },
     "execution_count": 29,
     "metadata": {},
     "output_type": "execute_result"
    }
   ],
   "source": [
    "#list.append(x)\n",
    "#Add an item to the end of the list. Equivalent to a[len(a):] = [x].\n",
    "\n",
    "\n",
    "list=['nick','zussman','price','fedrick','obama','milan']\n",
    "list.append('sarah')\n",
    "list\n",
    "\n",
    "#list.extend(iterable)\n",
    "#Extend the list by appending all the items from the iterable.\n",
    "#Equivalent to a[len(a):] = iterable.\n",
    "\n",
    "list.extend('nm')\n",
    "list"
   ]
  },
  {
   "cell_type": "code",
   "execution_count": 31,
   "metadata": {},
   "outputs": [
    {
     "name": "stdout",
     "output_type": "stream",
     "text": [
      "['nick', 'zussman', 'price', 'nm', 'fedrick', 'obama', 'milan']\n"
     ]
    },
    {
     "data": {
      "text/plain": [
       "['nick', 'zussman', 'price', 'fedrick', 'obama', 'milan']"
      ]
     },
     "execution_count": 31,
     "metadata": {},
     "output_type": "execute_result"
    }
   ],
   "source": [
    "#list.insert(i, x)\n",
    "#Insert an item at a given position. The first argument is the index of the\n",
    "#element before which to insert, so a.insert(0, x) inserts at the front of\n",
    "#the list, and a.insert(len(a), x) is equivalent to a.append(x).\n",
    "\n",
    "\n",
    "list=['nick','zussman','price','fedrick','obama','milan']\n",
    "list.insert(3,\"nm\")\n",
    "print(list)\n",
    "\n",
    "\n",
    "#list.remove(x)\n",
    "#Remove the first item from the list whose value is equal to x. \n",
    "#It raises a ValueError if there is no such item.\n",
    "\n",
    "list.remove('nm')\n",
    "list"
   ]
  },
  {
   "cell_type": "markdown",
   "metadata": {},
   "source": [
    "list.pop([i])\n",
    "Remove the item at the given position in the list, and return it. If no index is specified, a.pop() removes and returns the last item in the list. (The square brackets around the i in the method signature denote that the parameter is optional, not that you should type square brackets at that position. You will see this notation frequently in the Python Library Reference\n"
   ]
  },
  {
   "cell_type": "code",
   "execution_count": 36,
   "metadata": {},
   "outputs": [
    {
     "name": "stdout",
     "output_type": "stream",
     "text": [
      "['nick', 'price', 'fedrick', 'obama', 'milan']\n"
     ]
    },
    {
     "data": {
      "text/plain": [
       "['nick', 'price', 'fedrick', 'obama']"
      ]
     },
     "execution_count": 36,
     "metadata": {},
     "output_type": "execute_result"
    }
   ],
   "source": [
    "list=['nick','zussman','price','fedrick','obama','milan']\n",
    "list.pop(1)\n",
    "print(list)\n",
    "list.pop() #this will remove last item and return it\n",
    "list"
   ]
  },
  {
   "cell_type": "code",
   "execution_count": 38,
   "metadata": {},
   "outputs": [
    {
     "data": {
      "text/plain": [
       "[]"
      ]
     },
     "execution_count": 38,
     "metadata": {},
     "output_type": "execute_result"
    }
   ],
   "source": [
    "#list.clear()\n",
    "#Remove all items from the list. Equivalent to del a[:].\n",
    "\n",
    "\n",
    "list=['nick','zussman','price','fedrick','obama','milan']\n",
    "list.clear()\n"
   ]
  },
  {
   "cell_type": "code",
   "execution_count": 42,
   "metadata": {},
   "outputs": [
    {
     "data": {
      "text/plain": [
       "4"
      ]
     },
     "execution_count": 42,
     "metadata": {},
     "output_type": "execute_result"
    }
   ],
   "source": [
    "#list.index(x[, start[, end]])\n",
    "#Return zero-based index in the list of the first item whose value is equal to x. Raises a ValueError if there is no such item.\n",
    "#list\n",
    "\n",
    "list=['nick','zussman','price','fedrick','obama','milan']\n",
    "list.index('obama')"
   ]
  },
  {
   "cell_type": "code",
   "execution_count": 45,
   "metadata": {},
   "outputs": [
    {
     "data": {
      "text/plain": [
       "1"
      ]
     },
     "execution_count": 45,
     "metadata": {},
     "output_type": "execute_result"
    }
   ],
   "source": [
    "#list.count(x)\n",
    "#Return the number of times x appears in the list.\n",
    "\n",
    "\n",
    "list=['nick','zussman','price','fedrick','obama','milan']\n",
    "list.count('obama')\n"
   ]
  },
  {
   "cell_type": "code",
   "execution_count": 54,
   "metadata": {},
   "outputs": [
    {
     "name": "stdout",
     "output_type": "stream",
     "text": [
      "['nick', 'zussman', 'price', 'fedrick', 'obama', 'milan']\n",
      "sorted list:  ['fedrick', 'milan', 'nick', 'obama', 'price', 'zussman']\n",
      "['zussman', 'price', 'obama', 'nick', 'milan', 'fedrick']\n"
     ]
    }
   ],
   "source": [
    "list=['nick','zussman','price','fedrick','obama','milan']\n",
    "list.copy()\n",
    "print(list)\n",
    "\n",
    "list.sort()\n",
    "print(\"sorted list: \",list)\n",
    "\n",
    "list.reverse()\n",
    "print(list)\n",
    "\n"
   ]
  },
  {
   "cell_type": "code",
   "execution_count": 57,
   "metadata": {},
   "outputs": [
    {
     "name": "stdout",
     "output_type": "stream",
     "text": [
      "[1, 2, 3, 4, 5, 10, 44]\n"
     ]
    },
    {
     "data": {
      "text/plain": [
       "[1, 2, 3]"
      ]
     },
     "execution_count": 57,
     "metadata": {},
     "output_type": "execute_result"
    }
   ],
   "source": [
    "stack=[1,2,3,4,5]\n",
    "stack.append(10)\n",
    "stack.append(44)\n",
    "print(stack)\n",
    "stack.pop()\n",
    "stack.pop()\n",
    "stack.pop()\n",
    "stack.pop()\n",
    "stack"
   ]
  },
  {
   "cell_type": "code",
   "execution_count": 60,
   "metadata": {},
   "outputs": [
    {
     "name": "stdout",
     "output_type": "stream",
     "text": [
      "deque([1, 2, 3, 45, 6, 7, 8, 'michel', 'nick'])\n",
      "deque([3, 45, 6, 7, 8, 'michel', 'nick'])\n"
     ]
    }
   ],
   "source": [
    "from collections import deque\n",
    "\n",
    "queue=deque([1,2,3,45,6,7,8])\n",
    "\n",
    "queue.append(\"michel\")\n",
    "queue.append('nick')\n",
    "\n",
    "print(queue)\n",
    "\n",
    "queue.popleft()\n",
    "queue.popleft()\n",
    "\n",
    "print(queue)"
   ]
  },
  {
   "cell_type": "code",
   "execution_count": 61,
   "metadata": {},
   "outputs": [
    {
     "name": "stdout",
     "output_type": "stream",
     "text": [
      "[0, 1, 4, 9, 16, 25, 36, 49, 64, 81]\n"
     ]
    }
   ],
   "source": [
    "squares =[]\n",
    "\n",
    "for w in range(10):\n",
    "    squares.append(w**2)\n",
    "    \n",
    "print(squares)"
   ]
  },
  {
   "cell_type": "code",
   "execution_count": 63,
   "metadata": {},
   "outputs": [
    {
     "data": {
      "text/plain": [
       "[0, 1, 8, 27, 64, 125, 216, 343, 512, 729]"
      ]
     },
     "execution_count": 63,
     "metadata": {},
     "output_type": "execute_result"
    }
   ],
   "source": [
    "cubes=[x**3 for x in range(10)]\n",
    "cubes"
   ]
  },
  {
   "cell_type": "code",
   "execution_count": 75,
   "metadata": {},
   "outputs": [
    {
     "data": {
      "text/plain": [
       "[(1, 8), (1, 5), (1, 6), (2, 8), (2, 5), (2, 6), (3, 8), (3, 5), (3, 6)]"
      ]
     },
     "execution_count": 75,
     "metadata": {},
     "output_type": "execute_result"
    }
   ],
   "source": [
    "[(x,y) for x in [1,2,3] for y in [8,5,6] if x!=y]\n",
    "\n"
   ]
  },
  {
   "cell_type": "raw",
   "metadata": {},
   "source": [
    "vec = [-4, -2, 0, 2, 4]\n",
    "# create a new list with the values doubled\n",
    " [x*2 for x in vec]\n",
    "==> [-8, -4, 0, 4, 8]\n",
    "# filter the list to exclude negative numbers\n",
    " [x for x in vec if x >= 0]\n",
    "==> [0, 2, 4]\n",
    " # apply a function to all the elements\n",
    " [abs(x) for x in vec]\n",
    "==> [4, 2, 0, 2, 4]\n",
    " # call a method on each element\n",
    " freshfruit = ['  banana', '  loganberry ', 'passion fruit  ']\n",
    " [weapon.strip() for weapon in freshfruit]\n",
    "==> ['banana', 'loganberry', 'passion fruit']\n",
    " # create a list of 2-tuples like (number, square)\n",
    " [(x, x**2) for x in range(6)]\n",
    "==> [(0, 0), (1, 1), (2, 4), (3, 9), (4, 16), (5, 25)]\n",
    " # the tuple must be parenthesized, otherwise an error is raised\n",
    " [x, x**2 for x in range(6)]\n",
    "==>   File \"<stdin>\", line 1, in <module>\n",
    "    [x, x**2 for x in range(6)]\n",
    "               ^\n",
    "SyntaxError: invalid syntax\n",
    ">>> # flatten a list using a listcomp with two 'for'\n",
    ">>> vec = [[1,2,3], [4,5,6], [7,8,9]]\n",
    ">>> [num for elem in vec for num in elem]\n",
    "[1, 2, 3, 4, 5, 6, 7, 8, 9]\n"
   ]
  },
  {
   "cell_type": "code",
   "execution_count": 79,
   "metadata": {},
   "outputs": [
    {
     "data": {
      "text/plain": [
       "['3.1', '3.14', '3.142', '3.1416', '3.14159']"
      ]
     },
     "execution_count": 79,
     "metadata": {},
     "output_type": "execute_result"
    }
   ],
   "source": [
    "from math import pi\n",
    "[str(round(pi,i)) for i in range(1,6)]"
   ]
  },
  {
   "cell_type": "code",
   "execution_count": 81,
   "metadata": {},
   "outputs": [
    {
     "data": {
      "text/plain": [
       "[[1, 2, 3], [4, 5, 6], [7, 6, 5]]"
      ]
     },
     "execution_count": 81,
     "metadata": {},
     "output_type": "execute_result"
    }
   ],
   "source": [
    "matrix=[[1,2,3],[4,5,6],[7,6,5]]\n",
    "matrix"
   ]
  },
  {
   "cell_type": "code",
   "execution_count": null,
   "metadata": {},
   "outputs": [],
   "source": [
    "#transpose statement\n"
   ]
  },
  {
   "cell_type": "code",
   "execution_count": 87,
   "metadata": {},
   "outputs": [
    {
     "name": "stdout",
     "output_type": "stream",
     "text": [
      "[2, 3, 4, 5, 67, 77, 55, 65]\n",
      "[2, 3, 5, 67, 77, 55, 65]\n",
      "[2, 3, 77, 55, 65]\n",
      "[]\n"
     ]
    }
   ],
   "source": [
    "#del statement\n",
    "\n",
    "list=[2,3,4,5,67,77,55,65]\n",
    "print(list)\n",
    "\n",
    "del list[2]\n",
    "print(list)\n",
    "\n",
    "del list[2:4]\n",
    "print(list)\n",
    "\n",
    "del list[:]\n",
    "print(list)"
   ]
  },
  {
   "cell_type": "code",
   "execution_count": 90,
   "metadata": {},
   "outputs": [
    {
     "data": {
      "text/plain": [
       "list"
      ]
     },
     "execution_count": 90,
     "metadata": {},
     "output_type": "execute_result"
    }
   ],
   "source": [
    "list=[2,3,4,5,67,77,55,65]\n",
    "del list\n",
    "\n",
    "list"
   ]
  },
  {
   "cell_type": "code",
   "execution_count": 97,
   "metadata": {},
   "outputs": [
    {
     "name": "stdout",
     "output_type": "stream",
     "text": [
      "(1, 2, 3, 5, 'nm', 'jh', 'mm')\n",
      "((1, 2, 3, 5, 'nm', 'jh', 'mm'), (1, 2, 3, 45, 6))\n"
     ]
    },
    {
     "ename": "TypeError",
     "evalue": "'tuple' object does not support item assignment",
     "output_type": "error",
     "traceback": [
      "\u001b[1;31m---------------------------------------------------------------------------\u001b[0m",
      "\u001b[1;31mTypeError\u001b[0m                                 Traceback (most recent call last)",
      "\u001b[1;32m<ipython-input-97-d259fc5d8640>\u001b[0m in \u001b[0;36m<module>\u001b[1;34m\u001b[0m\n\u001b[0;32m     10\u001b[0m \u001b[1;31m#tuples are immutable\u001b[0m\u001b[1;33m\u001b[0m\u001b[1;33m\u001b[0m\u001b[1;33m\u001b[0m\u001b[0m\n\u001b[0;32m     11\u001b[0m \u001b[1;33m\u001b[0m\u001b[0m\n\u001b[1;32m---> 12\u001b[1;33m \u001b[0mt\u001b[0m\u001b[1;33m[\u001b[0m\u001b[1;36m2\u001b[0m\u001b[1;33m]\u001b[0m\u001b[1;33m=\u001b[0m\u001b[1;36m88\u001b[0m\u001b[1;33m\u001b[0m\u001b[1;33m\u001b[0m\u001b[0m\n\u001b[0m\u001b[0;32m     13\u001b[0m \u001b[0mprint\u001b[0m\u001b[1;33m(\u001b[0m\u001b[0mt\u001b[0m\u001b[1;33m)\u001b[0m \u001b[1;31m#tuples can't be changed\u001b[0m\u001b[1;33m\u001b[0m\u001b[1;33m\u001b[0m\u001b[0m\n",
      "\u001b[1;31mTypeError\u001b[0m: 'tuple' object does not support item assignment"
     ]
    }
   ],
   "source": [
    "##tuples and sequence\n",
    "##A tuple consists of a number of values separated by commas, for instance\n",
    "t=1,2,3,5,'nm','jh','mm'\n",
    "\n",
    "print(t)\n",
    "\n",
    "u= t,(1,2,3,45,6)\n",
    "print(u)\n",
    "\n",
    "#tuples are immutable\n",
    "\n",
    "t[2]=88\n",
    "print(t) #tuples can't be changed"
   ]
  },
  {
   "cell_type": "code",
   "execution_count": 101,
   "metadata": {},
   "outputs": [
    {
     "name": "stdout",
     "output_type": "stream",
     "text": [
      "4\n"
     ]
    },
    {
     "data": {
      "text/plain": [
       "0"
      ]
     },
     "execution_count": 101,
     "metadata": {},
     "output_type": "execute_result"
    }
   ],
   "source": [
    "tup =(1,2,3,'nick')\n",
    "empty = ()\n",
    "\n",
    "print(len(tup))\n",
    "len(empty)"
   ]
  },
  {
   "cell_type": "code",
   "execution_count": 112,
   "metadata": {},
   "outputs": [
    {
     "name": "stdout",
     "output_type": "stream",
     "text": [
      "{'a', '_', 'c', 'b', 'd', 'r'}\n",
      "{'a', 'e', 'c', 'o', 'n', 'd', 'l', 'x', 'i', 'r'}\n",
      "{'e', 'o', 'n', 'l', 'x', 'i'}\n",
      "{'a', '_', 'e', 'c', 'o', 'n', 'b', 'd', 'l', 'x', 'i', 'r'}\n",
      "{'a', 'r', 'c', 'd'}\n",
      "{'_', 'e', 'o', 'n', 'b', 'l', 'x', 'i'}\n"
     ]
    }
   ],
   "source": [
    "#set elements can't be duplicate\n",
    "\n",
    "a=set(\"abracadabra_dabracaabra\")\n",
    "print(a)\n",
    "\n",
    "b=set('alexanderiaco')\n",
    "print(b)\n",
    "\n",
    "print(b-a) #letters in b but not in a\n",
    "print(b|a) #letters in a and b and both\n",
    "print(b&a) #common letters in both a and b\n",
    "print(a^b) #letters in a or b but not both"
   ]
  },
  {
   "cell_type": "code",
   "execution_count": 118,
   "metadata": {},
   "outputs": [
    {
     "name": "stdout",
     "output_type": "stream",
     "text": [
      "{'jack': 4567, 'nick': 9876}\n",
      "{'jack': 4567}\n"
     ]
    }
   ],
   "source": [
    "tel ={'jack':4567,'nick':9876}\n",
    "tel['jack']\n",
    "print(tel)\n",
    "\n",
    "del tel[\"nick\"]\n",
    "\n",
    "print(tel)"
   ]
  },
  {
   "cell_type": "code",
   "execution_count": 127,
   "metadata": {},
   "outputs": [
    {
     "name": "stdout",
     "output_type": "stream",
     "text": [
      "{'nn': 6337, 'mm': 624624, 'jj': 9839, 'oo': 3433, 'pp': 8877}\n",
      "['nn', 'mm', 'jj', 'oo', 'pp']\n",
      "['jj', 'mm', 'nn', 'oo', 'pp']\n",
      "{'nn': 6337, 'mm': 624624, 'jj': 9839, 'oo': 3433, 'pp': 8877, 'qq': 9999}\n",
      "True\n"
     ]
    },
    {
     "data": {
      "text/plain": [
       "False"
      ]
     },
     "execution_count": 127,
     "metadata": {},
     "output_type": "execute_result"
    }
   ],
   "source": [
    "nm ={'nn':6337,'mm':624624,'jj':9839,'oo':3433,'pp':8877}\n",
    "print(nm)\n",
    "\n",
    "print(list(nm))\n",
    "print(sorted(nm))\n",
    "\n",
    "#adding one item\n",
    "nm['qq']=9999\n",
    "print(nm)\n",
    "\n",
    "print('jj' in nm)\n",
    "'kj' in nm"
   ]
  },
  {
   "cell_type": "code",
   "execution_count": 131,
   "metadata": {},
   "outputs": [
    {
     "data": {
      "text/plain": [
       "{'sape': 2222, 'nam': 7777, 'eer': 992}"
      ]
     },
     "execution_count": 131,
     "metadata": {},
     "output_type": "execute_result"
    }
   ],
   "source": [
    "#using dict method we can create a dictionary\n",
    "\n",
    "dict([('sape',2222),('nam',7777),('eer',992)])\n"
   ]
  },
  {
   "cell_type": "code",
   "execution_count": 132,
   "metadata": {},
   "outputs": [
    {
     "data": {
      "text/plain": [
       "{2: 4, 5: 25, 8: 64}"
      ]
     },
     "execution_count": 132,
     "metadata": {},
     "output_type": "execute_result"
    }
   ],
   "source": [
    "{x:x**2 for x in range(2,10,3)}"
   ]
  },
  {
   "cell_type": "code",
   "execution_count": 133,
   "metadata": {},
   "outputs": [
    {
     "data": {
      "text/plain": [
       "{'sape': 4139, 'guido': 4127, 'jack': 4098}"
      ]
     },
     "execution_count": 133,
     "metadata": {},
     "output_type": "execute_result"
    }
   ],
   "source": [
    ">>> dict(sape=4139, guido=4127, jack=4098)\n",
    "\n"
   ]
  },
  {
   "cell_type": "code",
   "execution_count": 135,
   "metadata": {},
   "outputs": [
    {
     "name": "stdout",
     "output_type": "stream",
     "text": [
      "macgyver the great\n",
      "alexander the conquerer\n",
      "nick programmer\n"
     ]
    }
   ],
   "source": [
    "knights ={'macgyver': 'the great','alexander':'the conquerer','nick':'programmer'}\n",
    "\n",
    "for k,v in knights.items():\n",
    "    print(k,v)"
   ]
  },
  {
   "cell_type": "code",
   "execution_count": 137,
   "metadata": {},
   "outputs": [
    {
     "name": "stdout",
     "output_type": "stream",
     "text": [
      "0 nm\n",
      "1 ki\n",
      "2 oi\n",
      "3 ppo\n"
     ]
    }
   ],
   "source": [
    "# looping through a sequence, the position index and \n",
    "# corresponding value can be retrieved at the same time using the enumerate() function.\n",
    "\n",
    "for i, v in enumerate(['nm','ki','oi','ppo']):\n",
    "    print(i,v)"
   ]
  },
  {
   "cell_type": "code",
   "execution_count": 140,
   "metadata": {},
   "outputs": [
    {
     "name": "stdout",
     "output_type": "stream",
     "text": [
      "nick ritcher\n",
      "adam james\n",
      "xuxman price\n",
      "noah kev\n",
      "ritter zyamyla\n"
     ]
    }
   ],
   "source": [
    "nm =['nick','adam','xuxman','noah','ritter']\n",
    "ab =['ritcher','james','price','kev','zyamyla']\n",
    "\n",
    "\n",
    "for i ,j in zip(nm,ab):\n",
    "    print('{} {}'.format(i,j))"
   ]
  },
  {
   "cell_type": "code",
   "execution_count": 143,
   "metadata": {},
   "outputs": [
    {
     "name": "stdout",
     "output_type": "stream",
     "text": [
      "18\n",
      "16\n",
      "14\n",
      "12\n",
      "10\n",
      "8\n",
      "6\n",
      "4\n",
      "2\n"
     ]
    }
   ],
   "source": [
    "for i in reversed(range(2,20,2)):\n",
    "    print(i)"
   ]
  },
  {
   "cell_type": "code",
   "execution_count": 148,
   "metadata": {},
   "outputs": [
    {
     "name": "stdout",
     "output_type": "stream",
     "text": [
      "apple\n",
      "banana\n",
      "orange\n",
      "pear\n"
     ]
    }
   ],
   "source": [
    "basket = ['apple', 'orange', 'apple', 'pear', 'orange', 'banana']\n",
    "\n",
    "for f in sorted (set(basket)):\n",
    "    print(f)"
   ]
  },
  {
   "cell_type": "code",
   "execution_count": 151,
   "metadata": {},
   "outputs": [
    {
     "name": "stdout",
     "output_type": "stream",
     "text": [
      "[54.3, 77.2, 99]\n"
     ]
    }
   ],
   "source": [
    "import math\n",
    "raw_data=[54.3,float('nan'),77.2,float('nan'),99]\n",
    "filtered_data=[]\n",
    "\n",
    "for v in raw_data:\n",
    "    if not math.isnan(v):\n",
    "        filtered_data.append(v)\n",
    "        \n",
    "print(filtered_data)"
   ]
  },
  {
   "cell_type": "markdown",
   "metadata": {},
   "source": [
    "### Modules"
   ]
  },
  {
   "cell_type": "code",
   "execution_count": 152,
   "metadata": {},
   "outputs": [
    {
     "name": "stdout",
     "output_type": "stream",
     "text": [
      "Working with modules\n"
     ]
    }
   ],
   "source": [
    "print(\"Working with modules\")\n"
   ]
  },
  {
   "cell_type": "code",
   "execution_count": null,
   "metadata": {},
   "outputs": [],
   "source": [
    "import python_basics as pb\n",
    "pb."
   ]
  },
  {
   "cell_type": "code",
   "execution_count": null,
   "metadata": {},
   "outputs": [],
   "source": []
  },
  {
   "cell_type": "code",
   "execution_count": null,
   "metadata": {},
   "outputs": [],
   "source": []
  },
  {
   "cell_type": "code",
   "execution_count": null,
   "metadata": {},
   "outputs": [],
   "source": []
  },
  {
   "cell_type": "code",
   "execution_count": null,
   "metadata": {},
   "outputs": [],
   "source": []
  }
 ],
 "metadata": {
  "kernelspec": {
   "display_name": "Python 3",
   "language": "python",
   "name": "python3"
  },
  "language_info": {
   "codemirror_mode": {
    "name": "ipython",
    "version": 3
   },
   "file_extension": ".py",
   "mimetype": "text/x-python",
   "name": "python",
   "nbconvert_exporter": "python",
   "pygments_lexer": "ipython3",
   "version": "3.7.3"
  }
 },
 "nbformat": 4,
 "nbformat_minor": 2
}
