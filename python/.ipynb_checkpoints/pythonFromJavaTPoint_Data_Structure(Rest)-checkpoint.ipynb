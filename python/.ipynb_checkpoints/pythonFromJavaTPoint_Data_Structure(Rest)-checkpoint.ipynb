{
 "cells": [
  {
   "cell_type": "code",
   "execution_count": 1,
   "metadata": {},
   "outputs": [
    {
     "name": "stdout",
     "output_type": "stream",
     "text": [
      "this is python practice from JavaTPoint - functions to OOP concepts\n"
     ]
    }
   ],
   "source": [
    "print(\"this is python practice from JavaTPoint - Rest of all Data Structure tutorials\")"
   ]
  },
  {
   "cell_type": "code",
   "execution_count": 7,
   "metadata": {},
   "outputs": [
    {
     "name": "stdout",
     "output_type": "stream",
     "text": [
      "{'name': 'nick', 'age': 22, 'prof': 'AI developer'}\n",
      "<class 'dict'>\n",
      "Taking input from user to instantiate dictionary : \n",
      "Enter name : nayeem\n",
      "Enter Age : 55\n",
      "Enter Salary : 55000\n",
      "Printing the new data : \n",
      "{'name': 'nayeem', 'age': 55, 'prof': 'AI developer', 'salary': 55000}\n"
     ]
    }
   ],
   "source": [
    "#Dictionary \n",
    "\n",
    "employee={'name':'nick','age':22,'prof':\"AI developer\"}\n",
    "\n",
    "print(employee)\n",
    "print(type(employee))\n",
    "\n",
    "print(\"Taking input from user to instantiate dictionary : \")\n",
    "\n",
    "employee[\"name\"]= input(\"Enter name : \")\n",
    "employee[\"age\"]= int(input(\"Enter Age : \"))\n",
    "employee[\"salary\"]= int(input(\"Enter Salary : \"))\n",
    "print(\"Printing the new data : \")\n",
    "print(employee)\n",
    "\n"
   ]
  },
  {
   "cell_type": "code",
   "execution_count": 10,
   "metadata": {},
   "outputs": [
    {
     "name": "stdout",
     "output_type": "stream",
     "text": [
      "{'name': 'nick', 'age': 22, 'prof': 'AI developer'}\n",
      "{'prof': 'AI developer'}\n"
     ]
    },
    {
     "ename": "NameError",
     "evalue": "name 'employee' is not defined",
     "output_type": "error",
     "traceback": [
      "\u001b[1;31m---------------------------------------------------------------------------\u001b[0m",
      "\u001b[1;31mNameError\u001b[0m                                 Traceback (most recent call last)",
      "\u001b[1;32m<ipython-input-10-7374162b9c63>\u001b[0m in \u001b[0;36m<module>\u001b[1;34m\u001b[0m\n\u001b[0;32m      5\u001b[0m \u001b[0mprint\u001b[0m\u001b[1;33m(\u001b[0m\u001b[0memployee\u001b[0m\u001b[1;33m)\u001b[0m\u001b[1;33m\u001b[0m\u001b[1;33m\u001b[0m\u001b[0m\n\u001b[0;32m      6\u001b[0m \u001b[1;32mdel\u001b[0m \u001b[0memployee\u001b[0m\u001b[1;33m\u001b[0m\u001b[1;33m\u001b[0m\u001b[0m\n\u001b[1;32m----> 7\u001b[1;33m \u001b[0mprint\u001b[0m\u001b[1;33m(\u001b[0m\u001b[0memployee\u001b[0m\u001b[1;33m)\u001b[0m\u001b[1;33m\u001b[0m\u001b[1;33m\u001b[0m\u001b[0m\n\u001b[0m",
      "\u001b[1;31mNameError\u001b[0m: name 'employee' is not defined"
     ]
    }
   ],
   "source": [
    "employee={'name':'nick','age':22,'prof':\"AI developer\"}\n",
    "print(employee)\n",
    "del employee[\"name\"]\n",
    "del employee[\"age\"]\n",
    "print(employee)\n",
    "del employee\n",
    "print(employee) #error becausee of this line as the whole dictionary is deleted already\n"
   ]
  },
  {
   "cell_type": "code",
   "execution_count": 13,
   "metadata": {},
   "outputs": [
    {
     "name": "stdout",
     "output_type": "stream",
     "text": [
      "Name John\n",
      "Age 29\n",
      "salary 25000\n",
      "Company GOOGLE\n"
     ]
    }
   ],
   "source": [
    "Employee = {\"Name\": \"John\", \"Age\": 29, \"salary\":25000,\"Company\":\"GOOGLE\"}  \n",
    "for i in Employee:\n",
    "    print(i,end = \" \")\n",
    "    print(Employee[i])"
   ]
  },
  {
   "cell_type": "code",
   "execution_count": 14,
   "metadata": {},
   "outputs": [
    {
     "name": "stdout",
     "output_type": "stream",
     "text": [
      "('Name', 'John')\n",
      "('Age', 29)\n",
      "('salary', 25000)\n",
      "('Company', 'GOOGLE')\n"
     ]
    }
   ],
   "source": [
    "Employee = {\"Name\": \"John\", \"Age\": 29, \"salary\":25000,\"Company\":\"GOOGLE\"}  \n",
    "for i in Employee.items():\n",
    "    print(i)"
   ]
  },
  {
   "cell_type": "code",
   "execution_count": 15,
   "metadata": {},
   "outputs": [
    {
     "name": "stdout",
     "output_type": "stream",
     "text": [
      "Name Johnn\n",
      "Age 29\n",
      "Salary 25000\n",
      "Company GOOGLE\n"
     ]
    }
   ],
   "source": [
    "Employee = {\"Name\": \"John\", \"Age\": 29, \"Salary\":25000,\"Company\":\"GOOGLE\",\"Name\":\"Johnn\"}  \n",
    "for x,y in Employee.items():  \n",
    "    print(x,y)  "
   ]
  },
  {
   "cell_type": "code",
   "execution_count": null,
   "metadata": {},
   "outputs": [],
   "source": [
    "# In python, the key cannot be any mutable object. We can use numbers, strings, or tuple as the key but\n",
    "#we can not use any mutable object like the list as the key in the dictionary.\n",
    "\n"
   ]
  },
  {
   "cell_type": "code",
   "execution_count": 17,
   "metadata": {},
   "outputs": [
    {
     "ename": "TypeError",
     "evalue": "unhashable type: 'list'",
     "output_type": "error",
     "traceback": [
      "\u001b[1;31m---------------------------------------------------------------------------\u001b[0m",
      "\u001b[1;31mTypeError\u001b[0m                                 Traceback (most recent call last)",
      "\u001b[1;32m<ipython-input-17-0677b6fb284d>\u001b[0m in \u001b[0;36m<module>\u001b[1;34m\u001b[0m\n\u001b[1;32m----> 1\u001b[1;33m \u001b[0mEmployee\u001b[0m \u001b[1;33m=\u001b[0m \u001b[1;33m{\u001b[0m\u001b[1;34m\"Name\"\u001b[0m\u001b[1;33m:\u001b[0m \u001b[1;34m\"John\"\u001b[0m\u001b[1;33m,\u001b[0m \u001b[1;34m\"Age\"\u001b[0m\u001b[1;33m:\u001b[0m \u001b[1;36m29\u001b[0m\u001b[1;33m,\u001b[0m \u001b[1;34m\"salary\"\u001b[0m\u001b[1;33m:\u001b[0m\u001b[1;36m25000\u001b[0m\u001b[1;33m,\u001b[0m\u001b[1;34m\"Company\"\u001b[0m\u001b[1;33m:\u001b[0m\u001b[1;34m\"GOOGLE\"\u001b[0m\u001b[1;33m,\u001b[0m\u001b[1;33m[\u001b[0m\u001b[1;36m100\u001b[0m\u001b[1;33m,\u001b[0m\u001b[1;36m201\u001b[0m\u001b[1;33m,\u001b[0m\u001b[1;36m301\u001b[0m\u001b[1;33m]\u001b[0m\u001b[1;33m:\u001b[0m\u001b[1;34m\"Department ID\"\u001b[0m\u001b[1;33m}\u001b[0m\u001b[1;33m\u001b[0m\u001b[1;33m\u001b[0m\u001b[0m\n\u001b[0m\u001b[0;32m      2\u001b[0m \u001b[1;32mfor\u001b[0m \u001b[0mx\u001b[0m\u001b[1;33m,\u001b[0m\u001b[0my\u001b[0m \u001b[1;32min\u001b[0m \u001b[0mEmployee\u001b[0m\u001b[1;33m.\u001b[0m\u001b[0mitems\u001b[0m\u001b[1;33m(\u001b[0m\u001b[1;33m)\u001b[0m\u001b[1;33m:\u001b[0m\u001b[1;33m\u001b[0m\u001b[1;33m\u001b[0m\u001b[0m\n\u001b[0;32m      3\u001b[0m     \u001b[0mprint\u001b[0m\u001b[1;33m(\u001b[0m\u001b[0mx\u001b[0m\u001b[1;33m,\u001b[0m\u001b[0my\u001b[0m\u001b[1;33m)\u001b[0m\u001b[1;33m\u001b[0m\u001b[1;33m\u001b[0m\u001b[0m\n",
      "\u001b[1;31mTypeError\u001b[0m: unhashable type: 'list'"
     ]
    }
   ],
   "source": [
    "Employee = {\"Name\": \"John\", \"Age\": 29, \"salary\":25000,\"Company\":\"GOOGLE\",[100,201,301]:\"Department ID\"}  \n",
    "for x,y in Employee.items():  \n",
    "    print(x,y)  "
   ]
  },
  {
   "cell_type": "code",
   "execution_count": 18,
   "metadata": {},
   "outputs": [
    {
     "data": {
      "text/plain": [
       "4"
      ]
     },
     "execution_count": 18,
     "metadata": {},
     "output_type": "execute_result"
    }
   ],
   "source": [
    "Employee = {\"Name\": \"John\", \"Age\": 29, \"Salary\":25000,\"Company\":\"GOOGLE\",\"Name\":\"Johnn\"}  \n",
    "len(Employee)"
   ]
  },
  {
   "cell_type": "code",
   "execution_count": 21,
   "metadata": {},
   "outputs": [
    {
     "name": "stdout",
     "output_type": "stream",
     "text": [
      "<class 'dict'>\n"
     ]
    },
    {
     "data": {
      "text/plain": [
       "\"{'Name': 'Johnn', 'Age': 29, 'Salary': 25000, 'Company': 'GOOGLE'}\""
      ]
     },
     "execution_count": 21,
     "metadata": {},
     "output_type": "execute_result"
    }
   ],
   "source": [
    "Employee = {\"Name\": \"John\", \"Age\": 29, \"Salary\":25000,\"Company\":\"GOOGLE\",\"Name\":\"Johnn\"}  \n",
    "print(type(Employee))\n",
    "\n",
    "str(Employee)\n",
    "#It converts the dictionary into the printable string representation."
   ]
  },
  {
   "cell_type": "markdown",
   "metadata": {},
   "source": [
    "#### dictionary buildin functions"
   ]
  },
  {
   "cell_type": "code",
   "execution_count": 26,
   "metadata": {},
   "outputs": [
    {
     "name": "stdout",
     "output_type": "stream",
     "text": [
      "{'Name': 'Johnn', 'Age': 29, 'Salary': 25000, 'Company': 'GOOGLE'}\n",
      "{'Name': 'Johnn', 'Age': 29, 'Salary': 25000, 'Company': 'GOOGLE'}\n",
      "{}\n"
     ]
    }
   ],
   "source": [
    "e = {\"Name\": \"John\", \"Age\": 29, \"Salary\":25000,\"Company\":\"GOOGLE\",\"Name\":\"Johnn\"}  \n",
    "print(e)\n",
    "print(e.copy())\n",
    "e.clear()\n",
    "print(e)\n"
   ]
  },
  {
   "cell_type": "code",
   "execution_count": 33,
   "metadata": {},
   "outputs": [
    {
     "name": "stdout",
     "output_type": "stream",
     "text": [
      "('Name', 'Johnn')\n",
      "('Age', 29)\n",
      "('Salary', 25000)\n",
      "('Company', 'GOOGLE')\n",
      "\n",
      "\n",
      "\n",
      "Name\n",
      "Age\n",
      "Salary\n",
      "Company\n",
      "\n",
      "\n",
      "\n",
      "Johnn\n",
      "29\n",
      "25000\n",
      "GOOGLE\n"
     ]
    }
   ],
   "source": [
    "e = {\"Name\": \"John\", \"Age\": 29, \"Salary\":25000,\"Company\":\"GOOGLE\",\"Name\":\"Johnn\"}  \n",
    "\n",
    "for i in e.items():\n",
    "    print(i)\n",
    "print(\"\\n\\n\")    \n",
    "for i in e.keys():\n",
    "    print(i)\n",
    "print(\"\\n\\n\")\n",
    "for x in e.values():  \n",
    "    print(x)"
   ]
  },
  {
   "cell_type": "code",
   "execution_count": 38,
   "metadata": {},
   "outputs": [
    {
     "name": "stdout",
     "output_type": "stream",
     "text": [
      "{'Name': 'Johnn', 'Age': 29, 'Salary': 25000, 'Company': 'GOOGLE'}\n",
      "\n",
      "\n",
      "\n",
      "{'Name': 'Johnn', 'Age': 29, 'Salary': 25000, 'Company': 'GOOGLE', 'favColour': 'blue', 'favFood': 'Burger'}\n",
      "Length after update :  6\n"
     ]
    }
   ],
   "source": [
    "e = {\"Name\": \"John\", \"Age\": 29, \"Salary\":25000,\"Company\":\"GOOGLE\"}  \n",
    "x={'favColour':'blue',\"favFood\":'Burger'}\n",
    "print(e)\n",
    "\n",
    "print('\\n\\n')\n",
    "e.update(x)\n",
    "print(e)\n",
    "print(\"Length after update : \",len(e))"
   ]
  },
  {
   "cell_type": "markdown",
   "metadata": {},
   "source": [
    "###### pop"
   ]
  },
  {
   "cell_type": "code",
   "execution_count": 57,
   "metadata": {},
   "outputs": [
    {
     "name": "stdout",
     "output_type": "stream",
     "text": [
      "{'Age': 29, 'Salary': 25000, 'Company': 'GOOGLE'}\n"
     ]
    },
    {
     "ename": "TypeError",
     "evalue": "pop expected at least 1 arguments, got 0",
     "output_type": "error",
     "traceback": [
      "\u001b[1;31m---------------------------------------------------------------------------\u001b[0m",
      "\u001b[1;31mTypeError\u001b[0m                                 Traceback (most recent call last)",
      "\u001b[1;32m<ipython-input-57-993b26a371e0>\u001b[0m in \u001b[0;36m<module>\u001b[1;34m\u001b[0m\n\u001b[0;32m      5\u001b[0m \u001b[0mprint\u001b[0m\u001b[1;33m(\u001b[0m\u001b[0me\u001b[0m\u001b[1;33m)\u001b[0m\u001b[1;33m\u001b[0m\u001b[1;33m\u001b[0m\u001b[0m\n\u001b[0;32m      6\u001b[0m \u001b[1;33m\u001b[0m\u001b[0m\n\u001b[1;32m----> 7\u001b[1;33m \u001b[0me\u001b[0m\u001b[1;33m.\u001b[0m\u001b[0mpop\u001b[0m\u001b[1;33m(\u001b[0m\u001b[1;33m)\u001b[0m \u001b[1;31m#this is differnt from other pop as here we can't keep pop blank here\u001b[0m\u001b[1;33m\u001b[0m\u001b[1;33m\u001b[0m\u001b[0m\n\u001b[0m\u001b[0;32m      8\u001b[0m \u001b[0mprint\u001b[0m\u001b[1;33m(\u001b[0m\u001b[0me\u001b[0m\u001b[1;33m)\u001b[0m\u001b[1;33m\u001b[0m\u001b[1;33m\u001b[0m\u001b[0m\n",
      "\u001b[1;31mTypeError\u001b[0m: pop expected at least 1 arguments, got 0"
     ]
    }
   ],
   "source": [
    "e = {\"Name\": \"John\", \"Age\": 29, \"Salary\":25000,\"Company\":\"GOOGLE\"}  \n",
    "e.pop(\"Name\")\n",
    "#e.pop(\"John or any index number like 4,5,6 is not valid\") this is not valid\n",
    "\n",
    "print(e)\n",
    "\n",
    "e.pop() #this is differnt from other pop as here we can't keep pop blank here\n",
    "print(e)"
   ]
  },
  {
   "cell_type": "code",
   "execution_count": 54,
   "metadata": {},
   "outputs": [
    {
     "ename": "AttributeError",
     "evalue": "'dict' object has no attribute 'index'",
     "output_type": "error",
     "traceback": [
      "\u001b[1;31m---------------------------------------------------------------------------\u001b[0m",
      "\u001b[1;31mAttributeError\u001b[0m                            Traceback (most recent call last)",
      "\u001b[1;32m<ipython-input-54-1b9d41782ffc>\u001b[0m in \u001b[0;36m<module>\u001b[1;34m\u001b[0m\n\u001b[0;32m      1\u001b[0m \u001b[0me\u001b[0m \u001b[1;33m=\u001b[0m \u001b[1;33m{\u001b[0m\u001b[1;34m\"Name\"\u001b[0m\u001b[1;33m:\u001b[0m \u001b[1;34m\"John\"\u001b[0m\u001b[1;33m,\u001b[0m \u001b[1;34m\"Age\"\u001b[0m\u001b[1;33m:\u001b[0m \u001b[1;36m29\u001b[0m\u001b[1;33m,\u001b[0m \u001b[1;34m\"Salary\"\u001b[0m\u001b[1;33m:\u001b[0m\u001b[1;36m25000\u001b[0m\u001b[1;33m,\u001b[0m\u001b[1;34m\"Company\"\u001b[0m\u001b[1;33m:\u001b[0m\u001b[1;34m\"GOOGLE\"\u001b[0m\u001b[1;33m}\u001b[0m\u001b[1;33m\u001b[0m\u001b[1;33m\u001b[0m\u001b[0m\n\u001b[1;32m----> 2\u001b[1;33m \u001b[0me\u001b[0m\u001b[1;33m.\u001b[0m\u001b[0mindex\u001b[0m\u001b[1;33m(\u001b[0m\u001b[1;34m\"John\"\u001b[0m\u001b[1;33m)\u001b[0m\u001b[1;33m\u001b[0m\u001b[1;33m\u001b[0m\u001b[0m\n\u001b[0m",
      "\u001b[1;31mAttributeError\u001b[0m: 'dict' object has no attribute 'index'"
     ]
    }
   ],
   "source": [
    "e = {\"Name\": \"John\", \"Age\": 29, \"Salary\":25000,\"Company\":\"GOOGLE\"}  \n",
    "e.(\"John\")"
   ]
  },
  {
   "cell_type": "code",
   "execution_count": 58,
   "metadata": {},
   "outputs": [
    {
     "ename": "KeyError",
     "evalue": "'shoes'",
     "output_type": "error",
     "traceback": [
      "\u001b[1;31m---------------------------------------------------------------------------\u001b[0m",
      "\u001b[1;31mKeyError\u001b[0m                                  Traceback (most recent call last)",
      "\u001b[1;32m<ipython-input-58-5cd1dbe2fc5d>\u001b[0m in \u001b[0;36m<module>\u001b[1;34m\u001b[0m\n\u001b[0;32m      5\u001b[0m \u001b[0minventory\u001b[0m \u001b[1;33m=\u001b[0m \u001b[1;33m{\u001b[0m\u001b[1;34m'shirts'\u001b[0m\u001b[1;33m:\u001b[0m \u001b[1;36m25\u001b[0m\u001b[1;33m,\u001b[0m \u001b[1;34m'paints'\u001b[0m\u001b[1;33m:\u001b[0m \u001b[1;36m220\u001b[0m\u001b[1;33m,\u001b[0m \u001b[1;34m'shock'\u001b[0m\u001b[1;33m:\u001b[0m \u001b[1;36m525\u001b[0m\u001b[1;33m,\u001b[0m \u001b[1;34m'tshirts'\u001b[0m\u001b[1;33m:\u001b[0m \u001b[1;36m217\u001b[0m\u001b[1;33m}\u001b[0m\u001b[1;33m\u001b[0m\u001b[1;33m\u001b[0m\u001b[0m\n\u001b[0;32m      6\u001b[0m \u001b[1;31m# Calling method\u001b[0m\u001b[1;33m\u001b[0m\u001b[1;33m\u001b[0m\u001b[1;33m\u001b[0m\u001b[0m\n\u001b[1;32m----> 7\u001b[1;33m \u001b[0melement\u001b[0m \u001b[1;33m=\u001b[0m \u001b[0minventory\u001b[0m\u001b[1;33m.\u001b[0m\u001b[0mpop\u001b[0m\u001b[1;33m(\u001b[0m\u001b[1;34m'shoes'\u001b[0m\u001b[1;33m)\u001b[0m\u001b[1;33m\u001b[0m\u001b[1;33m\u001b[0m\u001b[0m\n\u001b[0m\u001b[0;32m      8\u001b[0m \u001b[1;31m# Displaying result\u001b[0m\u001b[1;33m\u001b[0m\u001b[1;33m\u001b[0m\u001b[1;33m\u001b[0m\u001b[0m\n\u001b[0;32m      9\u001b[0m \u001b[0mprint\u001b[0m\u001b[1;33m(\u001b[0m\u001b[0melement\u001b[0m\u001b[1;33m)\u001b[0m\u001b[1;33m\u001b[0m\u001b[1;33m\u001b[0m\u001b[0m\n",
      "\u001b[1;31mKeyError\u001b[0m: 'shoes'"
     ]
    }
   ],
   "source": [
    "#if the key is not present, it returns an error KeyError. See the example below.\n",
    "\n",
    "# Python dictionary pop() Method  \n",
    "# Creating a dictionary  \n",
    "inventory = {'shirts': 25, 'paints': 220, 'shock': 525, 'tshirts': 217}  \n",
    "# Calling method  \n",
    "element = inventory.pop('shoes')  \n",
    "# Displaying result  \n",
    "print(element)  "
   ]
  },
  {
   "cell_type": "code",
   "execution_count": 60,
   "metadata": {},
   "outputs": [
    {
     "name": "stdout",
     "output_type": "stream",
     "text": [
      "100\n"
     ]
    }
   ],
   "source": [
    "#if the key is not present, it returns an error KeyError. See the example below.\n",
    "#If key is not present, we can set default value to avoid the error KeyError. See the example.\n",
    "\n",
    "\n",
    "# Python dictionary pop() Method  \n",
    "# Creating a dictionary  \n",
    "inventory = {'shirts': 25, 'paints': 220, 'shock': 525, 'tshirts': 217}  \n",
    "# Calling method  \n",
    "element = inventory.pop('shoes',100)  \n",
    "# Displaying result  \n",
    "print(element)  "
   ]
  },
  {
   "cell_type": "code",
   "execution_count": 61,
   "metadata": {},
   "outputs": [
    {
     "name": "stdout",
     "output_type": "stream",
     "text": [
      "{'shirts': 25, 'paints': 220, 'shocks': 525, 'tshirts': 217}\n",
      "Removed 25 shirts\n",
      "{'paints': 220, 'shocks': 525, 'tshirts': 217}\n"
     ]
    }
   ],
   "source": [
    "# Python dictionary pop() Method  \n",
    "# Creating a dictionary  \n",
    "inventory = {'shirts': 25, 'paints': 220, 'shocks': 525, 'tshirts': 217}  \n",
    "# Displaying result  \n",
    "print(inventory)  \n",
    "# Pop using default value  \n",
    "p = inventory.pop('shirts')  \n",
    "print(\"Removed\",p,\"shirts\")  \n",
    "print(inventory)  "
   ]
  },
  {
   "cell_type": "markdown",
   "metadata": {},
   "source": [
    "###### Pop item"
   ]
  },
  {
   "cell_type": "code",
   "execution_count": 64,
   "metadata": {},
   "outputs": [
    {
     "name": "stdout",
     "output_type": "stream",
     "text": [
      "('tshirts', 217)\n",
      "{'shirts': 25, 'paints': 220, 'shocks': 525}\n"
     ]
    }
   ],
   "source": [
    "e = {'shirts': 25, 'paints': 220, 'shocks': 525, 'tshirts': 217}  \n",
    "print(e.popitem())\n",
    "print(e)\n"
   ]
  },
  {
   "cell_type": "code",
   "execution_count": 65,
   "metadata": {},
   "outputs": [
    {
     "name": "stdout",
     "output_type": "stream",
     "text": [
      "{}\n"
     ]
    },
    {
     "ename": "KeyError",
     "evalue": "'popitem(): dictionary is empty'",
     "output_type": "error",
     "traceback": [
      "\u001b[1;31m---------------------------------------------------------------------------\u001b[0m",
      "\u001b[1;31mKeyError\u001b[0m                                  Traceback (most recent call last)",
      "\u001b[1;32m<ipython-input-65-a5a41fbdccdd>\u001b[0m in \u001b[0;36m<module>\u001b[1;34m\u001b[0m\n\u001b[0;32m      4\u001b[0m \u001b[1;31m# Displaying result\u001b[0m\u001b[1;33m\u001b[0m\u001b[1;33m\u001b[0m\u001b[1;33m\u001b[0m\u001b[0m\n\u001b[0;32m      5\u001b[0m \u001b[0mprint\u001b[0m\u001b[1;33m(\u001b[0m\u001b[0minventory\u001b[0m\u001b[1;33m)\u001b[0m\u001b[1;33m\u001b[0m\u001b[1;33m\u001b[0m\u001b[0m\n\u001b[1;32m----> 6\u001b[1;33m \u001b[0mp\u001b[0m \u001b[1;33m=\u001b[0m \u001b[0minventory\u001b[0m\u001b[1;33m.\u001b[0m\u001b[0mpopitem\u001b[0m\u001b[1;33m(\u001b[0m\u001b[1;33m)\u001b[0m\u001b[1;33m\u001b[0m\u001b[1;33m\u001b[0m\u001b[0m\n\u001b[0m\u001b[0;32m      7\u001b[0m \u001b[0mprint\u001b[0m\u001b[1;33m(\u001b[0m\u001b[1;34m\"Removed\"\u001b[0m\u001b[1;33m,\u001b[0m\u001b[0mp\u001b[0m\u001b[1;33m)\u001b[0m\u001b[1;33m\u001b[0m\u001b[1;33m\u001b[0m\u001b[0m\n\u001b[0;32m      8\u001b[0m \u001b[0mprint\u001b[0m\u001b[1;33m(\u001b[0m\u001b[0minventory\u001b[0m\u001b[1;33m)\u001b[0m\u001b[1;33m\u001b[0m\u001b[1;33m\u001b[0m\u001b[0m\n",
      "\u001b[1;31mKeyError\u001b[0m: 'popitem(): dictionary is empty'"
     ]
    }
   ],
   "source": [
    "# Python dictionary popitem() Method  \n",
    "# Creating a dictionary  \n",
    "inventory = {}  \n",
    "# Displaying result  \n",
    "print(inventory)  \n",
    "p = inventory.popitem()  \n",
    "print(\"Removed\",p)  \n",
    "print(inventory)  "
   ]
  },
  {
   "cell_type": "code",
   "execution_count": 69,
   "metadata": {},
   "outputs": [
    {
     "name": "stdout",
     "output_type": "stream",
     "text": [
      "{'shirts': 25, 'paints': 220, 'shocks': 525, 'tshirts': 217}\n",
      "removed :  ('tshirts', 217)\n",
      "{'shirts': 25, 'paints': 220, 'shocks': 525, 'pajama': 234}\n"
     ]
    }
   ],
   "source": [
    "e = {'shirts': 25, 'paints': 220, 'shocks': 525, 'tshirts': 217}  \n",
    "print(e)\n",
    "print(\"removed : \",e.popitem())\n",
    "e.update({\"pajama\":234})\n",
    "print(e)"
   ]
  },
  {
   "cell_type": "code",
   "execution_count": 70,
   "metadata": {},
   "outputs": [
    {
     "name": "stdout",
     "output_type": "stream",
     "text": [
      "default 2500\n",
      "{'B,Tech': 400000, 'BA': 2500, 'B.COM': 50000}\n"
     ]
    }
   ],
   "source": [
    "#A simple example, if key is present, it returns associated value.\n",
    "\n",
    "# Python dictionary setdefault() Method  \n",
    "# Creating a dictionary  \n",
    "coursefee = {'B,Tech': 400000, 'BA':2500, 'B.COM':50000}  \n",
    "# Displaying result  \n",
    "p = coursefee.setdefault('BA') # Returns it's value  \n",
    "print(\"default\",p)  \n",
    "print(coursefee) "
   ]
  },
  {
   "cell_type": "code",
   "execution_count": 71,
   "metadata": {},
   "outputs": [
    {
     "name": "stdout",
     "output_type": "stream",
     "text": [
      "default None\n",
      "{'B,Tech': 400000, 'BA': 2500, 'B.COM': 50000, 'BCA': None}\n"
     ]
    }
   ],
   "source": [
    "#If neither key nor default value is present, it returns None. See the following example.\n",
    "\n",
    "# Python dictionary setdefault() Method  \n",
    "# Creating a dictionary  \n",
    "coursefee = {'B,Tech': 400000, 'BA':2500, 'B.COM':50000}  \n",
    "# Displaying result  \n",
    "p = coursefee.setdefault('BCA') # Returns it's value  \n",
    "print(\"default\",p)  \n",
    "print(coursefee) "
   ]
  },
  {
   "cell_type": "code",
   "execution_count": 72,
   "metadata": {},
   "outputs": [
    {
     "name": "stdout",
     "output_type": "stream",
     "text": [
      "default 100000\n",
      "{'B,Tech': 400000, 'BA': 2500, 'B.COM': 50000, 'BCA': 100000}\n"
     ]
    }
   ],
   "source": [
    "#If key is not present but default value is set, it returns default value. See an example.\n",
    "\n",
    "# Python dictionary setdefault() Method  \n",
    "# Creating a dictionary  \n",
    "coursefee = {'B,Tech': 400000, 'BA':2500, 'B.COM':50000}  \n",
    "# Calling function  \n",
    "p = coursefee.setdefault('BCA',100000) # Returns it's value  \n",
    "# Displaying result  \n",
    "print(\"default\",p)  \n",
    "print(coursefee)  "
   ]
  },
  {
   "cell_type": "code",
   "execution_count": null,
   "metadata": {},
   "outputs": [],
   "source": []
  },
  {
   "cell_type": "code",
   "execution_count": null,
   "metadata": {},
   "outputs": [],
   "source": []
  },
  {
   "cell_type": "code",
   "execution_count": null,
   "metadata": {},
   "outputs": [],
   "source": []
  },
  {
   "cell_type": "code",
   "execution_count": null,
   "metadata": {},
   "outputs": [],
   "source": []
  }
 ],
 "metadata": {
  "kernelspec": {
   "display_name": "Python 3",
   "language": "python",
   "name": "python3"
  },
  "language_info": {
   "codemirror_mode": {
    "name": "ipython",
    "version": 3
   },
   "file_extension": ".py",
   "mimetype": "text/x-python",
   "name": "python",
   "nbconvert_exporter": "python",
   "pygments_lexer": "ipython3",
   "version": "3.7.3"
  }
 },
 "nbformat": 4,
 "nbformat_minor": 2
}
