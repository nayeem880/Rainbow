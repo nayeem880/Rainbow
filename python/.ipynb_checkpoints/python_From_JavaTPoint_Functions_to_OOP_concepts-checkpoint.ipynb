{
 "cells": [
  {
   "cell_type": "markdown",
   "metadata": {},
   "source": [
    "### Functions and oop concepts"
   ]
  },
  {
   "cell_type": "code",
   "execution_count": 1,
   "metadata": {},
   "outputs": [
    {
     "name": "stdout",
     "output_type": "stream",
     "text": [
      "This is tutorial of Python from JavaTpoint\n"
     ]
    }
   ],
   "source": [
    "print(\"This is tutorial of Python from JavaTpoint - Functions to OOP concepts\")"
   ]
  },
  {
   "cell_type": "code",
   "execution_count": 1,
   "metadata": {},
   "outputs": [
    {
     "name": "stdout",
     "output_type": "stream",
     "text": [
      "Hello there :  nayeem\n"
     ]
    }
   ],
   "source": [
    "def f(n):\n",
    "    print(\"Hello there : \",n)\n",
    "    \n",
    "f(\"nayeem\")"
   ]
  },
  {
   "cell_type": "code",
   "execution_count": 2,
   "metadata": {},
   "outputs": [
    {
     "name": "stdout",
     "output_type": "stream",
     "text": [
      "Hello world\n"
     ]
    }
   ],
   "source": [
    "def func():\n",
    "    print(\"Hello world\")\n",
    "    \n",
    "func()"
   ]
  },
  {
   "cell_type": "code",
   "execution_count": 2,
   "metadata": {},
   "outputs": [
    {
     "name": "stdout",
     "output_type": "stream",
     "text": [
      "Enter first number : 5\n",
      "Enter second number : 5\n",
      "sum is :  10\n"
     ]
    }
   ],
   "source": [
    "##sum of numbers using function\n",
    "\n",
    "def sum(a,b):\n",
    "    return (a+b)\n",
    "    \n",
    "a=int(input(\"Enter first number : \"))\n",
    "b=int(input(\"Enter second number : \"))\n",
    "\n",
    "print(\"sum is : \",sum(a,b))"
   ]
  },
  {
   "cell_type": "code",
   "execution_count": 4,
   "metadata": {},
   "outputs": [
    {
     "name": "stdout",
     "output_type": "stream",
     "text": [
      "[33, 22, 11]\n",
      "inside function :  [33, 22, 11, 55, 66]\n",
      "[33, 22, 11, 55, 66]\n"
     ]
    }
   ],
   "source": [
    "def change_list(list1):\n",
    "    list1.append(55)\n",
    "    list1.append(66)\n",
    "    print(\"inside function : \",list1)\n",
    "\n",
    "list1=[33,22,11]\n",
    "print(list1)\n",
    "change_list(list1)\n",
    "print(list1)"
   ]
  },
  {
   "cell_type": "code",
   "execution_count": 6,
   "metadata": {},
   "outputs": [
    {
     "name": "stdout",
     "output_type": "stream",
     "text": [
      "Hi I am there\n",
      "printing the string inside function : Hi I am there Hows you\n",
      "printing the string outside function : Hi I am there\n"
     ]
    }
   ],
   "source": [
    "#defining the function  \n",
    "def change_string (str):  \n",
    "    str = str + \" Hows you\";  \n",
    "    print(\"printing the string inside function :\",str);  \n",
    "  \n",
    "string1 = \"Hi I am there\"  \n",
    "print(string1)\n",
    "  \n",
    "#calling the function  \n",
    "change_string(string1)  \n",
    "  \n",
    "print(\"printing the string outside function :\",string1)  "
   ]
  },
  {
   "cell_type": "code",
   "execution_count": 8,
   "metadata": {},
   "outputs": [
    {
     "name": "stdout",
     "output_type": "stream",
     "text": [
      "printing the message with John and  hello\n",
      "printing the message with nick and  i am here\n"
     ]
    }
   ],
   "source": [
    "#function func is called with the name and message as the keyword arguments  \n",
    "def func(name,message):  \n",
    "    print(\"printing the message with\",name,\"and \",message)  \n",
    "func(name = \"John\",message=\"hello\") #name and message is copied with the values John and hello respectively\n",
    "\n",
    "func(\"nick\",\"i am here\")"
   ]
  },
  {
   "cell_type": "code",
   "execution_count": 12,
   "metadata": {},
   "outputs": [
    {
     "name": "stdout",
     "output_type": "stream",
     "text": [
      "My name is john and age is 22\n",
      "My name is john and age is 36\n",
      "My name is David and age is 10\n"
     ]
    }
   ],
   "source": [
    "def printme(name,age=22):  \n",
    "    print(\"My name is\",name,\"and age is\",age) \n",
    "printme(name = \"john\")\n",
    "printme(name = \"john\",age=36) #the variable age is not passed into the function however the default value of age is constant\n",
    "printme(age = 10,name=\"David\") "
   ]
  },
  {
   "cell_type": "code",
   "execution_count": 2,
   "metadata": {},
   "outputs": [
    {
     "name": "stdout",
     "output_type": "stream",
     "text": [
      "type of variable given is :  <class 'tuple'>\n",
      "nick\n",
      "adam\n",
      "55\n",
      "ritter\n"
     ]
    }
   ],
   "source": [
    "'''In the large projects, sometimes we may not know the number of arguments to be passed in advance. In such cases, Python provides us the flexibility to provide the comma separated values which are internally treated as tuples at the function call.\n",
    "\n",
    "However, at the function definition, we have to define the variable with * (star) as *<variable - name >.\n",
    "\n",
    "Consider the following example.'''\n",
    "\n",
    "\n",
    "def printnm(*names):\n",
    "    print(\"type of variable given is : \",type(names))\n",
    "    for i in names:\n",
    "        print(i)\n",
    "printnm('nick','adam',55,'ritter')"
   ]
  },
  {
   "cell_type": "code",
   "execution_count": 3,
   "metadata": {},
   "outputs": [
    {
     "name": "stdout",
     "output_type": "stream",
     "text": [
      "35\n"
     ]
    }
   ],
   "source": [
    "def sum_of_numbers(*args):\n",
    "    sum=0\n",
    "    for i in args:\n",
    "        sum=sum+i\n",
    "    print(sum)\n",
    "        \n",
    "sum_of_numbers(2,3,4,5,6,7,8)"
   ]
  },
  {
   "cell_type": "code",
   "execution_count": null,
   "metadata": {},
   "outputs": [],
   "source": []
  }
 ],
 "metadata": {
  "kernelspec": {
   "display_name": "Python 3",
   "language": "python",
   "name": "python3"
  },
  "language_info": {
   "codemirror_mode": {
    "name": "ipython",
    "version": 3
   },
   "file_extension": ".py",
   "mimetype": "text/x-python",
   "name": "python",
   "nbconvert_exporter": "python",
   "pygments_lexer": "ipython3",
   "version": "3.7.3"
  }
 },
 "nbformat": 4,
 "nbformat_minor": 2
}
