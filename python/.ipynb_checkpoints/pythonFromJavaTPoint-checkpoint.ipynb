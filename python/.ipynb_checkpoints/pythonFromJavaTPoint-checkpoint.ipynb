{
 "cells": [
  {
   "cell_type": "code",
   "execution_count": 1,
   "metadata": {},
   "outputs": [
    {
     "name": "stdout",
     "output_type": "stream",
     "text": [
      "This is tutorial of Python from JavaTpoint\n"
     ]
    }
   ],
   "source": [
    "print(\"This is tutorial of Python from JavaTpoint\")"
   ]
  },
  {
   "cell_type": "code",
   "execution_count": 20,
   "metadata": {},
   "outputs": [
    {
     "name": "stdout",
     "output_type": "stream",
     "text": [
      "('rahul', 20, 'karim', 556, 'ddd', 'dictionary', 222)\n",
      "('karim', 556, 'ddd', 'dictionary', 222)\n"
     ]
    }
   ],
   "source": [
    "tp = ('rahul',20,'karim',556)\n",
    "tp1=('ddd','dictionary',222)\n",
    "\n",
    "\n",
    "\n",
    "r = tp+tp1\n",
    "print(r)\n",
    "\n",
    "print(r[2:])"
   ]
  },
  {
   "cell_type": "code",
   "execution_count": 26,
   "metadata": {},
   "outputs": [
    {
     "name": "stdout",
     "output_type": "stream",
     "text": [
      "{'nick': 22, 'adam': 33, 'sarah': 999}\n",
      "dict_keys(['nick', 'adam', 'sarah'])\n",
      "dict_values([22, 33, 999])\n"
     ]
    }
   ],
   "source": [
    "dict= {'nick':22,'adam':33,'sarah':999}\n",
    "print(dict)\n",
    "\n",
    "print(dict.keys())\n",
    "print(dict.values())\n"
   ]
  },
  {
   "cell_type": "code",
   "execution_count": 34,
   "metadata": {},
   "outputs": [
    {
     "name": "stdout",
     "output_type": "stream",
     "text": [
      "3rd name is john\n",
      "2nd name is Alex\n"
     ]
    },
    {
     "ename": "TypeError",
     "evalue": "can only concatenate str (not \"int\") to str",
     "output_type": "error",
     "traceback": [
      "\u001b[1;31m---------------------------------------------------------------------------\u001b[0m",
      "\u001b[1;31mTypeError\u001b[0m                                 Traceback (most recent call last)",
      "\u001b[1;32m<ipython-input-34-68a656206a7f>\u001b[0m in \u001b[0;36m<module>\u001b[1;34m\u001b[0m\n\u001b[0;32m      2\u001b[0m \u001b[0mprint\u001b[0m\u001b[1;33m(\u001b[0m\u001b[1;34m\"3rd name is \"\u001b[0m\u001b[1;33m+\u001b[0m\u001b[0md\u001b[0m\u001b[1;33m[\u001b[0m\u001b[1;36m3\u001b[0m\u001b[1;33m]\u001b[0m\u001b[1;33m)\u001b[0m\u001b[1;33m;\u001b[0m\u001b[1;33m\u001b[0m\u001b[1;33m\u001b[0m\u001b[0m\n\u001b[0;32m      3\u001b[0m \u001b[0mprint\u001b[0m\u001b[1;33m(\u001b[0m\u001b[1;34m\"2nd name is \"\u001b[0m\u001b[1;33m+\u001b[0m \u001b[0md\u001b[0m\u001b[1;33m[\u001b[0m\u001b[1;36m2\u001b[0m\u001b[1;33m]\u001b[0m\u001b[1;33m)\u001b[0m\u001b[1;33m;\u001b[0m\u001b[1;33m\u001b[0m\u001b[1;33m\u001b[0m\u001b[0m\n\u001b[1;32m----> 4\u001b[1;33m \u001b[0mprint\u001b[0m\u001b[1;33m(\u001b[0m\u001b[1;34m\"2nd name is \"\u001b[0m\u001b[1;33m+\u001b[0m \u001b[0md\u001b[0m\u001b[1;33m[\u001b[0m\u001b[1;34m'mike'\u001b[0m\u001b[1;33m]\u001b[0m\u001b[1;33m)\u001b[0m\u001b[1;33m;\u001b[0m\u001b[1;33m\u001b[0m\u001b[1;33m\u001b[0m\u001b[0m\n\u001b[0m",
      "\u001b[1;31mTypeError\u001b[0m: can only concatenate str (not \"int\") to str"
     ]
    }
   ],
   "source": [
    "d = {1:'Jimmy', 2:'Alex', 3:'john', 'mike':44};   \n",
    "print(\"3rd name is \"+d[3]);  \n",
    "print(\"2nd name is \"+ d[2]);  \n",
    "print(\"2nd name is \"+ d['mike']);  "
   ]
  },
  {
   "cell_type": "code",
   "execution_count": 43,
   "metadata": {},
   "outputs": [
    {
     "name": "stdout",
     "output_type": "stream",
     "text": [
      "hellouser\n",
      "\n",
      "hello\n",
      "\n",
      "user\n",
      "\n",
      "hello there i am typing here\n",
      "about my working directory\n",
      "please check all out\n",
      "\n",
      "\n"
     ]
    }
   ],
   "source": [
    "text='''hello\\\n",
    "user\n",
    "\n",
    "hello\\n\n",
    "user\n",
    "\n",
    "hello there i am typing here\n",
    "about my working directory\n",
    "please check all out\n",
    "\n",
    "'''\n",
    "\n",
    "print(text)"
   ]
  },
  {
   "cell_type": "code",
   "execution_count": 3,
   "metadata": {},
   "outputs": [
    {
     "name": "stdout",
     "output_type": "stream",
     "text": [
      "hello\n",
      "user\n"
     ]
    }
   ],
   "source": [
    "print(\"hello\\nuser\")"
   ]
  },
  {
   "cell_type": "code",
   "execution_count": 5,
   "metadata": {},
   "outputs": [
    {
     "name": "stdout",
     "output_type": "stream",
     "text": [
      "<class 'int'>\n",
      "<class 'str'>\n",
      "<class 'float'>\n"
     ]
    }
   ],
   "source": [
    "a=272\n",
    "b=\"name\"\n",
    "c=34.55\n",
    "print(type(a))\n",
    "print(type(b))\n",
    "print(type(c))"
   ]
  },
  {
   "cell_type": "markdown",
   "metadata": {},
   "source": [
    "string and tupples are immutable but list is mutable "
   ]
  },
  {
   "cell_type": "markdown",
   "metadata": {},
   "source": [
    "True\tFalse\tNone\tand\tas\n",
    "asset\tdef\tclass\tcontinue\tbreak\n",
    "else\tfinally\telif\tdel\texcept\n",
    "global\tfor\tif\tfrom\timport\n",
    "raise\ttry\tor\treturn\tpass\n",
    "nonlocal\tin\tnot\tis\tlambda"
   ]
  },
  {
   "cell_type": "code",
   "execution_count": 6,
   "metadata": {},
   "outputs": [
    {
     "name": "stdout",
     "output_type": "stream",
     "text": [
      "hellouser\n"
     ]
    }
   ],
   "source": [
    "print('hello\\\n",
    "user')"
   ]
  },
  {
   "cell_type": "markdown",
   "metadata": {},
   "source": [
    "**\tThe exponent operator is given priority over all the others used in the expression.\n",
    "~ + -\tThe negation, unary plus and minus.\n",
    "* / % //\tThe multiplication, divide, modules, reminder, and floor division.\n",
    "+ -\tBinary plus and minus\n",
    ">> <<\tLeft shift and right shift\n",
    "&\tBinary and.\n",
    "^ |\tBinary xor and or\n",
    "<= < > >=\tComparison operators (less then, less then equal to, greater then, greater then equal to).\n",
    "<> == !=\tEquality operators.\n",
    "= %= /= //= -= +=\n",
    "*= **=\tAssignment operators\n",
    "is is not\tIdentity operators\n",
    "in not in\tMembership operators\n",
    "not or and\tLogical operators"
   ]
  },
  {
   "cell_type": "code",
   "execution_count": 13,
   "metadata": {},
   "outputs": [
    {
     "name": "stdout",
     "output_type": "stream",
     "text": [
      "enter any number: 10\n",
      "10 X 1 : 10\n",
      "10 X 2 : 20\n",
      "10 X 3 : 30\n",
      "10 X 4 : 40\n",
      "10 X 5 : 50\n",
      "10 X 6 : 60\n",
      "10 X 7 : 70\n",
      "10 X 8 : 80\n",
      "10 X 9 : 90\n"
     ]
    }
   ],
   "source": [
    "num=int(input(\"enter any number: \"))\n",
    "\n",
    "for i in range(1,10):\n",
    "    print(\"%d X %d : %d\"%(num,i,num*i))"
   ]
  },
  {
   "cell_type": "code",
   "execution_count": 25,
   "metadata": {},
   "outputs": [
    {
     "name": "stdout",
     "output_type": "stream",
     "text": [
      "enter the row number you want to print : 10\n",
      "\n",
      "* \n",
      "* * \n",
      "* * * \n",
      "* * * * \n",
      "* * * * * \n",
      "* * * * * * \n",
      "* * * * * * * \n",
      "* * * * * * * * \n",
      "* * * * * * * * * \n",
      "* * * * * * * * * * "
     ]
    }
   ],
   "source": [
    "num = int(input(\"enter the row number you want to print : \"))\n",
    "\n",
    "for i in range(0,num):\n",
    "    print()\n",
    "    for j in range(0,i+1):\n",
    "        print(\"*\",end=\" \")\n"
   ]
  },
  {
   "cell_type": "code",
   "execution_count": 33,
   "metadata": {},
   "outputs": [
    {
     "name": "stdout",
     "output_type": "stream",
     "text": [
      "0 1 2 3 4 "
     ]
    }
   ],
   "source": [
    "for i in range(0,11):\n",
    "    if (i==5):\n",
    "        break\n",
    "    print(i,end=\" \")\n",
    "\n",
    "        \n",
    "    \n",
    "    "
   ]
  },
  {
   "cell_type": "code",
   "execution_count": null,
   "metadata": {},
   "outputs": [],
   "source": [
    "print()"
   ]
  },
  {
   "cell_type": "code",
   "execution_count": 4,
   "metadata": {},
   "outputs": [
    {
     "name": "stdout",
     "output_type": "stream",
     "text": [
      "True\n"
     ]
    }
   ],
   "source": [
    "str=\"nimmo\"\n",
    "\n",
    "print('a'not in str)"
   ]
  },
  {
   "cell_type": "code",
   "execution_count": 6,
   "metadata": {},
   "outputs": [
    {
     "name": "stdout",
     "output_type": "stream",
     "text": [
      "the name is nick williams\n"
     ]
    }
   ],
   "source": [
    "str=\"nick williams\"\n",
    "print(\"the name is %s\"%(str))"
   ]
  },
  {
   "cell_type": "code",
   "execution_count": 7,
   "metadata": {},
   "outputs": [
    {
     "name": "stdout",
     "output_type": "stream",
     "text": [
      "the name of employee is : nick williams, age is : 22 and profession is : programmer and ai developer\n"
     ]
    }
   ],
   "source": [
    "list=[\"nick williams\",22,\"programmer and ai developer\"]\n",
    "\n",
    "print(\"the name of employee is : %s, age is : %d and profession is : %s\"%(list[0],list[1],list[2]))"
   ]
  },
  {
   "cell_type": "code",
   "execution_count": 14,
   "metadata": {},
   "outputs": [
    {
     "name": "stdout",
     "output_type": "stream",
     "text": [
      "printing employee data...\n",
      "Department 1:\n",
      "Name: CS, ID: 11\n",
      "Department 2:\n",
      "Name: IT, ID: 11\n",
      "HOD Details ....\n",
      "CS HOD Name: Mr. Holding, Id: 10\n",
      "IT HOD Name: Mr. Bewon, Id: 11\n"
     ]
    }
   ],
   "source": [
    "Dep1 = [\"CS\",10];  \n",
    "Dep2 = [\"IT\",11]; \n",
    "HOD_CS = [10,\"Mr. Holding\"]  \n",
    "HOD_IT = [11, \"Mr. Bewon\"]  \n",
    "print(\"printing employee data...\")\n",
    "print(\"Department 1:\\nName: %s, ID: %d\\nDepartment 2:\\nName: %s, ID: %s\"%(Dep1[0],Dep2[1],Dep2[0],Dep2[1]))\n",
    "print(\"HOD Details ....\");  \n",
    "print(\"CS HOD Name: %s, Id: %d\"%(HOD_CS[1],HOD_CS[0]));  \n",
    "print(\"IT HOD Name: %s, Id: %d\"%(HOD_IT[1],HOD_IT[0]));  \n"
   ]
  },
  {
   "cell_type": "code",
   "execution_count": 10,
   "metadata": {},
   "outputs": [
    {
     "name": "stdout",
     "output_type": "stream",
     "text": [
      "Enter the number of elements in the list4\n",
      "Enter the item?nm\n",
      "Enter the item?mn\n",
      "Enter the item?mm\n",
      "Enter the item?dd\n",
      "printing the list items....\n",
      "nm  mn  mm  dd  "
     ]
    }
   ],
   "source": [
    "l =[];  \n",
    "n = int(input(\"Enter the number of elements in the list\")); #Number of elements will be entered by the user  \n",
    "for i in range(0,n): # for loop to take the input  \n",
    "    l.append(input(\"Enter the item?\")); # The input is taken from the user and added to the list as the item  \n",
    "print(\"printing the list items....\");   \n",
    "for i in l: # traversal loop to print the list items  \n",
    "    print(i, end = \"  \");   "
   ]
  },
  {
   "cell_type": "code",
   "execution_count": 12,
   "metadata": {},
   "outputs": [
    {
     "name": "stdout",
     "output_type": "stream",
     "text": [
      "enter the number of element you want to take : 4\n",
      "enter elements: ff\n",
      "enter elements: gg\n",
      "enter elements: hh\n",
      "enter elements: jj\n",
      "printing the elements : \n",
      "ff gg hh jj "
     ]
    }
   ],
   "source": [
    "list =[]\n",
    "n=int(input(\"enter the number of element you want to take : \"))\n",
    "\n",
    "for i in range(0,n):\n",
    "    elements=str((input(\"enter elements: \")))\n",
    "    list.append(elements)\n",
    "    \n",
    "print(\"printing the elements : \")\n",
    "for i in list:\n",
    "    print(i, end =\" \")"
   ]
  },
  {
   "cell_type": "code",
   "execution_count": 16,
   "metadata": {},
   "outputs": [
    {
     "name": "stdout",
     "output_type": "stream",
     "text": [
      "1 2 3 4 5 6 \n",
      "printing the lisft after removal of elements : \n",
      "[1, 2, 4, 5, 6]\n"
     ]
    }
   ],
   "source": [
    "list=[1,2,3,4,5,6]\n",
    "for i in list:\n",
    "    print(i,end=\" \")\n",
    "    \n",
    "print()    \n",
    "list.remove(3)\n",
    "print(\"printing the lisft after removal of elements : \")\n",
    "print(list)"
   ]
  },
  {
   "cell_type": "code",
   "execution_count": 4,
   "metadata": {},
   "outputs": [
    {
     "data": {
      "text/plain": [
       "['williams', 33, 'nick']"
      ]
     },
     "execution_count": 4,
     "metadata": {},
     "output_type": "execute_result"
    }
   ],
   "source": [
    "seq=\"williams\",33,\"nick\"\n",
    "\n",
    "list(seq)"
   ]
  },
  {
   "cell_type": "code",
   "execution_count": 5,
   "metadata": {},
   "outputs": [
    {
     "data": {
      "text/plain": [
       "4"
      ]
     },
     "execution_count": 5,
     "metadata": {},
     "output_type": "execute_result"
    }
   ],
   "source": [
    "li=[1,2,3,5]\n",
    "li1=[4,5,6,7]\n",
    "len(li)"
   ]
  },
  {
   "cell_type": "code",
   "execution_count": 8,
   "metadata": {},
   "outputs": [
    {
     "name": "stdout",
     "output_type": "stream",
     "text": [
      "[1, 2, 3, 4, 5, 67, [55, 66, 77]]\n"
     ]
    }
   ],
   "source": [
    "list = [1,2,3,4,5]\n",
    "list.append(67)\n",
    "list2=[55,66,77]\n",
    "\n",
    "list.append(list2)\n",
    "print(list)"
   ]
  },
  {
   "cell_type": "code",
   "execution_count": 14,
   "metadata": {},
   "outputs": [
    {
     "name": "stdout",
     "output_type": "stream",
     "text": [
      "tuple[0] = 10\n",
      "tuple[1] = 20\n",
      "tuple[2] = 30\n",
      "tuple[3] = 40\n",
      "tuple[4] = 50\n",
      "tuple[5] = 60\n"
     ]
    }
   ],
   "source": [
    "tuple1 = (10, 20, 30, 40, 50, 60)  \n",
    "\n",
    "\n",
    "for j in range(0,len(tuple1)):\n",
    "        print(\"tuple[%d] = %d\"%(j,tuple1[j]))\n",
    "        \n",
    "         \n",
    "        \n",
    "   "
   ]
  },
  {
   "cell_type": "code",
   "execution_count": 23,
   "metadata": {},
   "outputs": [
    {
     "name": "stdout",
     "output_type": "stream",
     "text": [
      "enter the tuple elements : nayeem\n",
      "first tuple is :  ('n', 'a', 'y', 'e', 'e', 'm')\n"
     ]
    }
   ],
   "source": [
    "tp1=tuple(input(\"enter the tuple elements : \"))\n",
    "print(\"first tuple is : \",tp1)"
   ]
  },
  {
   "cell_type": "code",
   "execution_count": 15,
   "metadata": {},
   "outputs": [
    {
     "name": "stdout",
     "output_type": "stream",
     "text": [
      "enter the tuple elements : bahs\n",
      "first list is :  ['b', 'a', 'h', 's']\n"
     ]
    }
   ],
   "source": [
    "lis=list(input(\"enter the tuple elements : \"))\n",
    "print(\"first list is : \",lis)"
   ]
  },
  {
   "cell_type": "code",
   "execution_count": 25,
   "metadata": {},
   "outputs": [
    {
     "name": "stdout",
     "output_type": "stream",
     "text": [
      "(1, 2, 3, 4, 5, 6)\n"
     ]
    },
    {
     "ename": "TypeError",
     "evalue": "'tuple' object doesn't support item deletion",
     "output_type": "error",
     "traceback": [
      "\u001b[1;31m---------------------------------------------------------------------------\u001b[0m",
      "\u001b[1;31mTypeError\u001b[0m                                 Traceback (most recent call last)",
      "\u001b[1;32m<ipython-input-25-5bc7f270ec4a>\u001b[0m in \u001b[0;36m<module>\u001b[1;34m\u001b[0m\n\u001b[0;32m      1\u001b[0m \u001b[0mtuple1\u001b[0m \u001b[1;33m=\u001b[0m \u001b[1;33m(\u001b[0m\u001b[1;36m1\u001b[0m\u001b[1;33m,\u001b[0m \u001b[1;36m2\u001b[0m\u001b[1;33m,\u001b[0m \u001b[1;36m3\u001b[0m\u001b[1;33m,\u001b[0m \u001b[1;36m4\u001b[0m\u001b[1;33m,\u001b[0m \u001b[1;36m5\u001b[0m\u001b[1;33m,\u001b[0m \u001b[1;36m6\u001b[0m\u001b[1;33m)\u001b[0m\u001b[1;33m\u001b[0m\u001b[1;33m\u001b[0m\u001b[0m\n\u001b[0;32m      2\u001b[0m \u001b[0mprint\u001b[0m\u001b[1;33m(\u001b[0m\u001b[0mtuple1\u001b[0m\u001b[1;33m)\u001b[0m\u001b[1;33m\u001b[0m\u001b[1;33m\u001b[0m\u001b[0m\n\u001b[1;32m----> 3\u001b[1;33m \u001b[1;32mdel\u001b[0m \u001b[0mtuple1\u001b[0m\u001b[1;33m[\u001b[0m\u001b[1;36m0\u001b[0m\u001b[1;33m]\u001b[0m\u001b[1;33m\u001b[0m\u001b[1;33m\u001b[0m\u001b[0m\n\u001b[0m\u001b[0;32m      4\u001b[0m \u001b[0mprint\u001b[0m\u001b[1;33m(\u001b[0m\u001b[0mtuple1\u001b[0m\u001b[1;33m)\u001b[0m\u001b[1;33m\u001b[0m\u001b[1;33m\u001b[0m\u001b[0m\n\u001b[0;32m      5\u001b[0m \u001b[1;33m\u001b[0m\u001b[0m\n",
      "\u001b[1;31mTypeError\u001b[0m: 'tuple' object doesn't support item deletion"
     ]
    }
   ],
   "source": [
    "tuple1 = (1, 2, 3, 4, 5, 6)  \n",
    "print(tuple1)  \n",
    "del tuple1[0]  \n",
    "print(tuple1)  \n",
    "\n",
    "#tuple' object doesn't support item deletion"
   ]
  },
  {
   "cell_type": "code",
   "execution_count": 31,
   "metadata": {},
   "outputs": [
    {
     "name": "stdout",
     "output_type": "stream",
     "text": [
      "(1, 2, 34, 5, 6, 66)\n",
      "34\n",
      "66\n",
      "length of tuple is :  6\n"
     ]
    },
    {
     "ename": "TypeError",
     "evalue": "'tuple' object doesn't support item deletion",
     "output_type": "error",
     "traceback": [
      "\u001b[1;31m---------------------------------------------------------------------------\u001b[0m",
      "\u001b[1;31mTypeError\u001b[0m                                 Traceback (most recent call last)",
      "\u001b[1;32m<ipython-input-31-223dd2f877d4>\u001b[0m in \u001b[0;36m<module>\u001b[1;34m\u001b[0m\n\u001b[0;32m      4\u001b[0m \u001b[0mprint\u001b[0m\u001b[1;33m(\u001b[0m\u001b[0mtup\u001b[0m\u001b[1;33m[\u001b[0m\u001b[1;33m-\u001b[0m\u001b[1;36m1\u001b[0m\u001b[1;33m]\u001b[0m\u001b[1;33m)\u001b[0m\u001b[1;33m\u001b[0m\u001b[1;33m\u001b[0m\u001b[0m\n\u001b[0;32m      5\u001b[0m \u001b[0mprint\u001b[0m\u001b[1;33m(\u001b[0m\u001b[1;34m\"length of tuple is : \"\u001b[0m\u001b[1;33m,\u001b[0m\u001b[0mlen\u001b[0m\u001b[1;33m(\u001b[0m\u001b[0mtup\u001b[0m\u001b[1;33m)\u001b[0m\u001b[1;33m)\u001b[0m\u001b[1;33m\u001b[0m\u001b[1;33m\u001b[0m\u001b[0m\n\u001b[1;32m----> 6\u001b[1;33m \u001b[1;32mdel\u001b[0m \u001b[0mtup\u001b[0m\u001b[1;33m[\u001b[0m\u001b[1;36m3\u001b[0m\u001b[1;33m]\u001b[0m\u001b[1;33m\u001b[0m\u001b[1;33m\u001b[0m\u001b[0m\n\u001b[0m",
      "\u001b[1;31mTypeError\u001b[0m: 'tuple' object doesn't support item deletion"
     ]
    }
   ],
   "source": [
    "tup=(1,2,34,5,6,66)\n",
    "print(tup)\n",
    "print(tup[2])\n",
    "print(tup[-1])\n",
    "print(\"length of tuple is : \",len(tup))\n",
    "del tup[3]"
   ]
  },
  {
   "cell_type": "code",
   "execution_count": 22,
   "metadata": {},
   "outputs": [
    {
     "name": "stdout",
     "output_type": "stream",
     "text": [
      "('nayeem', 2, 'nm')\n",
      "('n', 'a', 'y', 'e', 'e', 'm')\n",
      "nm\n"
     ]
    },
    {
     "ename": "TypeError",
     "evalue": "'tuple' object does not support item assignment",
     "output_type": "error",
     "traceback": [
      "\u001b[1;31m---------------------------------------------------------------------------\u001b[0m",
      "\u001b[1;31mTypeError\u001b[0m                                 Traceback (most recent call last)",
      "\u001b[1;32m<ipython-input-22-414deafa67d9>\u001b[0m in \u001b[0;36m<module>\u001b[1;34m\u001b[0m\n\u001b[0;32m      8\u001b[0m \u001b[0mprint\u001b[0m\u001b[1;33m(\u001b[0m\u001b[0mtup\u001b[0m\u001b[1;33m[\u001b[0m\u001b[1;36m2\u001b[0m\u001b[1;33m]\u001b[0m\u001b[1;33m)\u001b[0m\u001b[1;33m\u001b[0m\u001b[1;33m\u001b[0m\u001b[0m\n\u001b[0;32m      9\u001b[0m \u001b[1;33m\u001b[0m\u001b[0m\n\u001b[1;32m---> 10\u001b[1;33m \u001b[0mtup\u001b[0m\u001b[1;33m[\u001b[0m\u001b[1;36m3\u001b[0m\u001b[1;33m:\u001b[0m\u001b[1;33m]\u001b[0m\u001b[1;33m=\u001b[0m\u001b[1;34m'ms'\u001b[0m\u001b[1;33m,\u001b[0m\u001b[1;36m44\u001b[0m\u001b[1;33m\u001b[0m\u001b[1;33m\u001b[0m\u001b[0m\n\u001b[0m\u001b[0;32m     11\u001b[0m \u001b[0mprint\u001b[0m\u001b[1;33m(\u001b[0m\u001b[0mtup\u001b[0m\u001b[1;33m)\u001b[0m\u001b[1;33m\u001b[0m\u001b[1;33m\u001b[0m\u001b[0m\n\u001b[0;32m     12\u001b[0m \u001b[1;33m\u001b[0m\u001b[0m\n",
      "\u001b[1;31mTypeError\u001b[0m: 'tuple' object does not support item assignment"
     ]
    }
   ],
   "source": [
    "seq=\"nayeem\",2,\"nm\"\n",
    "se=\"nayeem\"\n",
    "\n",
    "tup=tuple(seq)\n",
    "print(tup)\n",
    "print(tuple(se))\n",
    "\n",
    "print(tup[2])\n",
    "\n",
    "tup[3:]='ms',44\n",
    "print(tup)\n",
    "\n"
   ]
  },
  {
   "cell_type": "code",
   "execution_count": 29,
   "metadata": {},
   "outputs": [
    {
     "name": "stdout",
     "output_type": "stream",
     "text": [
      "['nayeem', 3, 'nm']\n",
      "['m', 's', 'm', 'd', 'j', 'f', 'd']\n",
      "['nayeem', 3, 'nm', 'ms', 44]\n"
     ]
    },
    {
     "data": {
      "text/plain": [
       "['nayeem', 3, 'ms', 44]"
      ]
     },
     "execution_count": 29,
     "metadata": {},
     "output_type": "execute_result"
    }
   ],
   "source": [
    "seq=\"nayeem\",3,\"nm\"\n",
    "se=\"msmdjfd\"\n",
    "\n",
    "list2=list(seq)\n",
    "print(list2)\n",
    "print(list(se))\n",
    "\n",
    "list2[3:]='ms',44\n",
    "print(list2)\n",
    "\n",
    "list2.remove(\"nm\")\n",
    "list2"
   ]
  },
  {
   "cell_type": "code",
   "execution_count": 10,
   "metadata": {},
   "outputs": [
    {
     "name": "stdout",
     "output_type": "stream",
     "text": [
      "----Printing list----\n",
      "(101, 'Ayush', 22)\n",
      "(102, 'john', 29)\n",
      "(103, 'james', 45)\n",
      "(104, 'Ben', 34)\n",
      "\n",
      "----Printing list after modification----\n",
      "(110, 'David', 22)\n",
      "(102, 'john', 29)\n",
      "(103, 'james', 45)\n",
      "(104, 'Ben', 34)\n"
     ]
    }
   ],
   "source": [
    "Employees = [(101, \"Ayush\", 22), (102, \"john\", 29), (103, \"james\", 45), (104, \"Ben\", 34)]  \n",
    "print(\"----Printing list----\");   \n",
    "for i in Employees:  \n",
    "    print(i)  \n",
    "Employees[0] = (110, \"David\",22)  \n",
    "print();  \n",
    "print(\"----Printing list after modification----\");  \n",
    "for i in Employees:   \n",
    "    print(i)  "
   ]
  },
  {
   "cell_type": "code",
   "execution_count": 3,
   "metadata": {},
   "outputs": [
    {
     "name": "stdout",
     "output_type": "stream",
     "text": [
      "[1, 'nam', 33, 666, 'mango', 'banana']\n",
      "[1, 'nam', 33, 666, 'mango', 'banana', 'nick']\n",
      "[]\n",
      "['banana', 'mango', 33, 666, 33, 'nam', 1]\n",
      "2\n",
      "['banana', 'mango', 666, 33, 'nam', 1]\n",
      "['banana', 'mango', 666, 'ninini', 33, 'nam', 1]\n"
     ]
    }
   ],
   "source": [
    "list=[1,\"nam\",33,666,\"mango\",'banana']\n",
    "print(list)\n",
    "list.append(\"nick\")\n",
    "print(list)\n",
    "list.copy()\n",
    "list.clear()\n",
    "print(list)\n",
    "\n",
    "list=[1,\"nam\",33,666,33,\"mango\",'banana']\n",
    "list.reverse()\n",
    "print(list)\n",
    "print(list.count(33))\n",
    "\n",
    "list.remove(33) #remove() will remove only one copy of 33 \n",
    "print(list)\n",
    "list.insert(3,\"ninini\")\n",
    "print(list)"
   ]
  },
  {
   "cell_type": "code",
   "execution_count": 1,
   "metadata": {},
   "outputs": [],
   "source": [
    "list=[1,\"nam\",33,666,33,\"mango\",'banana']\n",
    "\n",
    "list.extend(\"nam\")\n"
   ]
  },
  {
   "cell_type": "code",
   "execution_count": 14,
   "metadata": {},
   "outputs": [
    {
     "name": "stdout",
     "output_type": "stream",
     "text": [
      "[1, 'nam', 33, 666, 33, 'banana']\n"
     ]
    }
   ],
   "source": [
    "list=[1,\"nam\",33,666,33,\"mango\",'banana']\n",
    "list.pop(5)\n",
    "print(list)"
   ]
  },
  {
   "cell_type": "code",
   "execution_count": 15,
   "metadata": {},
   "outputs": [
    {
     "name": "stdout",
     "output_type": "stream",
     "text": [
      "1\n",
      "2\n",
      "3\n",
      "After inserting:\n",
      "1\n",
      "2\n",
      "3\n",
      "['4', '5', '6']\n"
     ]
    }
   ],
   "source": [
    "list = ['1','2','3']  \n",
    "for l in list:  # Iterating list  \n",
    "    print(l)  \n",
    "      \n",
    "list.insert(3,['4','5','6'])  \n",
    "print(\"After inserting:\")  \n",
    "for l in list:  # Iterating list  \n",
    "    print(l)  "
   ]
  },
  {
   "cell_type": "code",
   "execution_count": 16,
   "metadata": {},
   "outputs": [
    {
     "name": "stdout",
     "output_type": "stream",
     "text": [
      "1\n",
      "2\n",
      "3\n",
      "After inserting:\n",
      "1\n",
      "2\n",
      "3\n",
      "('4', '5', '6')\n"
     ]
    }
   ],
   "source": [
    "list = ['1','2','3']  \n",
    "for l in list:  # Iterating list  \n",
    "    print(l)  \n",
    "      \n",
    "list.insert(3,('4','5','6'))  \n",
    "print(\"After inserting:\")  \n",
    "for l in list:  # Iterating list  \n",
    "    print(l)  "
   ]
  },
  {
   "cell_type": "code",
   "execution_count": 18,
   "metadata": {},
   "outputs": [
    {
     "name": "stdout",
     "output_type": "stream",
     "text": [
      "1\n",
      "2\n",
      "3\n",
      "After inserting:\n",
      "1\n",
      "2\n",
      "{'6', '4', '5'}\n",
      "3\n"
     ]
    }
   ],
   "source": [
    "# Python list insert() Method  \n",
    "# Creating a list  \n",
    "list = ['1','2','3']  \n",
    "for l in list:  # Iterating list  \n",
    "    print(l)  \n",
    "      \n",
    "list.insert(2,{'4','5','6'})  \n",
    "print(\"After inserting:\")  \n",
    "for l in list:  # Iterating list  \n",
    "    print(l)  "
   ]
  },
  {
   "cell_type": "code",
   "execution_count": 67,
   "metadata": {},
   "outputs": [
    {
     "name": "stdout",
     "output_type": "stream",
     "text": [
      "[1, 'nam', 33, 666, 33, 'mango', 'banana', 'n', 'i', 'c', 'k']\n"
     ]
    },
    {
     "ename": "TypeError",
     "evalue": "'int' object is not iterable",
     "output_type": "error",
     "traceback": [
      "\u001b[1;31m---------------------------------------------------------------------------\u001b[0m",
      "\u001b[1;31mTypeError\u001b[0m                                 Traceback (most recent call last)",
      "\u001b[1;32m<ipython-input-67-040576331209>\u001b[0m in \u001b[0;36m<module>\u001b[1;34m\u001b[0m\n\u001b[0;32m      5\u001b[0m \u001b[0mprint\u001b[0m\u001b[1;33m(\u001b[0m\u001b[0mlist\u001b[0m\u001b[1;33m)\u001b[0m\u001b[1;33m\u001b[0m\u001b[1;33m\u001b[0m\u001b[0m\n\u001b[0;32m      6\u001b[0m \u001b[1;33m\u001b[0m\u001b[0m\n\u001b[1;32m----> 7\u001b[1;33m \u001b[0mlist\u001b[0m\u001b[1;33m.\u001b[0m\u001b[0mextend\u001b[0m\u001b[1;33m(\u001b[0m\u001b[1;36m55\u001b[0m\u001b[1;33m)\u001b[0m\u001b[1;33m\u001b[0m\u001b[1;33m\u001b[0m\u001b[0m\n\u001b[0m\u001b[0;32m      8\u001b[0m \u001b[0mlist\u001b[0m\u001b[1;33m\u001b[0m\u001b[1;33m\u001b[0m\u001b[0m\n",
      "\u001b[1;31mTypeError\u001b[0m: 'int' object is not iterable"
     ]
    }
   ],
   "source": [
    "list=[1,\"nam\",33,666,33,\"mango\",'banana']\n",
    "\n",
    "\n",
    "list.extend(\"nick\")\n",
    "print(list)\n",
    "\n",
    "list.extend(55)\n",
    "list"
   ]
  },
  {
   "cell_type": "code",
   "execution_count": 62,
   "metadata": {},
   "outputs": [
    {
     "name": "stdout",
     "output_type": "stream",
     "text": [
      "[1, 'nam', 33, 666, 33, 'mango', 'banana', 'dff', 'jhj']\n",
      "[1, 'nam', 33, 666, 33, 'mango', 'banana', 'dff', 'jhj', 'n', 'a', 'm', 'e']\n",
      "\n",
      "\n",
      "\n",
      "experiment using list\n",
      "\n",
      "\n",
      "\n",
      "[1, 'nam', 33, 666, 33, 'mango', 'banana', 'nm', 'jh']\n",
      "[1, 'nam', 33, 666, 33, 'mango', 'banana', 'nm', 'jh', 'nm']\n"
     ]
    }
   ],
   "source": [
    "list=[1,\"nam\",33,666,33,\"mango\",'banana']\n",
    "seq=('dff','jhj')\n",
    "se=('name')\n",
    "\n",
    "list.extend(seq)\n",
    "print(list)\n",
    "list.extend(se)\n",
    "print(list)\n",
    "\n",
    "\n",
    "print(\"\\n\\n\\nexperiment using list\\n\\n\\n\")\n",
    "\n",
    "list=[1,\"nam\",33,666,33,\"mango\",'banana']\n",
    "q=['nm','jh']\n",
    "list.extend(q)\n",
    "print(list)\n",
    "pp=['nm']\n",
    "list.extend(pp)\n",
    "print(list)\n",
    "\n"
   ]
  },
  {
   "cell_type": "code",
   "execution_count": 58,
   "metadata": {},
   "outputs": [
    {
     "name": "stdout",
     "output_type": "stream",
     "text": [
      "[1, 'nam', 33, 666, 33, 'mango', 'banana', 'nm', 'jh']\n",
      "[1, 'nam', 33, 666, 33, 'mango', 'banana', 'nm', 'jh', 'nm']\n"
     ]
    }
   ],
   "source": [
    "list=[1,\"nam\",33,666,33,\"mango\",'banana']\n",
    "q={'nm','jh'}\n",
    "list.extend(q)\n",
    "print(list)\n",
    "pp={'nm'}\n",
    "list.extend(pp)\n",
    "print(list)\n",
    "\n"
   ]
  },
  {
   "cell_type": "code",
   "execution_count": 25,
   "metadata": {},
   "outputs": [
    {
     "name": "stdout",
     "output_type": "stream",
     "text": [
      "2\n",
      "5\n"
     ]
    }
   ],
   "source": [
    "list=[1,\"nam\",33,666,33,\"mango\",'banana']\n",
    "print(list.index(33))\n",
    "print(list.index(\"mango\"))\n"
   ]
  },
  {
   "cell_type": "code",
   "execution_count": 46,
   "metadata": {},
   "outputs": [
    {
     "name": "stdout",
     "output_type": "stream",
     "text": [
      "Index of p : 0\n",
      "Index of a : 4\n"
     ]
    }
   ],
   "source": [
    "# Python list index() Method  \n",
    "# Creating a list  \n",
    "#Apart from element, the method takes two more optional\n",
    "#parameters start and end. These are used to find index within a limit.\n",
    "\n",
    "apple = ['p','p','l','e','a']  \n",
    "# Method calling  \n",
    "index = apple.index('p',0,5)  # start index  \n",
    "index2 = apple.index('a',0,5)   # end index  \n",
    "# Displaying result  \n",
    "print(\"Index of p :\",index)  \n",
    "print(\"Index of a :\",index2)  "
   ]
  },
  {
   "cell_type": "code",
   "execution_count": 73,
   "metadata": {},
   "outputs": [
    {
     "name": "stdout",
     "output_type": "stream",
     "text": [
      "<class 'set'>\n",
      "{'Monday', 'Wednesday', 'Saturday', 'Tuesday', 'Thursday', 'Sunday', 'Friday'}\n",
      "Monday Wednesday Saturday Tuesday Thursday Sunday Friday \n"
     ]
    },
    {
     "ename": "TypeError",
     "evalue": "'set' object is not subscriptable",
     "output_type": "error",
     "traceback": [
      "\u001b[1;31m---------------------------------------------------------------------------\u001b[0m",
      "\u001b[1;31mTypeError\u001b[0m                                 Traceback (most recent call last)",
      "\u001b[1;32m<ipython-input-73-ee2841d6c196>\u001b[0m in \u001b[0;36m<module>\u001b[1;34m\u001b[0m\n\u001b[0;32m     11\u001b[0m \u001b[1;33m\u001b[0m\u001b[0m\n\u001b[0;32m     12\u001b[0m \u001b[1;32mfor\u001b[0m \u001b[0mi\u001b[0m \u001b[1;32min\u001b[0m \u001b[0mrange\u001b[0m\u001b[1;33m(\u001b[0m\u001b[1;36m0\u001b[0m\u001b[1;33m,\u001b[0m\u001b[0mlen\u001b[0m\u001b[1;33m(\u001b[0m\u001b[0mDays\u001b[0m\u001b[1;33m)\u001b[0m\u001b[1;33m)\u001b[0m\u001b[1;33m:\u001b[0m\u001b[1;33m\u001b[0m\u001b[1;33m\u001b[0m\u001b[0m\n\u001b[1;32m---> 13\u001b[1;33m     \u001b[0mprint\u001b[0m\u001b[1;33m(\u001b[0m\u001b[0mDays\u001b[0m\u001b[1;33m[\u001b[0m\u001b[0mi\u001b[0m\u001b[1;33m]\u001b[0m\u001b[1;33m,\u001b[0m\u001b[1;34m\" is : \"\u001b[0m\u001b[1;33m,\u001b[0m\u001b[0mi\u001b[0m\u001b[1;33m)\u001b[0m\u001b[1;33m\u001b[0m\u001b[1;33m\u001b[0m\u001b[0m\n\u001b[0m",
      "\u001b[1;31mTypeError\u001b[0m: 'set' object is not subscriptable"
     ]
    }
   ],
   "source": [
    "#set \n",
    "#The elements of the \n",
    "#can not be duplicate. The elements of the python set must be immutable.\n",
    "Days = {\"Monday\", \"Tuesday\", \"Wednesday\", \"Thursday\", \"Friday\", \"Saturday\", \"Sunday\"}  \n",
    "print(type(Days))\n",
    "print(Days)\n",
    "\n",
    "for i in Days:\n",
    "    print(i,end=\" \")\n",
    "print()\n",
    "\n",
    "for i in range(0,len(Days)):\n",
    "    print(\"Days[%d] : %s \"%(i,Days[i]))"
   ]
  },
  {
   "cell_type": "code",
   "execution_count": 74,
   "metadata": {},
   "outputs": [
    {
     "name": "stdout",
     "output_type": "stream",
     "text": [
      "{'Monday', 'Wednesday', 'Saturday', 'Tuesday', 'Thursday', 'Sunday', 'Friday'}\n",
      "<class 'set'>\n",
      "looping through the set elements ... \n",
      "Monday\n",
      "Wednesday\n",
      "Saturday\n",
      "Tuesday\n",
      "Thursday\n",
      "Sunday\n",
      "Friday\n"
     ]
    }
   ],
   "source": [
    "Days = set([\"Monday\", \"Tuesday\", \"Wednesday\", \"Thursday\", \"Friday\", \"Saturday\", \"Sunday\"])  \n",
    "print(Days)  \n",
    "print(type(Days))  \n",
    "print(\"looping through the set elements ... \")  \n",
    "for i in Days:  \n",
    "    print(i)  "
   ]
  },
  {
   "cell_type": "code",
   "execution_count": 75,
   "metadata": {},
   "outputs": [
    {
     "ename": "TypeError",
     "evalue": "set expected at most 1 arguments, got 7",
     "output_type": "error",
     "traceback": [
      "\u001b[1;31m---------------------------------------------------------------------------\u001b[0m",
      "\u001b[1;31mTypeError\u001b[0m                                 Traceback (most recent call last)",
      "\u001b[1;32m<ipython-input-75-73b87aa7156b>\u001b[0m in \u001b[0;36m<module>\u001b[1;34m\u001b[0m\n\u001b[1;32m----> 1\u001b[1;33m \u001b[0mDays\u001b[0m \u001b[1;33m=\u001b[0m \u001b[0mset\u001b[0m\u001b[1;33m(\u001b[0m\u001b[1;34m\"Monday\"\u001b[0m\u001b[1;33m,\u001b[0m \u001b[1;34m\"Tuesday\"\u001b[0m\u001b[1;33m,\u001b[0m \u001b[1;34m\"Wednesday\"\u001b[0m\u001b[1;33m,\u001b[0m \u001b[1;34m\"Thursday\"\u001b[0m\u001b[1;33m,\u001b[0m \u001b[1;34m\"Friday\"\u001b[0m\u001b[1;33m,\u001b[0m \u001b[1;34m\"Saturday\"\u001b[0m\u001b[1;33m,\u001b[0m \u001b[1;34m\"Sunday\"\u001b[0m\u001b[1;33m)\u001b[0m\u001b[1;33m\u001b[0m\u001b[1;33m\u001b[0m\u001b[0m\n\u001b[0m\u001b[0;32m      2\u001b[0m \u001b[0mprint\u001b[0m\u001b[1;33m(\u001b[0m\u001b[0mDays\u001b[0m\u001b[1;33m)\u001b[0m\u001b[1;33m\u001b[0m\u001b[1;33m\u001b[0m\u001b[0m\n\u001b[0;32m      3\u001b[0m \u001b[0mprint\u001b[0m\u001b[1;33m(\u001b[0m\u001b[0mtype\u001b[0m\u001b[1;33m(\u001b[0m\u001b[0mDays\u001b[0m\u001b[1;33m)\u001b[0m\u001b[1;33m)\u001b[0m\u001b[1;33m\u001b[0m\u001b[1;33m\u001b[0m\u001b[0m\n\u001b[0;32m      4\u001b[0m \u001b[0mprint\u001b[0m\u001b[1;33m(\u001b[0m\u001b[1;34m\"looping through the set elements ... \"\u001b[0m\u001b[1;33m)\u001b[0m\u001b[1;33m\u001b[0m\u001b[1;33m\u001b[0m\u001b[0m\n\u001b[0;32m      5\u001b[0m \u001b[1;32mfor\u001b[0m \u001b[0mi\u001b[0m \u001b[1;32min\u001b[0m \u001b[0mDays\u001b[0m\u001b[1;33m:\u001b[0m\u001b[1;33m\u001b[0m\u001b[1;33m\u001b[0m\u001b[0m\n",
      "\u001b[1;31mTypeError\u001b[0m: set expected at most 1 arguments, got 7"
     ]
    }
   ],
   "source": [
    "Days = set(\"Monday\", \"Tuesday\", \"Wednesday\", \"Thursday\", \"Friday\", \"Saturday\", \"Sunday\")  \n",
    "print(Days)  \n",
    "print(type(Days))  \n",
    "print(\"looping through the set elements ... \")  \n",
    "for i in Days:  \n",
    "    print(i)  "
   ]
  },
  {
   "cell_type": "code",
   "execution_count": 76,
   "metadata": {},
   "outputs": [
    {
     "name": "stdout",
     "output_type": "stream",
     "text": [
      "{'Thursday', 'Sunday', 'Monday', 'Wednesday', 'Saturday', 'Friday', 'Tuesday'}\n"
     ]
    }
   ],
   "source": [
    "Days1 = {\"Monday\",\"Tuesday\",\"Wednesday\",\"Thursday\"}  \n",
    "Days2 = {\"Friday\",\"Saturday\",\"Sunday\"}  \n",
    "print(Days1.union(Days2)) #printing the union of the sets   "
   ]
  },
  {
   "cell_type": "code",
   "execution_count": 77,
   "metadata": {},
   "outputs": [
    {
     "name": "stdout",
     "output_type": "stream",
     "text": [
      "{'Thursday', 'Sunday', 'Monday', 'Wednesday', 'Saturday', 'Friday', 'Tuesday'}\n"
     ]
    }
   ],
   "source": [
    "Days1 = {\"Monday\",\"Tuesday\",\"Wednesday\",\"Thursday\"}  \n",
    "Days2 = {\"Friday\",\"Saturday\",\"Sunday\"}  \n",
    "print(Days1|Days2) #printing the union of the sets   "
   ]
  },
  {
   "cell_type": "code",
   "execution_count": 78,
   "metadata": {},
   "outputs": [
    {
     "name": "stdout",
     "output_type": "stream",
     "text": [
      "{'David', 'Martin'}\n"
     ]
    }
   ],
   "source": [
    "set1 = {\"Ayush\",\"John\", \"David\", \"Martin\"}  \n",
    "set2 = {\"Steve\",\"Milan\",\"David\", \"Martin\"}  \n",
    "print(set1&set2) #prints the intersection of the two sets"
   ]
  },
  {
   "cell_type": "code",
   "execution_count": 79,
   "metadata": {},
   "outputs": [
    {
     "name": "stdout",
     "output_type": "stream",
     "text": [
      "{'David', 'Martin'}\n"
     ]
    }
   ],
   "source": [
    "set1 = {\"Ayush\",\"John\", \"David\", \"Martin\"}  \n",
    "set2 = {\"Steave\",\"Milan\",\"David\", \"Martin\"}  \n",
    "print(set1.intersection(set2)) #prints the intersection of the two sets  "
   ]
  },
  {
   "cell_type": "markdown",
   "metadata": {},
   "source": [
    "The intersection_update() method removes the items from the original set that are not present in both the sets (all the sets if more than one are specified).\n",
    "\n",
    "The Intersection_update() method is different from intersection() method since it modifies the original set by removing the unwanted items, on the other hand, intersection() method returns a new set.\n",
    "\n",
    "Consider the following example.\n",
    "\n"
   ]
  },
  {
   "cell_type": "code",
   "execution_count": 80,
   "metadata": {},
   "outputs": [
    {
     "name": "stdout",
     "output_type": "stream",
     "text": [
      "{'castle'}\n"
     ]
    }
   ],
   "source": [
    "a = {\"ayush\", \"bob\", \"castle\"}  \n",
    "b = {\"castle\", \"dude\", \"emyway\"}  \n",
    "c = {\"fuson\", \"gaurav\", \"castle\"}  \n",
    "  \n",
    "a.intersection_update(b, c)  \n",
    "  \n",
    "print(a)  "
   ]
  },
  {
   "cell_type": "code",
   "execution_count": 84,
   "metadata": {},
   "outputs": [
    {
     "name": "stdout",
     "output_type": "stream",
     "text": [
      "{'Thursday', 'Wednesday'}\n"
     ]
    }
   ],
   "source": [
    "Days1 = {\"Monday\",  \"Tuesday\", \"Wednesday\", \"Thursday\"}  \n",
    "Days2 = {\"Monday\", \"Tuesday\", \"Sunday\"}  \n",
    "print(Days1-Days2) #{\"Wednesday\", \"Thursday\" will be printed}  \n",
    "\n"
   ]
  },
  {
   "cell_type": "code",
   "execution_count": 83,
   "metadata": {},
   "outputs": [
    {
     "name": "stdout",
     "output_type": "stream",
     "text": [
      "{'Thursday', 'Wednesday'}\n"
     ]
    }
   ],
   "source": [
    "#Example 2 : using difference() method\n",
    "Days1 = {\"Monday\",  \"Tuesday\", \"Wednesday\", \"Thursday\"}  \n",
    "Days2 = {\"Monday\", \"Tuesday\", \"Sunday\"}  \n",
    "print(Days1.difference(Days2)) # prints the difference of the two sets Days1 and Days2  \n",
    "\n",
    "\n"
   ]
  },
  {
   "cell_type": "markdown",
   "metadata": {},
   "source": [
    "Python allows us to use the comparison operators i.e., <, >, <=, >= , == with the sets by using which we can check whether a set is subset, superset, or equivalent to other set. The boolean true or false is returned depending upon the items present inside the sets.\n",
    "\n",
    "Consider the following example."
   ]
  },
  {
   "cell_type": "code",
   "execution_count": 85,
   "metadata": {},
   "outputs": [
    {
     "name": "stdout",
     "output_type": "stream",
     "text": [
      "True\n",
      "False\n",
      "False\n"
     ]
    }
   ],
   "source": [
    "Days1 = {\"Monday\",  \"Tuesday\", \"Wednesday\", \"Thursday\"}  \n",
    "Days2 = {\"Monday\", \"Tuesday\"}  \n",
    "Days3 = {\"Monday\", \"Tuesday\", \"Friday\"}  \n",
    "  \n",
    "#Days1 is the superset of Days2 hence it will print true.   \n",
    "print (Days1>Days2)   \n",
    "  \n",
    "#prints false since Days1 is not the subset of Days2   \n",
    "print (Days1<Days2)  \n",
    "  \n",
    "#prints false since Days2 and Days3 are not equivalent   \n",
    "print (Days2 == Days3)  "
   ]
  },
  {
   "cell_type": "code",
   "execution_count": null,
   "metadata": {},
   "outputs": [],
   "source": [
    "Dictionary = {\"Name\":\"John\", \"Country\":\"USA\", \"ID\":101}   \n",
    "print(type(Dictionary))  \n",
    "Frozenset = frozenset(Dictionary); #Frozenset will contain the keys of the dictionary  \n",
    "print(type(Frozenset))  \n",
    "for i in Frozenset:   \n",
    "    print(i)  "
   ]
  },
  {
   "cell_type": "code",
   "execution_count": null,
   "metadata": {},
   "outputs": [],
   "source": []
  },
  {
   "cell_type": "code",
   "execution_count": null,
   "metadata": {},
   "outputs": [],
   "source": []
  },
  {
   "cell_type": "code",
   "execution_count": null,
   "metadata": {},
   "outputs": [],
   "source": []
  }
 ],
 "metadata": {
  "kernelspec": {
   "display_name": "Python 3",
   "language": "python",
   "name": "python3"
  },
  "language_info": {
   "codemirror_mode": {
    "name": "ipython",
    "version": 3
   },
   "file_extension": ".py",
   "mimetype": "text/x-python",
   "name": "python",
   "nbconvert_exporter": "python",
   "pygments_lexer": "ipython3",
   "version": "3.7.3"
  }
 },
 "nbformat": 4,
 "nbformat_minor": 2
}
