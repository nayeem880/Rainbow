{
 "cells": [
  {
   "cell_type": "markdown",
   "metadata": {},
   "source": [
    "### Functions and oop concepts"
   ]
  },
  {
   "cell_type": "code",
   "execution_count": 1,
   "metadata": {},
   "outputs": [
    {
     "name": "stdout",
     "output_type": "stream",
     "text": [
      "This is tutorial of Python from JavaTpoint\n"
     ]
    }
   ],
   "source": [
    "print(\"This is tutorial of Python from JavaTpoint - Functions to OOP concepts\")"
   ]
  },
  {
   "cell_type": "code",
   "execution_count": 1,
   "metadata": {},
   "outputs": [
    {
     "name": "stdout",
     "output_type": "stream",
     "text": [
      "Hello there :  nayeem\n"
     ]
    }
   ],
   "source": [
    "def f(n):\n",
    "    print(\"Hello there : \",n)\n",
    "    \n",
    "f(\"nayeem\")"
   ]
  },
  {
   "cell_type": "code",
   "execution_count": 2,
   "metadata": {},
   "outputs": [
    {
     "name": "stdout",
     "output_type": "stream",
     "text": [
      "Hello world\n"
     ]
    }
   ],
   "source": [
    "def func():\n",
    "    print(\"Hello world\")\n",
    "    \n",
    "func()"
   ]
  },
  {
   "cell_type": "code",
   "execution_count": 2,
   "metadata": {},
   "outputs": [
    {
     "name": "stdout",
     "output_type": "stream",
     "text": [
      "Enter first number : 5\n",
      "Enter second number : 5\n",
      "sum is :  10\n"
     ]
    }
   ],
   "source": [
    "##sum of numbers using function\n",
    "\n",
    "def sum(a,b):\n",
    "    return (a+b)\n",
    "    \n",
    "a=int(input(\"Enter first number : \"))\n",
    "b=int(input(\"Enter second number : \"))\n",
    "\n",
    "print(\"sum is : \",sum(a,b))"
   ]
  },
  {
   "cell_type": "code",
   "execution_count": 4,
   "metadata": {},
   "outputs": [
    {
     "name": "stdout",
     "output_type": "stream",
     "text": [
      "[33, 22, 11]\n",
      "inside function :  [33, 22, 11, 55, 66]\n",
      "[33, 22, 11, 55, 66]\n"
     ]
    }
   ],
   "source": [
    "def change_list(list1):\n",
    "    list1.append(55)\n",
    "    list1.append(66)\n",
    "    print(\"inside function : \",list1)\n",
    "\n",
    "list1=[33,22,11]\n",
    "print(list1)\n",
    "change_list(list1)\n",
    "print(list1)"
   ]
  },
  {
   "cell_type": "code",
   "execution_count": 6,
   "metadata": {},
   "outputs": [
    {
     "name": "stdout",
     "output_type": "stream",
     "text": [
      "Hi I am there\n",
      "printing the string inside function : Hi I am there Hows you\n",
      "printing the string outside function : Hi I am there\n"
     ]
    }
   ],
   "source": [
    "#defining the function  \n",
    "def change_string (str):  \n",
    "    str = str + \" Hows you\";  \n",
    "    print(\"printing the string inside function :\",str);  \n",
    "  \n",
    "string1 = \"Hi I am there\"  \n",
    "print(string1)\n",
    "  \n",
    "#calling the function  \n",
    "change_string(string1)  \n",
    "  \n",
    "print(\"printing the string outside function :\",string1)  "
   ]
  },
  {
   "cell_type": "code",
   "execution_count": 8,
   "metadata": {},
   "outputs": [
    {
     "name": "stdout",
     "output_type": "stream",
     "text": [
      "printing the message with John and  hello\n",
      "printing the message with nick and  i am here\n"
     ]
    }
   ],
   "source": [
    "#function func is called with the name and message as the keyword arguments  \n",
    "def func(name,message):  \n",
    "    print(\"printing the message with\",name,\"and \",message)  \n",
    "func(name = \"John\",message=\"hello\") #name and message is copied with the values John and hello respectively\n",
    "\n",
    "func(\"nick\",\"i am here\")"
   ]
  },
  {
   "cell_type": "code",
   "execution_count": 12,
   "metadata": {},
   "outputs": [
    {
     "name": "stdout",
     "output_type": "stream",
     "text": [
      "My name is john and age is 22\n",
      "My name is john and age is 36\n",
      "My name is David and age is 10\n"
     ]
    }
   ],
   "source": [
    "def printme(name,age=22):  \n",
    "    print(\"My name is\",name,\"and age is\",age) \n",
    "printme(name = \"john\")\n",
    "printme(name = \"john\",age=36) #the variable age is not passed into the function however the default value of age is constant\n",
    "printme(age = 10,name=\"David\") "
   ]
  },
  {
   "cell_type": "code",
   "execution_count": 2,
   "metadata": {},
   "outputs": [
    {
     "name": "stdout",
     "output_type": "stream",
     "text": [
      "type of variable given is :  <class 'tuple'>\n",
      "nick\n",
      "adam\n",
      "55\n",
      "ritter\n"
     ]
    }
   ],
   "source": [
    "'''In the large projects, sometimes we may not know the number of arguments to be passed in advance. In such cases, Python provides us the flexibility to provide the comma separated values which are internally treated as tuples at the function call.\n",
    "\n",
    "However, at the function definition, we have to define the variable with * (star) as *<variable - name >.\n",
    "\n",
    "Consider the following example.'''\n",
    "\n",
    "\n",
    "def printnm(*names):\n",
    "    print(\"type of variable given is : \",type(names))\n",
    "    for i in names:\n",
    "        print(i)\n",
    "printnm('nick','adam',55,'ritter')"
   ]
  },
  {
   "cell_type": "code",
   "execution_count": 3,
   "metadata": {},
   "outputs": [
    {
     "name": "stdout",
     "output_type": "stream",
     "text": [
      "35\n"
     ]
    }
   ],
   "source": [
    "def sum_of_numbers(*args):\n",
    "    sum=0\n",
    "    for i in args:\n",
    "        sum=sum+i\n",
    "    print(sum)\n",
    "        \n",
    "sum_of_numbers(2,3,4,5,6,7,8)"
   ]
  },
  {
   "cell_type": "markdown",
   "metadata": {},
   "source": [
    "##### built in functions"
   ]
  },
  {
   "cell_type": "code",
   "execution_count": 6,
   "metadata": {},
   "outputs": [
    {
     "name": "stdout",
     "output_type": "stream",
     "text": [
      "34\n",
      "20.88\n"
     ]
    }
   ],
   "source": [
    "'''The python abs() function is used to return the absolute value of a number. \n",
    "It takes only one argument, a number whose absolute value is to be returned.\n",
    "The argument can be an integer and floating-point number. \n",
    "If the argument is a complex number, then, abs() returns its magnitude.'''\n",
    "a= -34\n",
    "b=20.88\n",
    "print(abs(a))\n",
    "print(abs(b))"
   ]
  },
  {
   "cell_type": "code",
   "execution_count": 10,
   "metadata": {},
   "outputs": [
    {
     "name": "stdout",
     "output_type": "stream",
     "text": [
      "True\n",
      "False\n",
      "False\n",
      "False\n",
      "False\n",
      "True\n"
     ]
    }
   ],
   "source": [
    "'''The python all() function accepts an iterable object (such as list,\n",
    "dictionary, etc.). It returns true if all items in passed iterable are true. \n",
    "Otherwise, it returns False. \n",
    "If the iterable object is empty, the all() function returns True.\n",
    "\n",
    "'''\n",
    "k=[2,3,4,5,6]\n",
    "print(all(k))\n",
    "\n",
    "#all false value\n",
    "q=[0,False]\n",
    "print(all(q))\n",
    "\n",
    "#one false value\n",
    "qq=[33,44,False]\n",
    "print(all(qq))\n",
    "\n",
    "# one false value  \n",
    "k = [1, 3, 7, 0]  \n",
    "print(all(k))  \n",
    "  \n",
    "# one true value  \n",
    "k = [0, False, 5]  \n",
    "print(all(k))  \n",
    "  \n",
    "# empty iterable  \n",
    "k = []  \n",
    "print(all(k))  "
   ]
  },
  {
   "cell_type": "code",
   "execution_count": 15,
   "metadata": {},
   "outputs": [
    {
     "name": "stdout",
     "output_type": "stream",
     "text": [
      "0b1010\n"
     ]
    }
   ],
   "source": [
    "'''The python bin() function is used to return the binary representation \n",
    "of a specified integer. A result always starts with the prefix 0b.'''\n",
    "\n",
    "a=10\n",
    "print(bin(a))"
   ]
  },
  {
   "cell_type": "code",
   "execution_count": 23,
   "metadata": {},
   "outputs": [
    {
     "name": "stdout",
     "output_type": "stream",
     "text": [
      "False\n",
      "True\n",
      "True\n",
      "if None :  False\n",
      "if False :  False\n",
      "if True :  True\n",
      "True\n",
      "True\n"
     ]
    }
   ],
   "source": [
    "'''The python bool() converts a value\n",
    "to boolean(True or False) using the standard truth testing procedure.'''\n",
    "\n",
    "test=[]\n",
    "print(bool(test))\n",
    "test=[0]\n",
    "print(bool(test))\n",
    "test=[1,2,3]\n",
    "print(bool(test))\n",
    "test=None\n",
    "print(\"if None : \",bool(test))\n",
    "test=False\n",
    "print(\"if False : \",bool(test))\n",
    "test=True\n",
    "print(\"if True : \",bool(test))\n",
    "test=[None]\n",
    "print(bool(test))\n",
    "test=[False]\n",
    "print(bool(test))"
   ]
  },
  {
   "cell_type": "code",
   "execution_count": 28,
   "metadata": {},
   "outputs": [
    {
     "name": "stdout",
     "output_type": "stream",
     "text": [
      "False\n",
      "True\n",
      "True\n",
      "True\n",
      "True\n",
      "\n",
      "In terms of Variable : \n",
      "\n",
      "False\n",
      "True\n",
      "False\n",
      "True\n",
      "False\n"
     ]
    }
   ],
   "source": [
    "test={}\n",
    "print(bool(test))\n",
    "test={0}\n",
    "print(bool(test))\n",
    "test={1,2,3}\n",
    "print(bool(test))\n",
    "test={None}\n",
    "print(bool(test))\n",
    "test={True}\n",
    "print(bool(test))\n",
    "\n",
    "print()\n",
    "print(\"In terms of Variable : \")\n",
    "print()\n",
    "a=False\n",
    "print(bool(a))\n",
    "b=True\n",
    "print(bool(b))\n",
    "b=None\n",
    "print(bool(b))\n",
    "b=55\n",
    "print(bool(b))\n",
    "b=0.0\n",
    "print(bool(b))\n"
   ]
  },
  {
   "cell_type": "code",
   "execution_count": 34,
   "metadata": {},
   "outputs": [
    {
     "name": "stdout",
     "output_type": "stream",
     "text": [
      "b'hello world'\n"
     ]
    }
   ],
   "source": [
    "'''\n",
    "The python bytes() in Python is used for returning a bytes object.\n",
    "It is an immutable version of the bytearray() function.\n",
    "It can create empty bytes object of the specified size.\n",
    "'''\n",
    "bing=\"hello world\"\n",
    "\n",
    "array=bytes(bing,\"utf-8\")\n",
    "print(array)\n"
   ]
  },
  {
   "cell_type": "code",
   "execution_count": 32,
   "metadata": {},
   "outputs": [
    {
     "name": "stdout",
     "output_type": "stream",
     "text": [
      "False\n"
     ]
    }
   ],
   "source": [
    "'''A python callable() function in Python is something that can be called. \n",
    "This built-in function checks and returns true if the object passed appears \n",
    "to be callable, otherwise false.\n",
    "Python callable() Function Example'''\n",
    "\n",
    "x=88\n",
    "print(callable(x))"
   ]
  },
  {
   "cell_type": "markdown",
   "metadata": {},
   "source": [
    "###### need to study start"
   ]
  },
  {
   "cell_type": "code",
   "execution_count": 36,
   "metadata": {},
   "outputs": [
    {
     "name": "stdout",
     "output_type": "stream",
     "text": [
      "<class 'code'>\n",
      "sum = 15\n"
     ]
    }
   ],
   "source": [
    "'''The python compile() function takes source code as input and returns a \n",
    "code object which can later be executed by exec() function.\n",
    "\n",
    "'''\n",
    "\n",
    "# compile string source to code  \n",
    "code_str = 'x=5\\ny=10\\nprint(\"sum =\",x+y)'  \n",
    "code = compile(code_str, 'sum.py', 'exec')  \n",
    "print(type(code))  \n",
    "exec(code)  \n",
    "\n"
   ]
  },
  {
   "cell_type": "code",
   "execution_count": 37,
   "metadata": {},
   "outputs": [
    {
     "name": "stdout",
     "output_type": "stream",
     "text": [
      "True\n",
      "12\n"
     ]
    }
   ],
   "source": [
    "#The python exec() function is used for the dynamic execution of Python program which can either be a string or object code and it accepts large blocks of code, unlike the eval() function which only accepts a single expression.\n",
    "\n",
    "#Python exec() Function Example\n",
    "\n",
    "x = 8  \n",
    "exec('print(x==8)')  \n",
    "exec('print(x+4)')  "
   ]
  },
  {
   "cell_type": "code",
   "execution_count": 51,
   "metadata": {},
   "outputs": [
    {
     "name": "stdout",
     "output_type": "stream",
     "text": [
      "20\n",
      "17\n",
      "7\n"
     ]
    },
    {
     "ename": "TypeError",
     "evalue": "sum expected at most 2 arguments, got 3",
     "output_type": "error",
     "traceback": [
      "\u001b[1;31m---------------------------------------------------------------------------\u001b[0m",
      "\u001b[1;31mTypeError\u001b[0m                                 Traceback (most recent call last)",
      "\u001b[1;32m<ipython-input-51-5ec3649ecc9c>\u001b[0m in \u001b[0;36m<module>\u001b[1;34m\u001b[0m\n\u001b[0;32m      8\u001b[0m \u001b[0ms\u001b[0m\u001b[1;33m=\u001b[0m\u001b[0msum\u001b[0m\u001b[1;33m(\u001b[0m\u001b[1;33m(\u001b[0m\u001b[1;36m3\u001b[0m\u001b[1;33m,\u001b[0m\u001b[1;36m4\u001b[0m\u001b[1;33m)\u001b[0m\u001b[1;33m)\u001b[0m\u001b[1;33m\u001b[0m\u001b[1;33m\u001b[0m\u001b[0m\n\u001b[0;32m      9\u001b[0m \u001b[0mprint\u001b[0m\u001b[1;33m(\u001b[0m\u001b[0ms\u001b[0m\u001b[1;33m)\u001b[0m\u001b[1;33m\u001b[0m\u001b[1;33m\u001b[0m\u001b[0m\n\u001b[1;32m---> 10\u001b[1;33m \u001b[0ms\u001b[0m \u001b[1;33m=\u001b[0m \u001b[0msum\u001b[0m\u001b[1;33m(\u001b[0m\u001b[1;33m[\u001b[0m\u001b[1;36m1\u001b[0m\u001b[1;33m,\u001b[0m \u001b[1;36m2\u001b[0m\u001b[1;33m,\u001b[0m \u001b[1;36m4\u001b[0m\u001b[1;33m]\u001b[0m\u001b[1;33m,\u001b[0m \u001b[1;36m10\u001b[0m\u001b[1;33m,\u001b[0m\u001b[1;36m10\u001b[0m\u001b[1;33m)\u001b[0m\u001b[1;33m\u001b[0m\u001b[1;33m\u001b[0m\u001b[0m\n\u001b[0m\u001b[0;32m     11\u001b[0m \u001b[0mprint\u001b[0m\u001b[1;33m(\u001b[0m\u001b[0ms\u001b[0m\u001b[1;33m)\u001b[0m\u001b[1;33m\u001b[0m\u001b[1;33m\u001b[0m\u001b[0m\n",
      "\u001b[1;31mTypeError\u001b[0m: sum expected at most 2 arguments, got 3"
     ]
    }
   ],
   "source": [
    "#As the name says, python sum() function is used to get the sum of numbers of an iterable, i.e., list.\n",
    "\n",
    "s=sum([2,3,4,5,6])\n",
    "print(s)\n",
    "s = sum([1, 2, 4], 10)  \n",
    "print(s)\n",
    "\n",
    "\n",
    "s = sum([1, 2, 4], 10,10)\n",
    "print(s)\n"
   ]
  },
  {
   "cell_type": "code",
   "execution_count": 48,
   "metadata": {},
   "outputs": [
    {
     "name": "stdout",
     "output_type": "stream",
     "text": [
      "True\n",
      "False\n",
      "True\n",
      "False\n"
     ]
    }
   ],
   "source": [
    "#The python any() function returns true if any item in an iterable is true.\n",
    "#Otherwise, it returns False.\n",
    "\n",
    "list=[2,3,4]\n",
    "print(any(list))\n",
    "l = [0, False]  \n",
    "print(any(l))  \n",
    "  \n",
    "l = [0, False, 5]  \n",
    "print(any(l))  \n",
    "  \n",
    "l = []  \n",
    "print(any(l)) "
   ]
  },
  {
   "cell_type": "code",
   "execution_count": 52,
   "metadata": {},
   "outputs": [
    {
     "name": "stdout",
     "output_type": "stream",
     "text": [
      "1\n",
      "2\n",
      "3\n",
      "4\n",
      "5\n"
     ]
    }
   ],
   "source": [
    "##The python iter() function is used to return an iterator object. It creates an object which can be iterated one element at a time.\n",
    "\n",
    "#Python iter() Function Example\n",
    "\n",
    "# list of numbers  \n",
    "list = [1,2,3,4,5]  \n",
    "  \n",
    "listIter = iter(list)  \n",
    "  \n",
    "# prints '1'  \n",
    "print(next(listIter))  \n",
    "  \n",
    "# prints '2'  \n",
    "print(next(listIter))  \n",
    "  \n",
    "# prints '3'  \n",
    "print(next(listIter))  \n",
    "  \n",
    "# prints '4'  \n",
    "print(next(listIter))  \n",
    "  \n",
    "# prints '5'  \n",
    "print(next(listIter))  "
   ]
  },
  {
   "cell_type": "code",
   "execution_count": 53,
   "metadata": {},
   "outputs": [
    {
     "name": "stdout",
     "output_type": "stream",
     "text": [
      "True\n",
      "False\n",
      "True\n",
      "False\n"
     ]
    }
   ],
   "source": [
    "#The python any() function returns true if any item in an iterable is true, otherwise it returns False.\n",
    "\n",
    "#Python hasattr() Function Example\n",
    "\n",
    "l = [4, 3, 2, 0]                              \n",
    "print(any(l))                                   \n",
    "  \n",
    "l = [0, False]  \n",
    "print(any(l))  \n",
    "  \n",
    "l = [0, False, 5]  \n",
    "print(any(l))  \n",
    "  \n",
    "l = []  \n",
    "print(any(l)) "
   ]
  },
  {
   "cell_type": "code",
   "execution_count": 54,
   "metadata": {},
   "outputs": [
    {
     "name": "stdout",
     "output_type": "stream",
     "text": [
      "The age is: 22\n"
     ]
    }
   ],
   "source": [
    "'''The python globals() function returns the dictionary of the current global symbol table.\n",
    "\n",
    "A Symbol table is defined as a data structure which contains all the necessary information about the program. It includes variable names, methods, classes, etc.\n",
    "\n",
    "Python globals() Function Example'''\n",
    "\n",
    "age = 22  \n",
    "  \n",
    "globals()['age'] = 22  \n",
    "print('The age is:', age)  "
   ]
  },
  {
   "cell_type": "code",
   "execution_count": 55,
   "metadata": {},
   "outputs": [
    {
     "name": "stdout",
     "output_type": "stream",
     "text": [
      "The age is: 22\n",
      "The age is: 22\n"
     ]
    }
   ],
   "source": [
    "'''The python getattr() function returns the value of a named attribute of an object. If it is not found, it returns the default value.\n",
    "\n",
    "Python getattr() Function Example'''\n",
    "\n",
    "class Details:  \n",
    "    age = 22  \n",
    "    name = \"Phill\"  \n",
    "  \n",
    "details = Details()  \n",
    "print('The age is:', getattr(details, \"age\"))  \n",
    "print('The age is:', details.age)  "
   ]
  },
  {
   "cell_type": "code",
   "execution_count": null,
   "metadata": {},
   "outputs": [],
   "source": [
    "'''The python format() function returns a formatted representation of the given value.\n",
    "\n",
    "Python format() Function Example'''\n",
    "\n",
    "# d, f and b are a type  \n",
    "  \n",
    "# integer  \n",
    "print(format(123, \"d\"))  \n",
    "  \n",
    "# float arguments  \n",
    "print(format(123.4567898, \"f\"))  \n",
    "  \n",
    "# binary format  \n",
    "print(format(12, \"b\"))  "
   ]
  },
  {
   "cell_type": "code",
   "execution_count": 56,
   "metadata": {},
   "outputs": [
    {
     "name": "stdout",
     "output_type": "stream",
     "text": [
      "Frozen set is: frozenset({'s', 'o', 't', 'r', 'm'})\n",
      "Empty frozen set is: frozenset()\n"
     ]
    }
   ],
   "source": [
    "'''The python frozenset() function returns an immutable frozenset object initialized with elements from the given iterable.\n",
    "\n",
    "Python frozenset() Example'''\n",
    "\n",
    "# tuple of letters  \n",
    "letters = ('m', 'r', 'o', 't', 's')  \n",
    "  \n",
    "fSet = frozenset(letters)  \n",
    "print('Frozen set is:', fSet)  \n",
    "print('Empty frozen set is:', frozenset())  "
   ]
  },
  {
   "cell_type": "code",
   "execution_count": null,
   "metadata": {},
   "outputs": [],
   "source": [
    "The python ascii() function returns a string containing a printable representation of an object and escapes the non-ASCII characters in the string using \\x, \\u or \\U escapes.\n",
    "\n",
    "Python ascii() Function Example\n",
    "\n",
    "normalText = 'Python is interesting'  \n",
    "print(ascii(normalText))  \n",
    "  \n",
    "otherText = 'Pythön is interesting'  \n",
    "print(ascii(otherText))  \n",
    "  \n",
    "print('Pyth\\xf6n is interesting')  \n",
    "Output:\n",
    "\n",
    "'Python is interesting'\n",
    "'Pyth\\xf6n is interesting'\n",
    "Pythön is interesting\n",
    "Python bytearray()\n",
    "The python bytearray() returns a bytearray object and can convert objects into bytearray objects, or create an empty bytearray object of the specified size.\n",
    "\n",
    "Python bytearray() Example\n",
    "\n",
    "string = \"Python is a programming language.\"  \n",
    "  \n",
    "# string with encoding 'utf-8'  \n",
    "arr = bytearray(string, 'utf-8')  \n",
    "print(arr)  \n",
    "Output:\n",
    "\n",
    "bytearray(b'Python is a programming language.')\n",
    "Python eval() Function\n",
    "The python eval() function parses the expression passed to it and runs python expression(code) within the program.\n",
    "\n",
    "Python eval() Function Example\n",
    "\n",
    "x = 8  \n",
    "print(eval('x + 1'))  \n",
    "Output:\n",
    "\n",
    "9\n",
    "Python float()\n",
    "The python float() function returns a floating-point number from a number or string.\n",
    "\n",
    "Python float() Example\n",
    "\n",
    "# for integers  \n",
    "print(float(9))  \n",
    "  \n",
    "# for floats  \n",
    "print(float(8.19))  \n",
    "  \n",
    "# for string floats  \n",
    "print(float(\"-24.27\"))  \n",
    "  \n",
    "# for string floats with whitespaces  \n",
    "print(float(\"     -17.19\\n\"))  \n",
    "  \n",
    "# string float error  \n",
    "print(float(\"xyz\"))  "
   ]
  },
  {
   "cell_type": "markdown",
   "metadata": {},
   "source": [
    "###### need to study end"
   ]
  },
  {
   "cell_type": "code",
   "execution_count": 58,
   "metadata": {},
   "outputs": [
    {
     "data": {
      "text/plain": [
       "11"
      ]
     },
     "execution_count": 58,
     "metadata": {},
     "output_type": "execute_result"
    }
   ],
   "source": [
    "a=\"hello world\"\n",
    "len(a)"
   ]
  },
  {
   "cell_type": "code",
   "execution_count": 3,
   "metadata": {},
   "outputs": [
    {
     "name": "stdout",
     "output_type": "stream",
     "text": [
      "['j', 'e', 'c', 'k', 'y', 'l']\n",
      "[3, 4, 5, 6, 7]\n",
      "[]\n",
      "[3, 4, 5, 6, 7, 8]\n"
     ]
    }
   ],
   "source": [
    "s=\"jeckyl\"\n",
    "print(list(s))\n",
    "s=(3,4,5,6,7)\n",
    "print(list(s))\n",
    "\n",
    "print(list())\n",
    "li=[3,4,5,6,7,8]\n",
    "print(li)"
   ]
  },
  {
   "cell_type": "code",
   "execution_count": null,
   "metadata": {},
   "outputs": [],
   "source": []
  }
 ],
 "metadata": {
  "kernelspec": {
   "display_name": "Python 3",
   "language": "python",
   "name": "python3"
  },
  "language_info": {
   "codemirror_mode": {
    "name": "ipython",
    "version": 3
   },
   "file_extension": ".py",
   "mimetype": "text/x-python",
   "name": "python",
   "nbconvert_exporter": "python",
   "pygments_lexer": "ipython3",
   "version": "3.7.3"
  }
 },
 "nbformat": 4,
 "nbformat_minor": 2
}
