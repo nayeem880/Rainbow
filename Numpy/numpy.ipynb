{
 "cells": [
  {
   "cell_type": "code",
   "execution_count": 2,
   "metadata": {},
   "outputs": [
    {
     "name": "stdout",
     "output_type": "stream",
     "text": [
      "[[ 2  4  6]\n",
      " [ 8 10 12]]\n"
     ]
    }
   ],
   "source": [
    "import numpy as np\n",
    "x=np.array([[1,2,3],[4,5,6]])\n",
    "y=np.array([[1,2,3],[4,5,6]])\n",
    "\n",
    "print(x+y)"
   ]
  },
  {
   "cell_type": "code",
   "execution_count": 102,
   "metadata": {},
   "outputs": [
    {
     "name": "stdout",
     "output_type": "stream",
     "text": [
      "working with numpy : \n",
      "(2, 5)\n",
      "2\n",
      "int32\n",
      "10\n",
      "4\n",
      "<memory at 0x0F2FF558>\n"
     ]
    }
   ],
   "source": [
    "import numpy as np\n",
    "\n",
    "a=np.array([[1,2,3,4,5],\n",
    "           [1,2,4,5,9]])\n",
    "print(\"working with numpy : \")\n",
    "print(a.shape)\n",
    "print(a.ndim)\n",
    "type(a)\n",
    "print(a.dtype)\n",
    "print(a.size)\n",
    "print(a.dtype.itemsize)\n",
    "print(a.data)\n"
   ]
  },
  {
   "cell_type": "markdown",
   "metadata": {},
   "source": [
    "The function zeros creates an array full of zeros, the function ones creates an array full of ones, and the function empty creates an array whose initial content is random and depends on the state of the memory. By default, the dtype of the created array is float64."
   ]
  },
  {
   "cell_type": "code",
   "execution_count": 65,
   "metadata": {},
   "outputs": [
    {
     "name": "stdout",
     "output_type": "stream",
     "text": [
      "(3, 6)\n",
      "18\n",
      "[[  1   2   4   5  67 778]\n",
      " [ 22  33  44  55  66  77]\n",
      " [ 99  88  77  66  55 511]]\n",
      "int32\n",
      "4\n",
      "[[1.+0.j 2.+0.j 3.+0.j]\n",
      " [4.+0.j 5.+0.j 6.+0.j]\n",
      " [7.+0.j 8.+0.j 9.+0.j]]\n",
      "complex128\n",
      "9\n",
      "(3, 3)\n",
      "2\n",
      "16\n",
      "[[0. 0. 0. 0. 0.]\n",
      " [0. 0. 0. 0. 0.]\n",
      " [0. 0. 0. 0. 0.]\n",
      " [0. 0. 0. 0. 0.]]\n",
      "\n",
      "[[[1 1 1 1]\n",
      "  [1 1 1 1]\n",
      "  [1 1 1 1]]\n",
      "\n",
      " [[1 1 1 1]\n",
      "  [1 1 1 1]\n",
      "  [1 1 1 1]]\n",
      "\n",
      " [[1 1 1 1]\n",
      "  [1 1 1 1]\n",
      "  [1 1 1 1]]]\n",
      "int32\n",
      "creating np array using empty function\n",
      "[[1.51272550e+160 4.08847347e+179 6.03080094e+174]\n",
      " [1.48643962e-076 4.00315799e-286 4.00338245e-286]]\n",
      "float64\n",
      "creating np array using arange function - equivalent to range in python\n",
      "[ 2  4  6  8 10 12 14 16 18]\n"
     ]
    }
   ],
   "source": [
    "import numpy as np\n",
    "\n",
    "#there are several ways we can create an numpy array\n",
    "\n",
    "a=np.array([[1,2,4,5,67,778],[22,33,44,55,66,77],[99,88,77,66,55,511]])\n",
    "type(a)\n",
    "print(a.shape)\n",
    "print(a.size)\n",
    "print(a)\n",
    "print(a.dtype)\n",
    "print(a.dtype.itemsize)\n",
    "\n",
    "b=np.array([2.2,3.3,4.4,5.5,6.6])\n",
    "b.dtype.itemsize\n",
    "\n",
    "c=np.array([[1,2,3],[4,5,6],[7,8,9]],dtype=complex)\n",
    "print(c)\n",
    "print(c.dtype)\n",
    "print(c.size)\n",
    "print(c.shape)\n",
    "print(c.ndim)\n",
    "print(c.dtype.itemsize)\n",
    "\n",
    "z=np.zeros((4,5))\n",
    "print(z)\n",
    "print()\n",
    "x=np.ones((3,3,4),dtype=np.int32)\n",
    "print(x)\n",
    "print(x.dtype)\n",
    "\n",
    "print(\"creating np array using empty function\")\n",
    "\n",
    "em=np.empty((2,3))\n",
    "print(em)\n",
    "print(em.dtype)\n",
    "\n",
    "print(\"creating np array using arange function - equivalent to range in python\")\n",
    "ar=np.arange(2,20,2)\n",
    "print(ar)"
   ]
  },
  {
   "cell_type": "markdown",
   "metadata": {},
   "source": [
    "When arange is used with floating point arguments, it is generally not possible to predict the number of elements obtained, due to the finite floating point precision. For this reason, it is usually better to use the function linspace that receives as an argument the number of elements that we want, instead of the step:"
   ]
  },
  {
   "cell_type": "code",
   "execution_count": 70,
   "metadata": {},
   "outputs": [
    {
     "name": "stdout",
     "output_type": "stream",
     "text": [
      "[0.   0.25 0.5  0.75 1.   1.25 1.5  1.75 2.  ]\n"
     ]
    },
    {
     "data": {
      "text/plain": [
       "array([0. , 0.3, 0.6, 0.9, 1.2, 1.5, 1.8])"
      ]
     },
     "execution_count": 70,
     "metadata": {},
     "output_type": "execute_result"
    }
   ],
   "source": [
    "import numpy as np\n",
    "from numpy import pi\n",
    "a=np.linspace(0,2,9)\n",
    "print(a)\n",
    "\n",
    "b=np.arange(0,2,0.3)\n",
    "b"
   ]
  },
  {
   "cell_type": "code",
   "execution_count": 76,
   "metadata": {
    "scrolled": true
   },
   "outputs": [
    {
     "name": "stdout",
     "output_type": "stream",
     "text": [
      "1 dimensional array : \n",
      "[ 0  1  2  3  4  5  6  7  8  9 10 11 12 13 14]\n",
      "\n",
      "2 dimensional array :\n",
      "[[ 0  1  2  3  4]\n",
      " [ 5  6  7  8  9]\n",
      " [10 11 12 13 14]]\n",
      "\n",
      "3 dimensional array :\n",
      "[[[ 0  1  2  3  4]\n",
      "  [ 5  6  7  8  9]\n",
      "  [10 11 12 13 14]]\n",
      "\n",
      " [[15 16 17 18 19]\n",
      "  [20 21 22 23 24]\n",
      "  [25 26 27 28 29]]]\n"
     ]
    }
   ],
   "source": [
    "##printing arrays in three ways\n",
    "\n",
    "import numpy as np\n",
    "\n",
    "print(\"1 dimensional array : \")\n",
    "a= np.arange(15)\n",
    "print(a)\n",
    "\n",
    "print()\n",
    "print(\"2 dimensional array :\")\n",
    "b= np.arange(15).reshape(3,5)\n",
    "print(b)\n",
    "\n",
    "print()\n",
    "print(\"3 dimensional array :\")\n",
    "n= np.arange(30).reshape(2,3,5)\n",
    "print(n)\n"
   ]
  },
  {
   "cell_type": "code",
   "execution_count": 83,
   "metadata": {},
   "outputs": [
    {
     "name": "stdout",
     "output_type": "stream",
     "text": [
      "[[   0    1    2 ...   97   98   99]\n",
      " [ 100  101  102 ...  197  198  199]\n",
      " [ 200  201  202 ...  297  298  299]\n",
      " ...\n",
      " [9700 9701 9702 ... 9797 9798 9799]\n",
      " [9800 9801 9802 ... 9897 9898 9899]\n",
      " [9900 9901 9902 ... 9997 9998 9999]]\n"
     ]
    }
   ],
   "source": [
    "#If an array is too large to be printed, NumPy automatically skips the central part of the array and only prints the corners:\n",
    "\n",
    "import numpy as np\n",
    "print(np.arange(10000).reshape(100,100))\n"
   ]
  },
  {
   "cell_type": "code",
   "execution_count": 91,
   "metadata": {},
   "outputs": [
    {
     "name": "stdout",
     "output_type": "stream",
     "text": [
      "[22 33 44 55 66]\n",
      "[0 1 2 3 4]\n",
      "[22 32 42 52 62]\n",
      "[ 0  1  4  9 16]\n",
      "[-0.08851309  9.9991186   0.17701925 -9.99755173 -0.26551154]\n"
     ]
    },
    {
     "data": {
      "text/plain": [
       "array([ True,  True, False, False, False])"
      ]
     },
     "execution_count": 91,
     "metadata": {},
     "output_type": "execute_result"
    }
   ],
   "source": [
    "#BAsic operations\n",
    "import numpy as np\n",
    "a=np.array([22,33,44,55,66])\n",
    "print(a)\n",
    "b=np.arange(5)\n",
    "print(b)\n",
    "c=a-b\n",
    "print(c)\n",
    "\n",
    "x=b**2\n",
    "print(x)\n",
    "\n",
    "print(10*np.sin(a))\n",
    "\n",
    "a<35"
   ]
  },
  {
   "cell_type": "code",
   "execution_count": 100,
   "metadata": {},
   "outputs": [
    {
     "name": "stdout",
     "output_type": "stream",
     "text": [
      "[[ 2  4]\n",
      " [ 8 18]\n",
      " [28 56]]\n"
     ]
    }
   ],
   "source": [
    "#Unlike in many matrix languages, the product operator * operates elementwise in NumPy arrays. The matrix product can be \n",
    "#performed using the @ operator (in python >=3.5) or the dot function or method:\n",
    "\n",
    "import numpy as np\n",
    "a=np.array([[1,2],[2,3],[4,7]])\n",
    "b=np.array([[2,2],[4,6],[7,8]])\n",
    "print(a*b)\n",
    "\n"
   ]
  },
  {
   "cell_type": "code",
   "execution_count": 110,
   "metadata": {},
   "outputs": [
    {
     "name": "stdout",
     "output_type": "stream",
     "text": [
      "[[3 3 3]\n",
      " [3 3 3]]\n",
      "[[3.93726268 3.56948956 3.10894427]\n",
      " [3.88684548 3.64310181 3.46222911]]\n"
     ]
    }
   ],
   "source": [
    "import numpy as np\n",
    "a=np.ones((2,3),dtype=int)\n",
    "b=np.random.random((2,3))\n",
    "\n",
    "a*=3\n",
    "print(a)\n",
    "\n",
    "b+=a\n",
    "print(b)\n",
    "\n",
    "\n",
    "#a+=b\n",
    "#keep in mind\n",
    "#When operating with arrays of different types, the type of the resulting array \n",
    "#corresponds to the more general or precise one (a behavior known as upcasting).\n"
   ]
  },
  {
   "cell_type": "markdown",
   "metadata": {},
   "source": [
    "###### have to check more in the upper sections"
   ]
  },
  {
   "cell_type": "code",
   "execution_count": 151,
   "metadata": {},
   "outputs": [
    {
     "name": "stdout",
     "output_type": "stream",
     "text": [
      "working into numpy slicing,indexing and iterating\n",
      "[ 0  1  4  9 16 25 36 49 64 81]\n",
      "4\n",
      "[ 4  9 16]\n",
      "[-1000     1     4 -1000    16    25 -1000    49    64    81]\n",
      "reversed a\n",
      "[-1000     1     4 -1000    16    25 -1000    49    64    81]\n",
      "\n",
      "new statemnet : \n",
      "[ 0  1  8 27 64]\n",
      "0.0\n",
      "1.0\n",
      "2.0\n",
      "3.0\n",
      "3.9999999999999996\n"
     ]
    }
   ],
   "source": [
    "##Indexing ,slicing and iterating\n",
    "\n",
    "print('working into numpy slicing,indexing and iterating')\n",
    "\n",
    "a=np.arange(10)**2\n",
    "\n",
    "print(a)\n",
    "print(a[2])\n",
    "print(a[2:5])\n",
    "\n",
    "#this is very important\n",
    "a[:9:3]=-1000\n",
    "print(a)\n",
    "\n",
    "print('reversed a')\n",
    "#reversed a\n",
    "\n",
    "a[: 5: -1]\n",
    "print(a)\n",
    "\n",
    "print()\n",
    "print(\"new statemnet : \")\n",
    "\n",
    "b = np.arange(5)**3\n",
    "print(b)\n",
    "\n",
    "for i in b:\n",
    "    print(i**(1/3))"
   ]
  },
  {
   "cell_type": "code",
   "execution_count": 153,
   "metadata": {},
   "outputs": [
    {
     "data": {
      "image/png": "[encoded data removed]",
      "text/plain": [
       "<Figure size 432x288 with 1 Axes>"
      ]
     },
     "metadata": {
      "needs_background": "light"
     },
     "output_type": "display_data"
    }
   ],
   "source": [
    "import numpy as np\n",
    ">>> import matplotlib.pyplot as plt\n",
    ">>> def mandelbrot( h,w, maxit=20 ):\n",
    "...     \"\"\"Returns an image of the Mandelbrot fractal of size (h,w).\"\"\"\n",
    "...     y,x = np.ogrid[ -1.4:1.4:h*1j, -2:0.8:w*1j ]\n",
    "...     c = x+y*1j\n",
    "...     z = c\n",
    "...     divtime = maxit + np.zeros(z.shape, dtype=int)\n",
    "...\n",
    "...     for i in range(maxit):\n",
    "...         z = z**2 + c\n",
    "...         diverge = z*np.conj(z) > 2**2            # who is diverging\n",
    "...         div_now = diverge & (divtime==maxit)  # who is diverging now\n",
    "...         divtime[div_now] = i                  # note when\n",
    "...         z[diverge] = 2                        # avoid diverging too much\n",
    "...\n",
    "...     return divtime\n",
    ">>> plt.imshow(mandelbrot(400,400))\n",
    ">>> plt.show()\n"
   ]
  },
  {
   "cell_type": "code",
   "execution_count": 2,
   "metadata": {},
   "outputs": [
    {
     "data": {
      "text/plain": [
       "array([0.   , 0.375, 0.75 , 1.125, 1.5  , 1.875, 2.25 , 2.625, 3.   ])"
      ]
     },
     "execution_count": 2,
     "metadata": {},
     "output_type": "execute_result"
    }
   ],
   "source": [
    "import numpy as np\n",
    "np.linspace(0,3,9)"
   ]
  },
  {
   "cell_type": "code",
   "execution_count": 3,
   "metadata": {},
   "outputs": [],
   "source": [
    "import numpy as np\n",
    "from numpy import pi\n",
    "\n",
    "x=np.linspace(0,2*pi,100)"
   ]
  },
  {
   "cell_type": "code",
   "execution_count": 12,
   "metadata": {},
   "outputs": [
    {
     "name": "stdout",
     "output_type": "stream",
     "text": [
      "[[ 0  1  2  3]\n",
      " [ 4  5  6  7]\n",
      " [ 8  9 10 11]]\n",
      "\n",
      "\n",
      "3D array : \n",
      "[[[ 0  1  2  3]\n",
      "  [ 4  5  6  7]\n",
      "  [ 8  9 10 11]]\n",
      "\n",
      " [[12 13 14 15]\n",
      "  [16 17 18 19]\n",
      "  [20 21 22 23]]]\n",
      "\n",
      "\n",
      "\n",
      " 2D array : \n",
      "[[12 13 14]\n",
      " [15 16 17]\n",
      " [18 19 20]\n",
      " [21 22 23]]\n"
     ]
    }
   ],
   "source": [
    "import numpy as np\n",
    "\n",
    "x=np.arange(12).reshape(3,4)\n",
    "print(x)\n",
    "print()\n",
    "print()\n",
    "\n",
    "print(\"3D array : \")\n",
    "y=np.arange(24).reshape(2,3,4)\n",
    "print(y)\n",
    "\n",
    "print(\"\\n\\n\\n 2D array : \")\n",
    "z=np.arange(12,24).reshape(4,3)\n",
    "print(z)"
   ]
  },
  {
   "cell_type": "code",
   "execution_count": 15,
   "metadata": {},
   "outputs": [
    {
     "name": "stdout",
     "output_type": "stream",
     "text": [
      "[[   0    1    2 ...   97   98   99]\n",
      " [ 100  101  102 ...  197  198  199]\n",
      " [ 200  201  202 ...  297  298  299]\n",
      " ...\n",
      " [9700 9701 9702 ... 9797 9798 9799]\n",
      " [9800 9801 9802 ... 9897 9898 9899]\n",
      " [9900 9901 9902 ... 9997 9998 9999]]\n"
     ]
    }
   ],
   "source": [
    "import numpy as np\n",
    "big = np.arange(10000).reshape(100,100)\n",
    "print(big)"
   ]
  },
  {
   "cell_type": "code",
   "execution_count": 17,
   "metadata": {},
   "outputs": [
    {
     "name": "stdout",
     "output_type": "stream",
     "text": [
      "None\n"
     ]
    }
   ],
   "source": [
    "import numpy as np\n",
    "import sys\n",
    "\n",
    "x=np.arange(10000).reshape(100,100)\n",
    "x=np.set_printoptions(threshold=sys.maxsize)\n",
    "\n",
    "print(x)"
   ]
  },
  {
   "cell_type": "code",
   "execution_count": 27,
   "metadata": {},
   "outputs": [
    {
     "name": "stdout",
     "output_type": "stream",
     "text": [
      "[21 32 43 54 65]\n",
      "[ 20  60 120 200 300]\n",
      "[  1   8  27  64 125]\n",
      "[ 9.12945251 -9.88031624  7.4511316  -2.62374854 -3.04810621]\n",
      "[ True  True False False False]\n"
     ]
    }
   ],
   "source": [
    "import numpy as np\n",
    "\n",
    "s=np.array([20,30,40,50,60])\n",
    "a=np.array((1,2,3,4,5))\n",
    "#or a=np.array([1,2,3,4,5])\n",
    "\n",
    "\n",
    "sum=s+a\n",
    "m=s*a\n",
    "\n",
    "print(sum)\n",
    "print(m)\n",
    "\n",
    "arr=a**3\n",
    "print(arr)\n",
    "\n",
    "sinn=10*np.sin(s)\n",
    "print(sinn)\n",
    "\n",
    "tf=s<35\n",
    "print(tf)"
   ]
  },
  {
   "cell_type": "code",
   "execution_count": 33,
   "metadata": {},
   "outputs": [
    {
     "name": "stdout",
     "output_type": "stream",
     "text": [
      "[[2 3]\n",
      " [4 5]]\n",
      "[[4 3]\n",
      " [6 5]]\n",
      "a*B : \n",
      " [[ 8  9]\n",
      " [24 25]]\n",
      "a@b : \n",
      " [[26 21]\n",
      " [46 37]]\n",
      "a.dot(b) : \n",
      " [[26 21]\n",
      " [46 37]]\n"
     ]
    }
   ],
   "source": [
    "import numpy as np\n",
    "\n",
    "a=np.array([[2,3],[4,5]])\n",
    "b=np.array([[4,3],[6,5]])\n",
    "print(a)\n",
    "print(b)\n",
    "print(\"a*B : \\n\" ,a*b)\n",
    "print(\"a@b : \\n\",a@b)\n",
    "print(\"a.dot(b) : \\n\",a.dot(b))"
   ]
  },
  {
   "cell_type": "code",
   "execution_count": 58,
   "metadata": {},
   "outputs": [
    {
     "name": "stdout",
     "output_type": "stream",
     "text": [
      "[[3 3 3]\n",
      " [3 3 3]]\n",
      "[[0.36505775 0.41797715 0.95185567]\n",
      " [0.28864312 0.584853   0.19969807]]\n",
      "[[3.36505775 3.41797715 3.95185567]\n",
      " [3.28864312 3.584853   3.19969807]]\n",
      "hsjhafsg00\n",
      "[[3.36505775 3.41797715 3.95185567]\n",
      " [3.28864312 3.584853   3.19969807]]\n",
      "[[3 3 3]\n",
      " [3 3 3]]\n"
     ]
    }
   ],
   "source": [
    "import numpy as np\n",
    "a=np.ones((2,3),dtype=np.int32) #np.int or np.int64 all is valid \n",
    "a*=3\n",
    "print(a)\n",
    "b=np.random.random((2,3))\n",
    "print(b)\n",
    "c=b+a\n",
    "print(c)\n",
    "\n",
    "print(\"hsjhafsg00\")\n",
    "x=a+b\n",
    "print(x)\n",
    "\n",
    " # b is not automatically converted to integer type\n",
    "print(a)"
   ]
  },
  {
   "cell_type": "code",
   "execution_count": 59,
   "metadata": {},
   "outputs": [
    {
     "name": "stdout",
     "output_type": "stream",
     "text": [
      "float64\n",
      "[1 1 1]\n",
      "[0.         1.57079633 3.14159265]\n",
      "[1.         2.57079633 4.14159265]\n",
      "[1.         2.57079633 4.14159265]\n"
     ]
    },
    {
     "ename": "TypeError",
     "evalue": "Cannot cast ufunc add output from dtype('float64') to dtype('int32') with casting rule 'same_kind'",
     "output_type": "error",
     "traceback": [
      "\u001b[1;31m---------------------------------------------------------------------------\u001b[0m",
      "\u001b[1;31mTypeError\u001b[0m                                 Traceback (most recent call last)",
      "\u001b[1;32m<ipython-input-59-9f6016a77c16>\u001b[0m in \u001b[0;36m<module>\u001b[1;34m\u001b[0m\n\u001b[0;32m     15\u001b[0m \u001b[1;33m\u001b[0m\u001b[0m\n\u001b[0;32m     16\u001b[0m \u001b[1;33m\u001b[0m\u001b[0m\n\u001b[1;32m---> 17\u001b[1;33m \u001b[0ma\u001b[0m \u001b[1;33m+=\u001b[0m \u001b[0mb\u001b[0m\u001b[1;33m\u001b[0m\u001b[1;33m\u001b[0m\u001b[0m\n\u001b[0m",
      "\u001b[1;31mTypeError\u001b[0m: Cannot cast ufunc add output from dtype('float64') to dtype('int32') with casting rule 'same_kind'"
     ]
    }
   ],
   "source": [
    "import numpy as np\n",
    "from numpy import pi\n",
    "\n",
    "a=np.ones(3,dtype=int)\n",
    "b=np.linspace(0,pi,3)\n",
    "\n",
    "print(b.dtype)\n",
    "print(a)\n",
    "print(b)\n",
    "\n",
    "c=a+b\n",
    "d=b+a\n",
    "print(d)\n",
    "print(c)\n",
    "\n",
    "# b is not automatically converted to integer type\n",
    "a += b  "
   ]
  },
  {
   "cell_type": "code",
   "execution_count": 84,
   "metadata": {},
   "outputs": [
    {
     "name": "stdout",
     "output_type": "stream",
     "text": [
      "[[1 1 1 1]\n",
      " [1 1 1 1]]\n",
      "[[0.71381445 0.7177775  0.77878531 0.50473472]\n",
      " [0.35019862 0.20784981 0.90219506 0.15219816]]\n",
      "[[1.71381445 1.7177775  1.77878531 1.50473472]\n",
      " [1.35019862 1.20784981 1.90219506 1.15219816]]\n",
      "float64\n",
      "[[-0.14253107+0.98979033j -0.14645253+0.9892177j  -0.20649264+0.97844815j\n",
      "   0.06601357+0.99781873j]\n",
      " [ 0.21881289+0.97576684j  0.35503033+0.93485478j -0.32536597+0.94558817j\n",
      "   0.40648006+0.91365965j]]\n",
      "complex128\n"
     ]
    }
   ],
   "source": [
    "import numpy as np\n",
    "\n",
    "\n",
    "a=np.ones((2,4),dtype=np.int32)\n",
    "print(a)\n",
    "\n",
    "b=np.random.random((2,4))\n",
    "print(b)\n",
    "\n",
    "c=a+b\n",
    "print(c)\n",
    "\n",
    "print(c.dtype.name)\n",
    "\n",
    "\n",
    "d=np.exp(c*1j)\n",
    "print(d)\n",
    "\n",
    "print(d.dtype)"
   ]
  },
  {
   "cell_type": "code",
   "execution_count": 87,
   "metadata": {},
   "outputs": [
    {
     "name": "stdout",
     "output_type": "stream",
     "text": [
      "[[0.37569019 0.53969295 0.32788376]\n",
      " [0.43806894 0.18354476 0.31612921]]\n",
      "2.1810098217170646\n",
      "0.18354476465044844\n",
      "0.5396929527346548\n"
     ]
    }
   ],
   "source": [
    "import numpy as np\n",
    "a=np.random.random((2,3))\n",
    "print(a)\n",
    "print(a.sum())\n",
    "print(a.min())\n",
    "print(a.max())\n",
    "\n"
   ]
  },
  {
   "cell_type": "code",
   "execution_count": 96,
   "metadata": {},
   "outputs": [
    {
     "name": "stdout",
     "output_type": "stream",
     "text": [
      "[[ 0  1  2  3]\n",
      " [ 4  5  6  7]\n",
      " [ 8  9 10 11]]\n",
      "[12 15 18 21]\n",
      "[ 6 22 38]\n"
     ]
    }
   ],
   "source": [
    "import  numpy as np\n",
    "\n",
    "r=np.arange(12).reshape((3,4))\n",
    "print(r)\n",
    "\n",
    "column=r.sum(axis=0) # sum of each column\n",
    "print(column)\n",
    "\n",
    "# sum of each row\n",
    "row=r.sum(axis=1)\n",
    "print(row)\n",
    "\n",
    "\n",
    "#axis 0 = column\n",
    "#axis 1 = row\n"
   ]
  },
  {
   "cell_type": "code",
   "execution_count": 103,
   "metadata": {},
   "outputs": [
    {
     "name": "stdout",
     "output_type": "stream",
     "text": [
      "[0 1 2]\n",
      "[1.         2.71828183 7.3890561 ]\n",
      "[0.         1.         1.41421356]\n"
     ]
    },
    {
     "data": {
      "text/plain": [
       "array([1, 3, 5])"
      ]
     },
     "execution_count": 103,
     "metadata": {},
     "output_type": "execute_result"
    }
   ],
   "source": [
    "import numpy as np\n",
    "\n",
    "b=np.arange(3)\n",
    "print(b)\n",
    "print(np.exp(b))\n",
    "print(np.sqrt(b))\n",
    "\n",
    "c=np.array((1,2,3))\n",
    "np.add(b,c) #important"
   ]
  },
  {
   "cell_type": "markdown",
   "metadata": {},
   "source": [
    "###### Indexing, Slicing and Iterating¶"
   ]
  },
  {
   "cell_type": "code",
   "execution_count": 129,
   "metadata": {},
   "outputs": [
    {
     "name": "stdout",
     "output_type": "stream",
     "text": [
      "[  0   1   8  27  64 125 216 343 512 729]\n",
      "8\n",
      "[ 0  1  8 27 64]\n",
      "[  8  27  64 125 216 343 512 729]\n",
      "[  8  64 216]\n",
      "[-100    1 -100   27   64  125  216  343  512  729]\n",
      "[ 729  512  343  216  125   64   27 -100    1 -100]\n",
      "10000\n",
      "1\n",
      "10000\n",
      "729\n",
      "4096\n",
      "15625\n",
      "46656\n",
      "117649\n",
      "262144\n",
      "531441\n"
     ]
    }
   ],
   "source": [
    "import numpy as np\n",
    "a=np.arange(10)**3\n",
    "print(a)\n",
    "\n",
    "print(a[2])\n",
    "print(a[:5])\n",
    "print(a[2:])\n",
    "print(a[2:7:2])\n",
    "a[ :4:2]= -100\n",
    "print(a)\n",
    "\n",
    "print(a[::-1])\n",
    "\n",
    "for i in a:\n",
    "    print(i**2)"
   ]
  },
  {
   "cell_type": "markdown",
   "metadata": {},
   "source": [
    "###### important"
   ]
  },
  {
   "cell_type": "code",
   "execution_count": 144,
   "metadata": {},
   "outputs": [
    {
     "name": "stdout",
     "output_type": "stream",
     "text": [
      "[[ 0  1  2]\n",
      " [10 11 12]\n",
      " [20 21 22]]\n",
      "22\n",
      "[ 2 12 22]\n",
      "[ 1 11 21]\n",
      "[ 2 12 22]\n",
      "22\n",
      "[ 2 12 22]\n"
     ]
    }
   ],
   "source": [
    "import numpy as np\n",
    "\n",
    "def f(x,y):\n",
    "    return 10*x+y\n",
    "\n",
    "b=np.fromfunction(f,(3,3),dtype=int)\n",
    "print(b)\n",
    "\n",
    "print(b[2,2])\n",
    "print(b[:,2])\n",
    "print(b[:,1])\n",
    "print(b[0:3,2])\n",
    "print(b[-1,-1])\n",
    "print(b[:,-1])"
   ]
  },
  {
   "cell_type": "code",
   "execution_count": 147,
   "metadata": {},
   "outputs": [
    {
     "data": {
      "text/plain": [
       "'The dots (...) represent as many colons as needed to produce a complete \\nindexing tuple. For example, if x is an array with 5 axes, then\\n\\nx[1,2,...] is equivalent to x[1,2,:,:,:],\\nx[...,3] to x[:,:,:,:,3] and\\nx[4,...,5,:] to x[4,:,:,5,:].'"
      ]
     },
     "execution_count": 147,
     "metadata": {},
     "output_type": "execute_result"
    }
   ],
   "source": [
    "'''The dots (...) represent as many colons as needed to produce a complete \n",
    "indexing tuple. For example, if x is an array with 5 axes, then\n",
    "\n",
    "x[1,2,...] is equivalent to x[1,2,:,:,:],\n",
    "x[...,3] to x[:,:,:,:,3] and\n",
    "x[4,...,5,:] to x[4,:,:,5,:].'''"
   ]
  },
  {
   "cell_type": "code",
   "execution_count": 150,
   "metadata": {},
   "outputs": [
    {
     "name": "stdout",
     "output_type": "stream",
     "text": [
      "(2, 2, 3)\n",
      "[[100 101 102]\n",
      " [110 112 113]]\n"
     ]
    },
    {
     "data": {
      "text/plain": [
       "array([[  2,  13],\n",
       "       [102, 113]])"
      ]
     },
     "execution_count": 150,
     "metadata": {},
     "output_type": "execute_result"
    }
   ],
   "source": [
    "c = np.array( [[[  0,  1,  2],               # a 3D array (two stacked 2D arrays)\n",
    "...                 [ 10, 12, 13]],\n",
    "...                [[100,101,102],\n",
    "...                 [110,112,113]]])\n",
    ">>> print(c.shape)\n",
    ">>> print(c[1,...]  )                                 # same as c[1,:,:] or c[1]\n",
    "\n",
    ">>> c[...,2]                                   # same as c[:,:,2]\n"
   ]
  },
  {
   "cell_type": "code",
   "execution_count": 154,
   "metadata": {},
   "outputs": [
    {
     "name": "stdout",
     "output_type": "stream",
     "text": [
      "[[0 1 2]\n",
      " [2 3 4]\n",
      " [4 5 6]]\n",
      "[0 1 2]\n",
      "[2 3 4]\n",
      "[4 5 6]\n",
      "0 1 2 2 3 4 4 5 6 "
     ]
    }
   ],
   "source": [
    "def f(a,b):\n",
    "    return 2*a+b\n",
    "\n",
    "b=np.fromfunction(f,(3,3),dtype=int)\n",
    "\n",
    "print(b)\n",
    "\n",
    "for w in b:\n",
    "    print(w)\n",
    "    \n",
    "for w in b.flat:\n",
    "    print(w,end=\" \")"
   ]
  },
  {
   "cell_type": "markdown",
   "metadata": {},
   "source": [
    "###### shape manipulation"
   ]
  },
  {
   "cell_type": "code",
   "execution_count": 165,
   "metadata": {},
   "outputs": [
    {
     "name": "stdout",
     "output_type": "stream",
     "text": [
      "[[ 4.50387215  3.41972863  3.74182111]\n",
      " [12.95180068 18.8881076  13.17880508]\n",
      " [16.14684075 11.01853052 16.46826584]]\n",
      "(3, 3)\n",
      "float64\n",
      "8\n",
      "9\n",
      "[[ 4.  3.  3.]\n",
      " [12. 18. 13.]\n",
      " [16. 11. 16.]]\n"
     ]
    }
   ],
   "source": [
    "import numpy as np\n",
    "a=20*np.random.random((3,3))\n",
    "print(a)\n",
    "print(a.shape)\n",
    "print(a.dtype)\n",
    "print(a.dtype.itemsize)\n",
    "print(a.size)\n",
    "\n",
    "b=np.floor(a)\n",
    "print(b)"
   ]
  },
  {
   "cell_type": "code",
   "execution_count": 182,
   "metadata": {},
   "outputs": [
    {
     "name": "stdout",
     "output_type": "stream",
     "text": [
      "[[ 0  1  2  3]\n",
      " [ 4  5  6  7]\n",
      " [ 8  9 10 11]]\n",
      "[ 0  1  2  3  4  5  6  7  8  9 10 11]\n",
      "[[ 0  1]\n",
      " [ 2  3]\n",
      " [ 4  5]\n",
      " [ 6  7]\n",
      " [ 8  9]\n",
      " [10 11]]\n",
      "[[ 0  4  8]\n",
      " [ 1  5  9]\n",
      " [ 2  6 10]\n",
      " [ 3  7 11]]\n"
     ]
    }
   ],
   "source": [
    "import numpy as np\n",
    "\n",
    "a=np.arange(12).reshape(3,4)\n",
    "print(a)\n",
    "\n",
    "print(a.ravel())\n",
    "print(a.reshape(6,2))\n",
    "print(a.T)"
   ]
  },
  {
   "cell_type": "code",
   "execution_count": 4,
   "metadata": {},
   "outputs": [
    {
     "name": "stdout",
     "output_type": "stream",
     "text": [
      "[[  1   2   3  55]\n",
      " [  3  33 333  55]\n",
      " [  6   7   8  55]]\n",
      "(3, 4)\n",
      "[[  1   3   6]\n",
      " [  2  33   7]\n",
      " [  3 333   8]\n",
      " [ 55  55  55]]\n",
      "(4, 3)\n"
     ]
    }
   ],
   "source": [
    "import numpy as np\n",
    "\n",
    "a=np.array([[1,2,3,55],[3,33,333,55],[6,7,8,55]])\n",
    "print(a)\n",
    "print(a.shape)\n",
    "print(a.T)\n",
    "print(a.T.shape)"
   ]
  },
  {
   "cell_type": "code",
   "execution_count": 11,
   "metadata": {},
   "outputs": [
    {
     "name": "stdout",
     "output_type": "stream",
     "text": [
      "[[  1   2   3  55]\n",
      " [  3  33 333  55]\n",
      " [  6   7   8  55]]\n",
      "[[  1   2]\n",
      " [  3  55]\n",
      " [  3  33]\n",
      " [333  55]\n",
      " [  6   7]\n",
      " [  8  55]]\n",
      "\n",
      "\n",
      "\n",
      "If a dimension is given as -1 in a reshaping operation, the other dimensions are automatically calculated:\n",
      "[[  1   2   3]\n",
      " [ 55   3  33]\n",
      " [333  55   6]\n",
      " [  7   8  55]]\n"
     ]
    }
   ],
   "source": [
    "import numpy as np\n",
    "a=np.array([[1,2,3,55],[3,33,333,55],[6,7,8,55]])\n",
    "print(a)\n",
    "print(a.reshape(6,2))\n",
    "print(\"\\n\\n\")\n",
    "print('If a dimension is given as -1 in a reshaping operation, the other dimensions are automatically calculated:')\n",
    "print(a.reshape(4,-5))"
   ]
  },
  {
   "cell_type": "code",
   "execution_count": 15,
   "metadata": {},
   "outputs": [
    {
     "name": "stdout",
     "output_type": "stream",
     "text": [
      "[[3. 9. 7. 0.]\n",
      " [1. 3. 1. 5.]\n",
      " [1. 4. 4. 7.]]\n",
      "[[0.56735635 0.1428008  0.76496431 0.91396843 0.41039242]\n",
      " [0.07722633 0.68404198 0.94561731 0.83633593 0.36238552]\n",
      " [0.051645   0.31640403 0.09288076 0.09360845 0.33100247]]\n"
     ]
    }
   ],
   "source": [
    "import numpy as np\n",
    "a=np.floor(10*np.random.random((3,4)))\n",
    "print(a)\n",
    "b=np.random.random((3,5))\n",
    "print(b)\n"
   ]
  },
  {
   "cell_type": "code",
   "execution_count": 26,
   "metadata": {},
   "outputs": [
    {
     "name": "stdout",
     "output_type": "stream",
     "text": [
      "[[0.48250101 0.05691011 0.20522599]\n",
      " [0.35886714 0.355942   0.32041351]]\n"
     ]
    }
   ],
   "source": [
    "import numpy as np\n",
    "\n",
    "a=np.random.rand(2,3)\n",
    "print(a)"
   ]
  },
  {
   "cell_type": "code",
   "execution_count": 7,
   "metadata": {},
   "outputs": [
    {
     "name": "stdout",
     "output_type": "stream",
     "text": [
      "[[[0.22986514 0.89716254 0.12016507 0.10438197]\n",
      "  [0.08830716 0.65299878 0.5501035  0.0765567 ]\n",
      "  [0.29946555 0.25417973 0.59761616 0.69428983]]\n",
      "\n",
      " [[0.62153207 0.95841643 0.18503721 0.00640229]\n",
      "  [0.9417624  0.21477233 0.72388555 0.0828646 ]\n",
      "  [0.65511856 0.23632511 0.33606272 0.51609876]]]\n",
      "(2, 3, 4)\n",
      "24\n",
      "[0.22986514 0.89716254 0.12016507 0.10438197 0.08830716 0.65299878\n",
      " 0.5501035  0.0765567  0.29946555 0.25417973 0.59761616 0.69428983\n",
      " 0.62153207 0.95841643 0.18503721 0.00640229 0.9417624  0.21477233\n",
      " 0.72388555 0.0828646  0.65511856 0.23632511 0.33606272 0.51609876]\n"
     ]
    },
    {
     "data": {
      "text/plain": [
       "array([[0.22986514, 0.89716254, 0.12016507],\n",
       "       [0.10438197, 0.08830716, 0.65299878],\n",
       "       [0.5501035 , 0.0765567 , 0.29946555],\n",
       "       [0.25417973, 0.59761616, 0.69428983],\n",
       "       [0.62153207, 0.95841643, 0.18503721],\n",
       "       [0.00640229, 0.9417624 , 0.21477233],\n",
       "       [0.72388555, 0.0828646 , 0.65511856],\n",
       "       [0.23632511, 0.33606272, 0.51609876]])"
      ]
     },
     "execution_count": 7,
     "metadata": {},
     "output_type": "execute_result"
    }
   ],
   "source": [
    "import numpy as np\n",
    "a=np.random.random((2,3,4))\n",
    "print(a)\n",
    "print(a.shape)\n",
    "print(a.size)\n",
    "print(a.ravel())\n",
    "a.reshape(8,3)"
   ]
  },
  {
   "cell_type": "code",
   "execution_count": 18,
   "metadata": {},
   "outputs": [
    {
     "name": "stdout",
     "output_type": "stream",
     "text": [
      "[[9. 7. 2. 8.]\n",
      " [0. 8. 1. 6.]\n",
      " [3. 4. 8. 0.]]\n",
      "(3, 4)\n",
      "[[9. 0. 3.]\n",
      " [7. 8. 4.]\n",
      " [2. 1. 8.]\n",
      " [8. 6. 0.]]\n"
     ]
    },
    {
     "data": {
      "text/plain": [
       "(4, 3)"
      ]
     },
     "execution_count": 18,
     "metadata": {},
     "output_type": "execute_result"
    }
   ],
   "source": [
    "import numpy as np\n",
    "a=10*np.random.random((3,4))\n",
    "b=np.floor(a)\n",
    "print(b)\n",
    "print(b.shape)\n",
    "c=b.T\n",
    "print(c)\n",
    "c.shape\n"
   ]
  },
  {
   "cell_type": "code",
   "execution_count": 33,
   "metadata": {},
   "outputs": [
    {
     "name": "stdout",
     "output_type": "stream",
     "text": [
      "[[ 0  1  2  3]\n",
      " [ 4  5  6  7]\n",
      " [ 8  9 10 11]]\n",
      "[[ 0  1  2  3]\n",
      " [ 4  5  6  7]\n",
      " [ 8  9 10 11]]\n",
      "False\n",
      "False\n",
      "False\n",
      "(3, 4)\n",
      "(6, 2)\n",
      "[[ 0  1]\n",
      " [ 2 55]\n",
      " [ 4  5]\n",
      " [ 6  7]\n",
      " [ 8  9]\n",
      " [10 11]]\n",
      "[[ 0  1  2 55]\n",
      " [ 4  5  6  7]\n",
      " [ 8  9 10 11]]\n",
      "False\n"
     ]
    }
   ],
   "source": [
    "#view or shallow copy\n",
    "\n",
    "import numpy as np\n",
    "a=np.arange(12).reshape(3,4)\n",
    "c=a.view()\n",
    "print(a)\n",
    "print(c)\n",
    "print(c is a)\n",
    "print(c.base is a)\n",
    "print(c.flags.owndata)\n",
    "c.shape=6,2\n",
    "print(a.shape)\n",
    "print(c.shape)\n",
    "c[1,1]=55\n",
    "print(c)\n",
    "print(a)\n",
    "print(c.base is a)"
   ]
  },
  {
   "cell_type": "code",
   "execution_count": 39,
   "metadata": {},
   "outputs": [
    {
     "name": "stdout",
     "output_type": "stream",
     "text": [
      "[[ 0  1  2  3  4  5]\n",
      " [ 6  7  8  9 10 11]\n",
      " [12 13 14 15 16 17]\n",
      " [18 19 20 21 22 23]]\n",
      "[[ 2  3  4]\n",
      " [ 8  9 10]\n",
      " [14 15 16]]\n"
     ]
    }
   ],
   "source": [
    "import numpy as np\n",
    "a=np.arange(24).reshape(4,6)\n",
    "print(a)\n",
    "\n",
    "b=a[0:3,2:5]\n",
    "print(b)\n"
   ]
  },
  {
   "cell_type": "code",
   "execution_count": null,
   "metadata": {},
   "outputs": [],
   "source": []
  },
  {
   "cell_type": "code",
   "execution_count": null,
   "metadata": {},
   "outputs": [],
   "source": []
  },
  {
   "cell_type": "code",
   "execution_count": null,
   "metadata": {},
   "outputs": [],
   "source": []
  },
  {
   "cell_type": "code",
   "execution_count": null,
   "metadata": {},
   "outputs": [],
   "source": []
  },
  {
   "cell_type": "code",
   "execution_count": null,
   "metadata": {},
   "outputs": [],
   "source": []
  }
 ],
 "metadata": {
  "kernelspec": {
   "display_name": "Python 3",
   "language": "python",
   "name": "python3"
  },
  "language_info": {
   "codemirror_mode": {
    "name": "ipython",
    "version": 3
   },
   "file_extension": ".py",
   "mimetype": "text/x-python",
   "name": "python",
   "nbconvert_exporter": "python",
   "pygments_lexer": "ipython3",
   "version": "3.7.3"
  }
 },
 "nbformat": 4,
 "nbformat_minor": 2
}
