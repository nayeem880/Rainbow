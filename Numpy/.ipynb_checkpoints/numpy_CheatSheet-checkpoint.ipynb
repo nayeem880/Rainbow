{
 "cells": [
  {
   "cell_type": "code",
   "execution_count": 8,
   "metadata": {},
   "outputs": [
    {
     "name": "stdout",
     "output_type": "stream",
     "text": [
      "   1: ?plot\n",
      "   2: ?help\n",
      "   3: help(help)\n",
      "   4: ipython -pylab\n",
      "   5: help(plot)\n",
      "   6: hist -n\n",
      "   7: hist\n",
      "   8: hist -n\n"
     ]
    }
   ],
   "source": [
    "hist -n\n"
   ]
  },
  {
   "cell_type": "code",
   "execution_count": 27,
   "metadata": {},
   "outputs": [
    {
     "name": "stdout",
     "output_type": "stream",
     "text": [
      "61\n",
      "71\n",
      "330\n",
      "13.2\n",
      "-1319303399\n",
      "1\n",
      "1\n"
     ]
    }
   ],
   "source": [
    "import numpy as np \n",
    "a=5\n",
    "b=66\n",
    "print(np.subtract(b,a))\n",
    "print(np.add(a,b))\n",
    "print(np.multiply(a,b))\n",
    "print(np.divide(b,a))\n",
    "print(np.power(a,b))\n",
    "print(np.remainder(b,a))\n",
    "print(np.fmod(b,a))"
   ]
  },
  {
   "cell_type": "code",
   "execution_count": 32,
   "metadata": {},
   "outputs": [
    {
     "name": "stdout",
     "output_type": "stream",
     "text": [
      "62\n",
      "equivalent to a+=b or a=a+b\n"
     ]
    }
   ],
   "source": [
    "import numpy as np\n",
    "\n",
    "a=55\n",
    "b=7\n",
    "print(np.add(a,b))\n",
    "print(\"equivalent to a+=b or a=a+b\")"
   ]
  },
  {
   "cell_type": "code",
   "execution_count": 38,
   "metadata": {},
   "outputs": [
    {
     "name": "stdout",
     "output_type": "stream",
     "text": [
      "Relational operators\n",
      "False\n",
      "True\n",
      "True\n",
      "True\n",
      "False\n",
      "Fmod :\n",
      "11\n"
     ]
    }
   ],
   "source": [
    "print(\"Relational operators in numpy : \")\n",
    "a=44\n",
    "b=33\n",
    "print(np.equal(a,b))\n",
    "print(np.greater(a,b))\n",
    "print(np.not_equal(a,b))\n",
    "print(np.greater_equal(a,b))\n",
    "print(np.less_equal(a,b))\n",
    "\n",
    "print(\"Fmod :\")\n",
    "print(np.fmod(a,b))"
   ]
  },
  {
   "cell_type": "code",
   "execution_count": 46,
   "metadata": {},
   "outputs": [
    {
     "name": "stdout",
     "output_type": "stream",
     "text": [
      "Logical operators in numpy : \n",
      "True\n",
      "True\n",
      "False\n",
      "False\n"
     ]
    }
   ],
   "source": [
    "print(\"Logical operators in numpy : \")\n",
    "print(np.logical_and(a,b))\n",
    "print(np.logical_or(a,b))\n",
    "print(np.logical_xor(a,b))\n",
    "print(np.logical_not(a))\n",
    "\n",
    "\n",
    "\n"
   ]
  },
  {
   "cell_type": "code",
   "execution_count": 61,
   "metadata": {},
   "outputs": [
    {
     "name": "stdout",
     "output_type": "stream",
     "text": [
      "Root and logarithm  in numpy :\n",
      "SQRT of 3 is :  1.7320508075688772 \n",
      "\n",
      "log of 3 is  1.0986122886681098 \n",
      "\n",
      "log10 of 3 is  0.47712125471966244 \n",
      "\n",
      "log base 2/binary of a is  2.321928094887362 \n",
      "\n",
      "exponential function : \n",
      "exp of b is :  22026.465794806718\n"
     ]
    }
   ],
   "source": [
    "from numpy import math\n",
    "a=5\n",
    "b=10\n",
    "print(\"Root and logarithm  in numpy :\")\n",
    "print(\"SQRT of 3 is : \",np.math.sqrt(3),\"\\n\")\n",
    "print(\"log of 3 is \",np.math.log(3),\"\\n\")\n",
    "print(\"log10 of 3 is \",np.math.log10(3),\"\\n\")\n",
    "print(\"log base 2/binary of a is \",np.math.log(a,2),\"\\n\")\n",
    "print(\"exponential function : \")\n",
    "print(\"exp of b is : \",np.math.exp(b)) "
   ]
  },
  {
   "cell_type": "code",
   "execution_count": 71,
   "metadata": {},
   "outputs": [
    {
     "name": "stdout",
     "output_type": "stream",
     "text": [
      "Round off in numpy :\n",
      "\n",
      "\n",
      "4.0\n",
      "10.0\n",
      "6.0\n",
      "\n",
      "fix always rounds towards zero : \n",
      "7.0\n"
     ]
    }
   ],
   "source": [
    "print(\"Round off in numpy :\\n\\n\")\n",
    "\n",
    "a=4.403445\n",
    "b=9.4\n",
    "c=6.6\n",
    "d=7.7\n",
    "print(np.around(a))\n",
    "print(np.ceil(b))\n",
    "print(np.floor(c))\n",
    "print()\n",
    "print(\"fix always rounds towards zero : \")\n",
    "print(np.fix(d))"
   ]
  },
  {
   "cell_type": "code",
   "execution_count": 73,
   "metadata": {},
   "outputs": [
    {
     "name": "stdout",
     "output_type": "stream",
     "text": [
      "Mathematical constants : \n",
      "3.141592653589793\n",
      "2.718281828459045\n",
      "2.718281828459045\n"
     ]
    }
   ],
   "source": [
    "print(\"Mathematical constants : \")\n",
    "print(math.pi)\n",
    "print(math.e)\n",
    "print(math.exp(1))"
   ]
  },
  {
   "cell_type": "code",
   "execution_count": 88,
   "metadata": {},
   "outputs": [
    {
     "name": "stdout",
     "output_type": "stream",
     "text": [
      "complex numbers in numpuy : \n",
      "(3+2j)\n",
      "(2+5j)\n",
      "5.385164807134504\n",
      "2.0\n",
      "5.0\n",
      "(2-5j)\n"
     ]
    }
   ],
   "source": [
    "print(\"complex numbers in numpuy : \")\n",
    "z=3+2j\n",
    "print(z)\n",
    "a=complex(2,5)\n",
    "print(a)\n",
    "print(abs(a))\n",
    "print(a.real)\n",
    "print(a.imag)\n",
    "print(a.conjugate())"
   ]
  },
  {
   "cell_type": "code",
   "execution_count": 86,
   "metadata": {},
   "outputs": [
    {
     "name": "stdout",
     "output_type": "stream",
     "text": [
      "Missing part in numpy : \n",
      "nan=not a number\n",
      "inf = infinity\n",
      "plus_inf\n",
      "minus_inf\n",
      "plus_zero\n",
      "minus_zero\n"
     ]
    }
   ],
   "source": [
    "print(\"Missing part in numpy : \")\n",
    "print(\"nan=not a number\") \n",
    "print(\"inf = infinity\") \n",
    "print(\"plus_inf\") \n",
    "print(\"minus_inf\") \n",
    "print(\"plus_zero\") \n",
    "print(\"minus_zero\") "
   ]
  },
  {
   "cell_type": "code",
   "execution_count": 94,
   "metadata": {},
   "outputs": [
    {
     "name": "stdout",
     "output_type": "stream",
     "text": [
      "Trigonmetry : \n",
      "Hypotenus - euclidean distance : \n",
      "6.4031242374328485\n",
      "\n",
      "\n",
      "\n",
      "arctangent is to check\n"
     ]
    }
   ],
   "source": [
    "print(\"Trigonmetry : \")\n",
    "\n",
    "print(\"Hypotenus - euclidean distance : \")\n",
    "print(np.hypot(4,5))\n",
    "print(\"\\n\\n\\narctangent is to check\")"
   ]
  },
  {
   "cell_type": "code",
   "execution_count": 111,
   "metadata": {},
   "outputs": [
    {
     "name": "stdout",
     "output_type": "stream",
     "text": [
      "[[0.49210335 0.83086309 0.33545824]\n",
      " [0.80177436 0.82196373 0.8364195 ]]\n",
      "5.2347921890915625\n",
      "[3.49302837 3.52824389 4.4178156  3.87986777 2.0858419  4.46912099]\n"
     ]
    }
   ],
   "source": [
    "print(np.random.random((6)).reshape(2,3))\n",
    "print(np.random.uniform(2,5,6))"
   ]
  },
  {
   "cell_type": "code",
   "execution_count": 114,
   "metadata": {},
   "outputs": [
    {
     "name": "stdout",
     "output_type": "stream",
     "text": [
      "[ 0  2  4  6  8 10 12 14 16 18]\n"
     ]
    }
   ],
   "source": [
    "print(np.arange(0,20,2))"
   ]
  },
  {
   "cell_type": "code",
   "execution_count": 119,
   "metadata": {},
   "outputs": [
    {
     "name": "stdout",
     "output_type": "stream",
     "text": [
      "2.434019234921024\n",
      "[[2.89119371 0.09301093 0.78873234]\n",
      " [3.49474248 0.16018322 0.9523864 ]]\n"
     ]
    }
   ],
   "source": [
    "print(np.random.uniform(8))\n",
    "print(np.random.uniform(0,6,(2,3)))\n"
   ]
  },
  {
   "cell_type": "code",
   "execution_count": 123,
   "metadata": {},
   "outputs": [
    {
     "name": "stdout",
     "output_type": "stream",
     "text": [
      "[-2.07827241  0.75126003  0.9468519  -0.50737365  0.04187923]\n"
     ]
    }
   ],
   "source": [
    "print(np.random.standard_normal((5)))"
   ]
  },
  {
   "cell_type": "code",
   "execution_count": null,
   "metadata": {},
   "outputs": [],
   "source": []
  },
  {
   "cell_type": "code",
   "execution_count": null,
   "metadata": {},
   "outputs": [],
   "source": []
  },
  {
   "cell_type": "code",
   "execution_count": null,
   "metadata": {},
   "outputs": [],
   "source": []
  },
  {
   "cell_type": "code",
   "execution_count": null,
   "metadata": {},
   "outputs": [],
   "source": []
  },
  {
   "cell_type": "code",
   "execution_count": null,
   "metadata": {},
   "outputs": [],
   "source": []
  },
  {
   "cell_type": "code",
   "execution_count": null,
   "metadata": {},
   "outputs": [],
   "source": []
  },
  {
   "cell_type": "code",
   "execution_count": null,
   "metadata": {},
   "outputs": [],
   "source": []
  },
  {
   "cell_type": "code",
   "execution_count": null,
   "metadata": {},
   "outputs": [],
   "source": []
  },
  {
   "cell_type": "code",
   "execution_count": null,
   "metadata": {},
   "outputs": [],
   "source": []
  },
  {
   "cell_type": "code",
   "execution_count": null,
   "metadata": {},
   "outputs": [],
   "source": []
  }
 ],
 "metadata": {
  "kernelspec": {
   "display_name": "Python 3",
   "language": "python",
   "name": "python3"
  },
  "language_info": {
   "codemirror_mode": {
    "name": "ipython",
    "version": 3
   },
   "file_extension": ".py",
   "mimetype": "text/x-python",
   "name": "python",
   "nbconvert_exporter": "python",
   "pygments_lexer": "ipython3",
   "version": "3.7.3"
  }
 },
 "nbformat": 4,
 "nbformat_minor": 2
}
