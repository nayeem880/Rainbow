{
 "cells": [
  {
   "cell_type": "code",
   "execution_count": 1,
   "metadata": {},
   "outputs": [
    {
     "name": "stdout",
     "output_type": "stream",
     "text": [
      "Hello world\n"
     ]
    }
   ],
   "source": [
    "print(\"Hello world\")"
   ]
  },
  {
   "cell_type": "code",
   "execution_count": 1,
   "metadata": {},
   "outputs": [
    {
     "name": "stdout",
     "output_type": "stream",
     "text": [
      "Python program to do arithmetical operations\n",
      "Enter first number : 55\n",
      "Enter second number : 5\n",
      "Choose operator +/-/*// : 4\n",
      "Division is :  11.0\n",
      "Would you like to continue again? enter 0 to continue and 1 to leave : 0\n",
      "Enter first number : 55\n",
      "Enter second number : 1\n",
      "Choose operator +/-/*// : 1\n",
      "Sum is :  56\n",
      "Would you like to continue again? enter 0 to continue and 1 to leave : 1\n",
      "Thanks for using calculator\n"
     ]
    }
   ],
   "source": [
    "print(\"Python program to do arithmetical operations\")\n",
    "\n",
    "x=0\n",
    "while x==0:\n",
    "    num1= int(input(\"Enter first number : \"))\n",
    "    num2= int(input(\"Enter second number : \"))\n",
    "    if (num2> num1):\n",
    "        print(\"You can't do division so choose sum/subtraction or multiplication : \")\n",
    "        op = str(input(\"Choose operator +/-/* : \"))\n",
    "    elif num1>num2:\n",
    "        op = str(input(\"Choose operator +/-/*// : \"))\n",
    "    \n",
    "    if num1>num2 and op== \"4\" :\n",
    "        print(\"Division is : \",num1/num2)\n",
    "    elif num2>num1 and op==\"4\" :\n",
    "        print(\"number 2 can't be greater than number 1 \")\n",
    "    elif op ==\"1\":\n",
    "        print(\"Sum is : \",num1+num2)\n",
    "    elif op==\"2\":\n",
    "        print(\"Subtraction is : \",num1-num2)\n",
    "    elif op== \"3\":\n",
    "        print(\"multiplication is : \",num1*num2)\n",
    "    else :\n",
    "        print(\"Please enter right key next time.Your operator is blank or wrong\")\n",
    "    x=int(input(\"Would you like to continue again? enter 0 to continue and 1 to leave : \") )       \n",
    "\n",
    "print(\"Thanks for using calculator\")        \n",
    "        "
   ]
  },
  {
   "cell_type": "code",
   "execution_count": null,
   "metadata": {},
   "outputs": [],
   "source": []
  },
  {
   "cell_type": "code",
   "execution_count": null,
   "metadata": {},
   "outputs": [],
   "source": []
  }
 ],
 "metadata": {
  "kernelspec": {
   "display_name": "Python 3",
   "language": "python",
   "name": "python3"
  },
  "language_info": {
   "codemirror_mode": {
    "name": "ipython",
    "version": 3
   },
   "file_extension": ".py",
   "mimetype": "text/x-python",
   "name": "python",
   "nbconvert_exporter": "python",
   "pygments_lexer": "ipython3",
   "version": "3.7.3"
  }
 },
 "nbformat": 4,
 "nbformat_minor": 2
}
