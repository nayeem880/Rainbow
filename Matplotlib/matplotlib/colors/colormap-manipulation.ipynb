{
 "cells": [
  {
   "cell_type": "code",
   "execution_count": null,
   "metadata": {},
   "outputs": [],
   "source": [
    "%matplotlib inline"
   ]
  },
  {
   "cell_type": "markdown",
   "metadata": {},
   "source": [
    "\n",
    "********************************\n",
    "Creating Colormaps in Matplotlib\n",
    "********************************\n",
    "\n",
    "Matplotlib has a number of built-in colormaps accessible via\n",
    "`.matplotlib.cm.get_cmap`.  There are also external libraries like\n",
    "palettable_ that have many extra colormaps.\n",
    "\n",
    "\n",
    "However, we often want to create or manipulate colormaps in Matplotlib.\n",
    "This can be done using the class `.ListedColormap` and a Nx4 numpy array of\n",
    "values between 0 and 1 to represent the RGBA values of the colormap.  There\n",
    "is also a `.LinearSegmentedColormap` class that allows colormaps to be\n",
    "specified with a few anchor points defining segments, and linearly\n",
    "interpolating between the anchor points.\n",
    "\n",
    "Getting colormaps and accessing their values\n",
    "============================================\n",
    "\n",
    "First, getting a named colormap, most of which are listed in\n",
    ":doc:`/tutorials/colors/colormaps` requires the use of\n",
    "`.matplotlib.cm.get_cmap`, which returns a\n",
    ":class:`.matplotlib.colors.ListedColormap` object.  The second argument gives\n",
    "the size of the list of colors used to define the colormap, and below we\n",
    "use a modest value of 12 so there are not a lot of values to look at.\n",
    "\n"
   ]
  },
  {
   "cell_type": "code",
   "execution_count": null,
   "metadata": {},
   "outputs": [],
   "source": [
    "import numpy as np\n",
    "import matplotlib.pyplot as plt\n",
    "from matplotlib import cm\n",
    "from matplotlib.colors import ListedColormap, LinearSegmentedColormap\n",
    "\n",
    "viridis = cm.get_cmap('viridis', 12)\n",
    "print(viridis)"
   ]
  },
  {
   "cell_type": "markdown",
   "metadata": {},
   "source": [
    "The object ``viridis`` is a callable, that when passed a float between\n",
    "0 and 1 returns an RGBA value from the colormap:\n",
    "\n"
   ]
  },
  {
   "cell_type": "code",
   "execution_count": null,
   "metadata": {},
   "outputs": [],
   "source": [
    "print(viridis(0.56))"
   ]
  },
  {
   "cell_type": "markdown",
   "metadata": {},
   "source": [
    "The list of colors that comprise the colormap can be directly accessed using\n",
    "the ``colors`` property,\n",
    "or it can be accessed indirectly by calling  ``viridis`` with an array\n",
    "of values matching the length of the colormap.  Note that the returned list\n",
    "is in the form of an RGBA Nx4 array, where N is the length of the colormap.\n",
    "\n"
   ]
  },
  {
   "cell_type": "code",
   "execution_count": null,
   "metadata": {},
   "outputs": [],
   "source": [
    "print('viridis.colors', viridis.colors)\n",
    "print('viridis(range(12))', viridis(range(12)))\n",
    "print('viridis(np.linspace(0, 1, 12))', viridis(np.linspace(0, 1, 12)))"
   ]
  },
  {
   "cell_type": "markdown",
   "metadata": {},
   "source": [
    "The colormap is a lookup table, so \"oversampling\" the colormap returns\n",
    "nearest-neighbor interpolation (note the repeated colors in the list below)\n",
    "\n"
   ]
  },
  {
   "cell_type": "code",
   "execution_count": null,
   "metadata": {},
   "outputs": [],
   "source": [
    "print('viridis(np.linspace(0, 1, 15))', viridis(np.linspace(0, 1, 15)))"
   ]
  },
  {
   "cell_type": "markdown",
   "metadata": {},
   "source": [
    "Creating listed colormaps\n",
    "=========================\n",
    "\n",
    "This is essential the inverse operation of the above where we supply a\n",
    "Nx4 numpy array with all values between 0 and 1,\n",
    "to `.ListedColormap` to make a new colormap.  This means that\n",
    "any numpy operations that we can do on a Nx4 array make carpentry of\n",
    "new colormaps from existing colormaps quite straight forward.\n",
    "\n",
    "Suppose we want to make the first 25 entries of a 256-length \"viridis\"\n",
    "colormap pink for some reason:\n",
    "\n"
   ]
  },
  {
   "cell_type": "code",
   "execution_count": null,
   "metadata": {},
   "outputs": [],
   "source": [
    "viridis = cm.get_cmap('viridis', 256)\n",
    "newcolors = viridis(np.linspace(0, 1, 256))\n",
    "pink = np.array([248/256, 24/256, 148/256, 1])\n",
    "newcolors[:25, :] = pink\n",
    "newcmp = ListedColormap(newcolors)\n",
    "\n",
    "\n",
    "def plot_examples(cms):\n",
    "    \"\"\"\n",
    "    helper function to plot two colormaps\n",
    "    \"\"\"\n",
    "    np.random.seed(19680801)\n",
    "    data = np.random.randn(30, 30)\n",
    "\n",
    "    fig, axs = plt.subplots(1, 2, figsize=(6, 3), constrained_layout=True)\n",
    "    for [ax, cmap] in zip(axs, cms):\n",
    "        psm = ax.pcolormesh(data, cmap=cmap, rasterized=True, vmin=-4, vmax=4)\n",
    "        fig.colorbar(psm, ax=ax)\n",
    "    plt.show()\n",
    "\n",
    "plot_examples([viridis, newcmp])"
   ]
  },
  {
   "cell_type": "markdown",
   "metadata": {},
   "source": [
    "We can easily reduce the dynamic range of a colormap; here we choose the\n",
    "middle 0.5 of the colormap.  However, we need to interpolate from a larger\n",
    "colormap, otherwise the new colormap will have repeated values.\n",
    "\n"
   ]
  },
  {
   "cell_type": "code",
   "execution_count": null,
   "metadata": {},
   "outputs": [],
   "source": [
    "viridisBig = cm.get_cmap('viridis', 512)\n",
    "newcmp = ListedColormap(viridisBig(np.linspace(0.25, 0.75, 256)))\n",
    "plot_examples([viridis, newcmp])"
   ]
  },
  {
   "cell_type": "markdown",
   "metadata": {},
   "source": [
    "and we can easily concatenate two colormaps:\n",
    "\n"
   ]
  },
  {
   "cell_type": "code",
   "execution_count": null,
   "metadata": {},
   "outputs": [],
   "source": [
    "top = cm.get_cmap('Oranges_r', 128)\n",
    "bottom = cm.get_cmap('Blues', 128)\n",
    "\n",
    "newcolors = np.vstack((top(np.linspace(0, 1, 128)),\n",
    "                       bottom(np.linspace(0, 1, 128))))\n",
    "newcmp = ListedColormap(newcolors, name='OrangeBlue')\n",
    "plot_examples([viridis, newcmp])"
   ]
  },
  {
   "cell_type": "markdown",
   "metadata": {},
   "source": [
    "Of course we need not start from a named colormap, we just need to create\n",
    "the Nx4 array to pass to `.ListedColormap`.  Here we  create a\n",
    "brown colormap that goes to white....\n",
    "\n"
   ]
  },
  {
   "cell_type": "code",
   "execution_count": null,
   "metadata": {},
   "outputs": [],
   "source": [
    "N = 256\n",
    "vals = np.ones((N, 4))\n",
    "vals[:, 0] = np.linspace(90/256, 1, N)\n",
    "vals[:, 1] = np.linspace(39/256, 1, N)\n",
    "vals[:, 2] = np.linspace(41/256, 1, N)\n",
    "newcmp = ListedColormap(vals)\n",
    "plot_examples([viridis, newcmp])"
   ]
  },
  {
   "cell_type": "markdown",
   "metadata": {},
   "source": [
    "Creating linear segmented colormaps\n",
    "===================================\n",
    "\n",
    "`.LinearSegmentedColormap` class specifies colormaps using anchor points\n",
    "between which RGB(A) values are interpolated.\n",
    "\n",
    "The format to specify these colormaps allows discontinuities at the anchor\n",
    "points. Each anchor point is specified as a row in a matrix of the\n",
    "form ``[x[i] yleft[i] yright[i]]``, where ``x[i]`` is the anchor, and\n",
    "``yleft[i]`` and ``yright[i]`` are the values of the color on either\n",
    "side of the anchor point.\n",
    "\n",
    "If there are no discontinuities, then ``yleft[i]=yright[i]``:\n",
    "\n"
   ]
  },
  {
   "cell_type": "code",
   "execution_count": null,
   "metadata": {},
   "outputs": [],
   "source": [
    "cdict = {'red':   [[0.0,  0.0, 0.0],\n",
    "                   [0.5,  1.0, 1.0],\n",
    "                   [1.0,  1.0, 1.0]],\n",
    "         'green': [[0.0,  0.0, 0.0],\n",
    "                   [0.25, 0.0, 0.0],\n",
    "                   [0.75, 1.0, 1.0],\n",
    "                   [1.0,  1.0, 1.0]],\n",
    "         'blue':  [[0.0,  0.0, 0.0],\n",
    "                   [0.5,  0.0, 0.0],\n",
    "                   [1.0,  1.0, 1.0]]}\n",
    "\n",
    "\n",
    "def plot_linearmap(cdict):\n",
    "    newcmp = LinearSegmentedColormap('testCmap', segmentdata=cdict, N=256)\n",
    "    rgba = newcmp(np.linspace(0, 1, 256))\n",
    "    fig, ax = plt.subplots(figsize=(4, 3), constrained_layout=True)\n",
    "    col = ['r', 'g', 'b']\n",
    "    for xx in [0.25, 0.5, 0.75]:\n",
    "        ax.axvline(xx, color='0.7', linestyle='--')\n",
    "    for i in range(3):\n",
    "        ax.plot(np.arange(256)/256, rgba[:, i], color=col[i])\n",
    "    ax.set_xlabel('index')\n",
    "    ax.set_ylabel('RGB')\n",
    "    plt.show()\n",
    "\n",
    "plot_linearmap(cdict)"
   ]
  },
  {
   "cell_type": "markdown",
   "metadata": {},
   "source": [
    "In order to make a discontinuity at an anchor point, the third column is\n",
    "different than the second.  The matrix for each of \"red\", \"green\", \"blue\",\n",
    "and optionally \"alpha\" is set up as::\n",
    "\n",
    "  cdict['red'] = [...\n",
    "                  [x[i]      yleft[i]     yright[i]],\n",
    "                  [x[i+1]    yleft[i+1]   yright[i+1]],\n",
    "                 ...]\n",
    "\n",
    "and for values passed to the colormap between ``x[i]`` and ``x[i+1]``,\n",
    "the interpolation is between ``yright[i]`` and ``yleft[i+1]``.\n",
    "\n",
    "In the example below there is a discontinuity in red at 0.5.  The\n",
    "interpolation between 0 and 0.5 goes from 0.3 to 1, and between 0.5 and 1\n",
    "it goes from 0.9 to 1.  Note that red[0, 1], and red[2, 2] are both\n",
    "superfluous to the interpolation because red[0, 1] is the value to the\n",
    "left of 0, and red[2, 2] is the value to the right of 1.0.\n",
    "\n"
   ]
  },
  {
   "cell_type": "code",
   "execution_count": null,
   "metadata": {},
   "outputs": [],
   "source": [
    "cdict['red'] = [[0.0,  0.0, 0.3],\n",
    "                [0.5,  1.0, 0.9],\n",
    "                [1.0,  1.0, 1.0]]\n",
    "plot_linearmap(cdict)"
   ]
  },
  {
   "cell_type": "markdown",
   "metadata": {},
   "source": [
    "------------\n",
    "\n",
    "References\n",
    "\"\"\"\"\"\"\"\"\"\"\n",
    "\n",
    "The use of the following functions, methods, classes and modules is shown\n",
    "in this example:\n",
    "\n"
   ]
  },
  {
   "cell_type": "code",
   "execution_count": null,
   "metadata": {},
   "outputs": [],
   "source": [
    "import matplotlib\n",
    "matplotlib.axes.Axes.pcolormesh\n",
    "matplotlib.figure.Figure.colorbar\n",
    "matplotlib.colors\n",
    "matplotlib.colors.LinearSegmentedColormap\n",
    "matplotlib.colors.ListedColormap\n",
    "matplotlib.cm\n",
    "matplotlib.cm.get_cmap"
   ]
  }
 ],
 "metadata": {
  "kernelspec": {
   "display_name": "Python 3",
   "language": "python",
   "name": "python3"
  },
  "language_info": {
   "codemirror_mode": {
    "name": "ipython",
    "version": 3
   },
   "file_extension": ".py",
   "mimetype": "text/x-python",
   "name": "python",
   "nbconvert_exporter": "python",
   "pygments_lexer": "ipython3",
   "version": "3.7.3"
  }
 },
 "nbformat": 4,
 "nbformat_minor": 1
}
