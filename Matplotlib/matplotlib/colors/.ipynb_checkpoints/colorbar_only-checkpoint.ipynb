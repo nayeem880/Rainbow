{
 "cells": [
  {
   "cell_type": "code",
   "execution_count": null,
   "metadata": {},
   "outputs": [],
   "source": [
    "%matplotlib inline"
   ]
  },
  {
   "cell_type": "markdown",
   "metadata": {},
   "source": [
    "\n",
    "# Customized Colorbars Tutorial\n",
    "\n",
    "\n",
    "This tutorial shows how to build colorbars without an attached plot.\n",
    "\n",
    "Customized Colorbars\n",
    "====================\n",
    "\n",
    "`~matplotlib.colorbar.ColorbarBase` puts a colorbar in a specified axes,\n",
    "and can make a colorbar for a given colormap; it does not need a mappable\n",
    "object like an image. In this tutorial we will explore what can be done with\n",
    "standalone colorbar.\n",
    "\n",
    "Basic continuous colorbar\n",
    "-------------------------\n",
    "\n",
    "Set the colormap and norm to correspond to the data for which the colorbar\n",
    "will be used. Then create the colorbar by calling\n",
    ":class:`~matplotlib.colorbar.ColorbarBase` and specify axis, colormap, norm\n",
    "and orientation as parameters. Here we create a basic continuous colorbar\n",
    "with ticks and labels. For more information see the\n",
    ":mod:`~matplotlib.colorbar` API.\n",
    "\n"
   ]
  },
  {
   "cell_type": "code",
   "execution_count": null,
   "metadata": {},
   "outputs": [],
   "source": [
    "import matplotlib.pyplot as plt\n",
    "import matplotlib as mpl\n",
    "\n",
    "fig, ax = plt.subplots(figsize=(6, 1))\n",
    "fig.subplots_adjust(bottom=0.5)\n",
    "\n",
    "cmap = mpl.cm.cool\n",
    "norm = mpl.colors.Normalize(vmin=5, vmax=10)\n",
    "\n",
    "cb1 = mpl.colorbar.ColorbarBase(ax, cmap=cmap,\n",
    "                                norm=norm,\n",
    "                                orientation='horizontal')\n",
    "cb1.set_label('Some Units')\n",
    "fig.show()"
   ]
  },
  {
   "cell_type": "markdown",
   "metadata": {},
   "source": [
    "Discrete intervals colorbar\n",
    "---------------------------\n",
    "\n",
    "The second example illustrates the use of a\n",
    ":class:`~matplotlib.colors.ListedColormap` which generates a colormap from a\n",
    "set of listed colors, :func:`colors.BoundaryNorm` which generates a colormap\n",
    "index based on discrete intervals and extended ends to show the \"over\" and\n",
    "\"under\" value colors. Over and under are used to display data outside of the\n",
    "normalized [0,1] range. Here we pass colors as gray shades as a string\n",
    "encoding a float in the 0-1 range.\n",
    "\n",
    "If a :class:`~matplotlib.colors.ListedColormap` is used, the length of the\n",
    "bounds array must be one greater than the length of the color list. The\n",
    "bounds must be monotonically increasing.\n",
    "\n",
    "This time we pass some more arguments in addition to previous arguments to\n",
    ":class:`~matplotlib.colorbar.ColorbarBase`. For the out-of-range values to\n",
    "display on the colorbar, we have to use the *extend* keyword argument. To use\n",
    "*extend*, you must specify two extra boundaries. Finally spacing argument\n",
    "ensures that intervals are shown on colorbar proportionally.\n",
    "\n"
   ]
  },
  {
   "cell_type": "code",
   "execution_count": null,
   "metadata": {},
   "outputs": [],
   "source": [
    "fig, ax = plt.subplots(figsize=(6, 1))\n",
    "fig.subplots_adjust(bottom=0.5)\n",
    "\n",
    "cmap = mpl.colors.ListedColormap(['red', 'green', 'blue', 'cyan'])\n",
    "cmap.set_over('0.25')\n",
    "cmap.set_under('0.75')\n",
    "\n",
    "bounds = [1, 2, 4, 7, 8]\n",
    "norm = mpl.colors.BoundaryNorm(bounds, cmap.N)\n",
    "cb2 = mpl.colorbar.ColorbarBase(ax, cmap=cmap,\n",
    "                                norm=norm,\n",
    "                                boundaries=[0] + bounds + [13],\n",
    "                                extend='both',\n",
    "                                ticks=bounds,\n",
    "                                spacing='proportional',\n",
    "                                orientation='horizontal')\n",
    "cb2.set_label('Discrete intervals, some other units')\n",
    "fig.show()"
   ]
  },
  {
   "cell_type": "markdown",
   "metadata": {},
   "source": [
    "Colorbar with custom extension lengths\n",
    "--------------------------------------\n",
    "\n",
    "Here we illustrate the use of custom length colorbar extensions, used on a\n",
    "colorbar with discrete intervals. To make the length of each extension the\n",
    "same as the length of the interior colors, use ``extendfrac='auto'``.\n",
    "\n"
   ]
  },
  {
   "cell_type": "code",
   "execution_count": null,
   "metadata": {},
   "outputs": [],
   "source": [
    "fig, ax = plt.subplots(figsize=(6, 1))\n",
    "fig.subplots_adjust(bottom=0.5)\n",
    "\n",
    "cmap = mpl.colors.ListedColormap(['royalblue', 'cyan',\n",
    "                                  'yellow', 'orange'])\n",
    "cmap.set_over('red')\n",
    "cmap.set_under('blue')\n",
    "\n",
    "bounds = [-1.0, -0.5, 0.0, 0.5, 1.0]\n",
    "norm = mpl.colors.BoundaryNorm(bounds, cmap.N)\n",
    "cb3 = mpl.colorbar.ColorbarBase(ax, cmap=cmap,\n",
    "                                norm=norm,\n",
    "                                boundaries=[-10] + bounds + [10],\n",
    "                                extend='both',\n",
    "                                extendfrac='auto',\n",
    "                                ticks=bounds,\n",
    "                                spacing='uniform',\n",
    "                                orientation='horizontal')\n",
    "cb3.set_label('Custom extension lengths, some other units')\n",
    "fig.show()"
   ]
  }
 ],
 "metadata": {
  "kernelspec": {
   "display_name": "Python 3",
   "language": "python",
   "name": "python3"
  },
  "language_info": {
   "codemirror_mode": {
    "name": "ipython",
    "version": 3
   },
   "file_extension": ".py",
   "mimetype": "text/x-python",
   "name": "python",
   "nbconvert_exporter": "python",
   "pygments_lexer": "ipython3",
   "version": "3.7.3"
  }
 },
 "nbformat": 4,
 "nbformat_minor": 1
}
