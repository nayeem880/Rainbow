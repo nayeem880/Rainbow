{
  "cells": [
    {
      "cell_type": "code",
      "execution_count": null,
      "metadata": {
        "collapsed": false
      },
      "outputs": [],
      "source": [
        "%matplotlib inline"
      ]
    },
    {
      "cell_type": "markdown",
      "metadata": {},
      "source": [
        "\nCustomizing Matplotlib with style sheets and rcParams\n=====================================================\n\nTips for customizing the properties and default styles of Matplotlib.\n\nUsing style sheets\n------------------\n\nThe ``style`` package adds support for easy-to-switch plotting \"styles\" with\nthe same parameters as a\n`matplotlib rc <customizing-with-matplotlibrc-files>` file (which is read\nat startup to configure matplotlib).\n\nThere are a number of pre-defined styles `provided by Matplotlib`_. For\nexample, there's a pre-defined style called \"ggplot\", which emulates the\naesthetics of ggplot_ (a popular plotting package for R_). To use this style,\njust add:\n\n"
      ]
    },
    {
      "cell_type": "code",
      "execution_count": null,
      "metadata": {
        "collapsed": false
      },
      "outputs": [],
      "source": [
        "import numpy as np\nimport matplotlib.pyplot as plt\nimport matplotlib as mpl\nplt.style.use('ggplot')\ndata = np.random.randn(50)"
      ]
    },
    {
      "cell_type": "markdown",
      "metadata": {},
      "source": [
        "To list all available styles, use:\n\n"
      ]
    },
    {
      "cell_type": "code",
      "execution_count": null,
      "metadata": {
        "collapsed": false
      },
      "outputs": [],
      "source": [
        "print(plt.style.available)"
      ]
    },
    {
      "cell_type": "markdown",
      "metadata": {},
      "source": [
        "Defining your own style\n-----------------------\n\nYou can create custom styles and use them by calling ``style.use`` with the\npath or URL to the style sheet. Additionally, if you add your\n``<style-name>.mplstyle`` file to ``mpl_configdir/stylelib``, you can reuse\nyour custom style sheet with a call to ``style.use(<style-name>)``. By default\n``mpl_configdir`` should be ``~/.config/matplotlib``, but you can check where\nyours is with ``matplotlib.get_configdir()``; you may need to create this\ndirectory. You also can change the directory where matplotlib looks for\nthe stylelib/ folder by setting the MPLCONFIGDIR environment variable,\nsee `locating-matplotlib-config-dir`.\n\nNote that a custom style sheet in ``mpl_configdir/stylelib`` will\noverride a style sheet defined by matplotlib if the styles have the same name.\n\nFor example, you might want to create\n``mpl_configdir/stylelib/presentation.mplstyle`` with the following::\n\n   axes.titlesize : 24\n   axes.labelsize : 20\n   lines.linewidth : 3\n   lines.markersize : 10\n   xtick.labelsize : 16\n   ytick.labelsize : 16\n\nThen, when you want to adapt a plot designed for a paper to one that looks\ngood in a presentation, you can just add::\n\n   >>> import matplotlib.pyplot as plt\n   >>> plt.style.use('presentation')\n\n\nComposing styles\n----------------\n\nStyle sheets are designed to be composed together. So you can have a style\nsheet that customizes colors and a separate style sheet that alters element\nsizes for presentations. These styles can easily be combined by passing\na list of styles::\n\n   >>> import matplotlib.pyplot as plt\n   >>> plt.style.use(['dark_background', 'presentation'])\n\nNote that styles further to the right will overwrite values that are already\ndefined by styles on the left.\n\n\nTemporary styling\n-----------------\n\nIf you only want to use a style for a specific block of code but don't want\nto change the global styling, the style package provides a context manager\nfor limiting your changes to a specific scope. To isolate your styling\nchanges, you can write something like the following:\n\n"
      ]
    },
    {
      "cell_type": "code",
      "execution_count": null,
      "metadata": {
        "collapsed": false
      },
      "outputs": [],
      "source": [
        "with plt.style.context('dark_background'):\n    plt.plot(np.sin(np.linspace(0, 2 * np.pi)), 'r-o')\nplt.show()"
      ]
    },
    {
      "cell_type": "markdown",
      "metadata": {},
      "source": [
        "\nmatplotlib rcParams\n===================\n\n\nDynamic rc settings\n-------------------\n\nYou can also dynamically change the default rc settings in a python script or\ninteractively from the python shell. All of the rc settings are stored in a\ndictionary-like variable called :data:`matplotlib.rcParams`, which is global to\nthe matplotlib package. rcParams can be modified directly, for example:\n\n"
      ]
    },
    {
      "cell_type": "code",
      "execution_count": null,
      "metadata": {
        "collapsed": false
      },
      "outputs": [],
      "source": [
        "mpl.rcParams['lines.linewidth'] = 2\nmpl.rcParams['lines.color'] = 'r'\nplt.plot(data)"
      ]
    },
    {
      "cell_type": "markdown",
      "metadata": {},
      "source": [
        "Matplotlib also provides a couple of convenience functions for modifying rc\nsettings. The :func:`matplotlib.rc` command can be used to modify multiple\nsettings in a single group at once, using keyword arguments:\n\n"
      ]
    },
    {
      "cell_type": "code",
      "execution_count": null,
      "metadata": {
        "collapsed": false
      },
      "outputs": [],
      "source": [
        "mpl.rc('lines', linewidth=4, color='g')\nplt.plot(data)"
      ]
    },
    {
      "cell_type": "markdown",
      "metadata": {},
      "source": [
        "The :func:`matplotlib.rcdefaults` command will restore the standard matplotlib\ndefault settings.\n\nThere is some degree of validation when setting the values of rcParams, see\n:mod:`matplotlib.rcsetup` for details.\n\n\nThe :file:`matplotlibrc` file\n-----------------------------\n\nmatplotlib uses :file:`matplotlibrc` configuration files to customize all kinds\nof properties, which we call `rc settings` or `rc parameters`. You can control\nthe defaults of almost every property in matplotlib: figure size and dpi, line\nwidth, color and style, axes, axis and grid properties, text and font\nproperties and so on. matplotlib looks for :file:`matplotlibrc` in four\nlocations, in the following order:\n\n1. :file:`matplotlibrc` in the current working directory, usually used for\n   specific customizations that you do not want to apply elsewhere.\n\n2. :file:`$MATPLOTLIBRC` if it is a file, else :file:`$MATPLOTLIBRC/matplotlibrc`.\n\n3. It next looks in a user-specific place, depending on your platform:\n\n   - On Linux and FreeBSD, it looks in :file:`.config/matplotlib/matplotlibrc`\n     (or `$XDG_CONFIG_HOME/matplotlib/matplotlibrc`) if you've customized\n     your environment.\n\n   - On other platforms, it looks in :file:`.matplotlib/matplotlibrc`.\n\n   See `locating-matplotlib-config-dir`.\n\n4. :file:`{INSTALL}/matplotlib/mpl-data/matplotlibrc`, where\n   :file:`{INSTALL}` is something like\n   :file:`/usr/lib/python3.7/site-packages` on Linux, and maybe\n   :file:`C:\\\\Python37\\\\Lib\\\\site-packages` on Windows. Every time you\n   install matplotlib, this file will be overwritten, so if you want\n   your customizations to be saved, please move this file to your\n   user-specific matplotlib directory.\n\nOnce a :file:`matplotlibrc` file has been found, it will *not* search any of\nthe other paths.\n\nTo display where the currently active :file:`matplotlibrc` file was\nloaded from, one can do the following::\n\n  >>> import matplotlib\n  >>> matplotlib.matplotlib_fname()\n  '/home/foo/.config/matplotlib/matplotlibrc'\n\nSee below for a sample `matplotlibrc file<matplotlibrc-sample>`.\n\n\nA sample matplotlibrc file\n~~~~~~~~~~~~~~~~~~~~~~~~~~\n\n.. literalinclude:: ../../../matplotlibrc.template\n\n\n\n"
      ]
    }
  ],
  "metadata": {
    "kernelspec": {
      "display_name": "Python 3",
      "language": "python",
      "name": "python3"
    },
    "language_info": {
      "codemirror_mode": {
        "name": "ipython",
        "version": 3
      },
      "file_extension": ".py",
      "mimetype": "text/x-python",
      "name": "python",
      "nbconvert_exporter": "python",
      "pygments_lexer": "ipython3",
      "version": "3.6.8"
    }
  },
  "nbformat": 4,
  "nbformat_minor": 0
}