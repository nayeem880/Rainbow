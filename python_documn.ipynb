{
 "cells": [
  {
   "cell_type": "code",
   "execution_count": 1,
   "metadata": {},
   "outputs": [
    {
     "name": "stdout",
     "output_type": "stream",
     "text": [
      "Hello rainbow python codes\n"
     ]
    }
   ],
   "source": [
    "print(\"Hello rainbow python codes\")"
   ]
  },
  {
   "cell_type": "code",
   "execution_count": 9,
   "metadata": {},
   "outputs": [
    {
     "name": "stdout",
     "output_type": "stream",
     "text": [
      "4\n",
      "0\n",
      "4\n",
      "1.5\n",
      "1\n",
      "0\n",
      "25\n"
     ]
    }
   ],
   "source": [
    "print(2+2)\n",
    "print(2-2)\n",
    "print(2*2)\n",
    "print(3/2)\n",
    "print(2//2)\n",
    "print(9%3)\n",
    "print(5**2)"
   ]
  },
  {
   "cell_type": "code",
   "execution_count": 25,
   "metadata": {},
   "outputs": [
    {
     "name": "stdout",
     "output_type": "stream",
     "text": [
      "4\n",
      "3.0\n",
      "1.0\n"
     ]
    }
   ],
   "source": [
    "##operations preferences\n",
    "\n",
    "print(3+2-1)\n",
    "\n",
    "print(20/5%3*3)\n",
    "\n",
    "##division ,multiplication, modulus, addition and lastly subtraction\n",
    "print(2*20/4%3)"
   ]
  },
  {
   "cell_type": "code",
   "execution_count": 38,
   "metadata": {},
   "outputs": [
    {
     "data": {
      "text/plain": [
       "1015044.1"
      ]
     },
     "execution_count": 38,
     "metadata": {},
     "output_type": "execute_result"
    }
   ],
   "source": [
    "price = 12/100\n",
    "tax = 100.5678\n",
    "\n",
    "price * tax\n",
    "\n",
    "price + _\n",
    "\n",
    "round(_,2)\n"
   ]
  },
  {
   "cell_type": "code",
   "execution_count": 40,
   "metadata": {},
   "outputs": [
    {
     "name": "stdout",
     "output_type": "stream",
     "text": [
      "Hello this is python code form python documentation\n",
      "doesn't matter\n",
      "Helpful isn't it\n",
      "hello there i'm working on it -\"please\" keep calm\n"
     ]
    }
   ],
   "source": [
    "print(\"Hello this is python code form python documentation\")\n",
    "\n",
    "print(\"doesn't matter\")\n",
    "print('Helpful isn\\'t it')\n",
    "print(\"hello there i'm working on it -\\\"please\\\" keep calm\")"
   ]
  },
  {
   "cell_type": "code",
   "execution_count": 42,
   "metadata": {},
   "outputs": [
    {
     "name": "stdout",
     "output_type": "stream",
     "text": [
      "c:\\hello\\users\\user\\desktop\\newFile\n"
     ]
    }
   ],
   "source": [
    "print(r\"c:\\hello\\users\\user\\desktop\\newFile\")"
   ]
  },
  {
   "cell_type": "code",
   "execution_count": 58,
   "metadata": {},
   "outputs": [
    {
     "name": "stdout",
     "output_type": "stream",
     "text": [
      "\n",
      "      hello\n",
      "      there\n",
      "      i am\n",
      "      nick\n",
      "      zussman\n",
      "      a newbie\n",
      "      pyhton programmer.\n",
      "      Follow me in github to know my works\n",
      "\n"
     ]
    }
   ],
   "source": [
    "print(\"\"\"\n",
    "      hello\n",
    "      there\n",
    "      i am\n",
    "      nick\n",
    "      zussman\n",
    "      a newbie\n",
    "      pyhton programmer.\n",
    "      Follow me in github to know my works\n",
    "\"\"\")\n",
    "\n"
   ]
  },
  {
   "cell_type": "code",
   "execution_count": 61,
   "metadata": {},
   "outputs": [
    {
     "data": {
      "text/plain": [
       "'unununium'"
      ]
     },
     "execution_count": 61,
     "metadata": {},
     "output_type": "execute_result"
    }
   ],
   "source": [
    "'un'*3+'ium'"
   ]
  },
  {
   "cell_type": "code",
   "execution_count": 62,
   "metadata": {},
   "outputs": [
    {
     "data": {
      "text/plain": [
       "'pythom'"
      ]
     },
     "execution_count": 62,
     "metadata": {},
     "output_type": "execute_result"
    }
   ],
   "source": [
    "'py'+'thom'"
   ]
  },
  {
   "cell_type": "code",
   "execution_count": 71,
   "metadata": {},
   "outputs": [
    {
     "name": "stdout",
     "output_type": "stream",
     "text": [
      "Hello there this is a python practice based on the documentation from python manual\n"
     ]
    }
   ],
   "source": [
    "text='Hello there this is a python ' 'practice based on the documentation from python manual'\n",
    "\n",
    "print(text)\n"
   ]
  },
  {
   "cell_type": "code",
   "execution_count": 72,
   "metadata": {},
   "outputs": [
    {
     "data": {
      "text/plain": [
       "'python'"
      ]
     },
     "execution_count": 72,
     "metadata": {},
     "output_type": "execute_result"
    }
   ],
   "source": [
    "prefix = 'py'\n",
    "\n",
    "prefix+\"thon\""
   ]
  },
  {
   "cell_type": "code",
   "execution_count": 76,
   "metadata": {},
   "outputs": [
    {
     "name": "stdout",
     "output_type": "stream",
     "text": [
      "t\n"
     ]
    },
    {
     "data": {
      "text/plain": [
       "'h'"
      ]
     },
     "execution_count": 76,
     "metadata": {},
     "output_type": "execute_result"
    }
   ],
   "source": [
    "word =\"python\"\n",
    "print(word[2])\n",
    "word[-3]"
   ]
  },
  {
   "cell_type": "code",
   "execution_count": 79,
   "metadata": {},
   "outputs": [
    {
     "name": "stdout",
     "output_type": "stream",
     "text": [
      "pypy\n"
     ]
    },
    {
     "data": {
      "text/plain": [
       "6"
      ]
     },
     "execution_count": 79,
     "metadata": {},
     "output_type": "execute_result"
    }
   ],
   "source": [
    "word ='python'\n",
    "\n",
    "print(word[:2]+'py')\n",
    "len(word)"
   ]
  },
  {
   "cell_type": "code",
   "execution_count": 80,
   "metadata": {},
   "outputs": [
    {
     "data": {
      "text/plain": [
       "35"
      ]
     },
     "execution_count": 80,
     "metadata": {},
     "output_type": "execute_result"
    }
   ],
   "source": [
    "s='dkasjfhakhdfasgfgiluwowqrjbfsflkafl'\n",
    "len(s)"
   ]
  },
  {
   "cell_type": "code",
   "execution_count": 88,
   "metadata": {},
   "outputs": [
    {
     "data": {
      "text/plain": [
       "[2, 3, 45, 6]"
      ]
     },
     "execution_count": 88,
     "metadata": {},
     "output_type": "execute_result"
    }
   ],
   "source": [
    "#lists\n",
    "\n",
    "squares =[1,2,3,45,6]\n",
    "squares[-4:]\n"
   ]
  },
  {
   "cell_type": "code",
   "execution_count": 89,
   "metadata": {},
   "outputs": [
    {
     "data": {
      "text/plain": [
       "[1, 2, 3]"
      ]
     },
     "execution_count": 89,
     "metadata": {},
     "output_type": "execute_result"
    }
   ],
   "source": [
    "squares =[1,2,3,45,6]\n",
    "squares[:3]"
   ]
  },
  {
   "cell_type": "code",
   "execution_count": 91,
   "metadata": {},
   "outputs": [
    {
     "data": {
      "text/plain": [
       "[1, 2, 3, 45, 6, 33, 44, 55, 66]"
      ]
     },
     "execution_count": 91,
     "metadata": {},
     "output_type": "execute_result"
    }
   ],
   "source": [
    "squares+[33,44,55,66]\n",
    "##this is call concatenation of python sequence"
   ]
  },
  {
   "cell_type": "code",
   "execution_count": 95,
   "metadata": {},
   "outputs": [
    {
     "name": "stdout",
     "output_type": "stream",
     "text": [
      "[0, 1, 8, 27, 64, 125, 216, 343, 512, 729, 1000]\n"
     ]
    }
   ],
   "source": [
    "cubes=[]\n",
    "\n",
    "for c in range(11):\n",
    "    cubes.append(c**3)\n",
    "print(cubes)"
   ]
  },
  {
   "cell_type": "code",
   "execution_count": 98,
   "metadata": {},
   "outputs": [
    {
     "name": "stdout",
     "output_type": "stream",
     "text": [
      "[0, 1, 8, 27, 65, 125, 216, 343, 512, 729, 1000]\n"
     ]
    }
   ],
   "source": [
    "cubes[4]=65\n",
    "print(cubes)\n",
    "##modified cubes list at 4 index = 65"
   ]
  },
  {
   "cell_type": "code",
   "execution_count": 112,
   "metadata": {},
   "outputs": [
    {
     "name": "stdout",
     "output_type": "stream",
     "text": [
      "['A', 'B', 'C', 'D', 'g', 'h']\n"
     ]
    }
   ],
   "source": [
    "letters=['a','s','d','f','g','h']\n",
    "letters[:4]=['A','B','C','D']\n",
    "print(letters)"
   ]
  },
  {
   "cell_type": "code",
   "execution_count": 121,
   "metadata": {},
   "outputs": [
    {
     "name": "stdout",
     "output_type": "stream",
     "text": [
      "['A', 'B', 'g', 'h']\n"
     ]
    }
   ],
   "source": [
    "letters=['A', 'B', 'C', 'D', 'g', 'h']\n",
    "letters[2:4]=[]\n",
    "print(letters)"
   ]
  },
  {
   "cell_type": "code",
   "execution_count": 122,
   "metadata": {},
   "outputs": [
    {
     "data": {
      "text/plain": [
       "4"
      ]
     },
     "execution_count": 122,
     "metadata": {},
     "output_type": "execute_result"
    }
   ],
   "source": [
    "len(letters)"
   ]
  },
  {
   "cell_type": "code",
   "execution_count": 126,
   "metadata": {},
   "outputs": [
    {
     "name": "stdout",
     "output_type": "stream",
     "text": [
      "[['a', 'v', 'r'], [2, 3, 5]]\n",
      "r\n"
     ]
    }
   ],
   "source": [
    "##two dimensional array\n",
    "\n",
    "n=['a','v','r']\n",
    "a=[2,3,5]\n",
    "\n",
    "twoD=[n,a]\n",
    "print(twoD)\n",
    "print(twoD[0][2])"
   ]
  },
  {
   "cell_type": "code",
   "execution_count": 133,
   "metadata": {},
   "outputs": [
    {
     "name": "stdout",
     "output_type": "stream",
     "text": [
      "0\n",
      "1\n",
      "1\n",
      "2\n",
      "3\n",
      "5\n",
      "8\n",
      "13\n"
     ]
    }
   ],
   "source": [
    "##fibonacci series\n",
    "\n",
    "a=0\n",
    "b=1\n",
    "\n",
    "while a<20:\n",
    "        print(a)\n",
    "        a,b=b,a+b\n",
    "\n",
    "    \n",
    "\n",
    "        \n",
    "    "
   ]
  },
  {
   "cell_type": "code",
   "execution_count": 1,
   "metadata": {},
   "outputs": [
    {
     "name": "stdout",
     "output_type": "stream",
     "text": [
      "the value of i is :  98304\n"
     ]
    }
   ],
   "source": [
    "i =256*384\n",
    "print(\"the value of i is : \",i)"
   ]
  },
  {
   "cell_type": "code",
   "execution_count": 147,
   "metadata": {},
   "outputs": [
    {
     "name": "stdout",
     "output_type": "stream",
     "text": [
      "0 1 1 2 3 5 8 13 21 34 55 89 "
     ]
    }
   ],
   "source": [
    "a,b=0,1\n",
    "while a<100:\n",
    "    print(a,end=\" \")\n",
    "    a,b=b,a+b"
   ]
  },
  {
   "cell_type": "code",
   "execution_count": 141,
   "metadata": {},
   "outputs": [
    {
     "name": "stdout",
     "output_type": "stream",
     "text": [
      "-9\n",
      "9\n"
     ]
    }
   ],
   "source": [
    "print(-3**2)\n",
    "print((-3)**2)"
   ]
  },
  {
   "cell_type": "code",
   "execution_count": 3,
   "metadata": {},
   "outputs": [
    {
     "name": "stdin",
     "output_type": "stream",
     "text": [
      "Enter todays weather condition :  none\n"
     ]
    },
    {
     "name": "stdout",
     "output_type": "stream",
     "text": [
      "no need to concern about, it's good weather today\n"
     ]
    }
   ],
   "source": [
    "##if statements\n",
    "\n",
    "weather= input(\"Enter todays weather condition : \")\n",
    "\n",
    "if weather == \"sunny\":\n",
    "    print(\"wear white and soft clothes\")\n",
    "    \n",
    "elif weather == 'hot':\n",
    "    print(\"wear less cloth and take water with you\")\n",
    "elif weather == 'cold':\n",
    "    print(\"wear heavy clothe\")\n",
    "else:\n",
    "    print('no need to concern about, it\\'s good weather today')"
   ]
  },
  {
   "cell_type": "code",
   "execution_count": 1,
   "metadata": {},
   "outputs": [
    {
     "name": "stdout",
     "output_type": "stream",
     "text": [
      "adam 4\n",
      "nick 4\n",
      "peter 5\n",
      "salmon 6\n",
      "noah 4\n",
      "mahmudul hasan 14\n"
     ]
    }
   ],
   "source": [
    "words =['adam','nick','peter','salmon','noah','mahmudul hasan']\n",
    "for w in words:\n",
    "    print(w,len(w)) \n",
    "    \n"
   ]
  },
  {
   "cell_type": "code",
   "execution_count": null,
   "metadata": {},
   "outputs": [],
   "source": [
    "words =['adam','nick','peter','salmon','noah','mahmudul hasan']\n",
    "\n",
    "for e in words[:]:\n",
    "    if len(e)>5:\n",
    "        words.insert(0,e)\n",
    "print(words)"
   ]
  },
  {
   "cell_type": "code",
   "execution_count": 5,
   "metadata": {},
   "outputs": [
    {
     "name": "stdout",
     "output_type": "stream",
     "text": [
      "5   6   7   8   9   "
     ]
    }
   ],
   "source": [
    "for w in range (5,10):\n",
    "    print(w,end =\"   \")"
   ]
  },
  {
   "cell_type": "code",
   "execution_count": 9,
   "metadata": {},
   "outputs": [
    {
     "name": "stdout",
     "output_type": "stream",
     "text": [
      "0 nick\n",
      "1 adam\n",
      "2 salmon\n",
      "3 taher\n",
      "4 jack\n"
     ]
    }
   ],
   "source": [
    "a=[\"nick\",'adam','salmon','taher','jack']\n",
    "\n",
    "for i in range(len(a)):\n",
    "    print(i, a[i])"
   ]
  },
  {
   "cell_type": "code",
   "execution_count": 10,
   "metadata": {},
   "outputs": [
    {
     "name": "stdout",
     "output_type": "stream",
     "text": [
      "range(0, 10)\n"
     ]
    }
   ],
   "source": [
    "print (range(10))"
   ]
  },
  {
   "cell_type": "code",
   "execution_count": 11,
   "metadata": {},
   "outputs": [
    {
     "data": {
      "text/plain": [
       "[0, 1, 2, 3, 4, 5, 6, 7, 8, 9]"
      ]
     },
     "execution_count": 11,
     "metadata": {},
     "output_type": "execute_result"
    }
   ],
   "source": [
    "list(range(10))"
   ]
  },
  {
   "cell_type": "code",
   "execution_count": 15,
   "metadata": {},
   "outputs": [
    {
     "name": "stdout",
     "output_type": "stream",
     "text": [
      "2 is a prime number\n",
      "3 is a prime number\n",
      "4  equals to  2 * 2\n",
      "5 is a prime number\n",
      "6  equals to  2 * 3\n",
      "7 is a prime number\n",
      "8  equals to  2 * 4\n",
      "9  equals to  3 * 3\n"
     ]
    }
   ],
   "source": [
    "for n in range(2,10):\n",
    "    for x in range(2,n):\n",
    "        if n%x==0:\n",
    "            print(n,' equals to ',x,\"*\",n//x)\n",
    "            break\n",
    "    else :\n",
    "        print(n, 'is a prime number')"
   ]
  },
  {
   "cell_type": "code",
   "execution_count": 17,
   "metadata": {},
   "outputs": [
    {
     "name": "stdout",
     "output_type": "stream",
     "text": [
      "found an even number :  2\n",
      "odd number :  3\n",
      "found an even number :  4\n",
      "odd number :  5\n",
      "found an even number :  6\n",
      "odd number :  7\n",
      "found an even number :  8\n",
      "odd number :  9\n"
     ]
    }
   ],
   "source": [
    "##even odd numbers\n",
    "\n",
    "for w in range(2,10):\n",
    "    if(w%2)==0:\n",
    "        print('found an even number : ',w)\n",
    "    else:\n",
    "        print('odd number : ',w)"
   ]
  },
  {
   "cell_type": "code",
   "execution_count": 26,
   "metadata": {},
   "outputs": [
    {
     "name": "stdout",
     "output_type": "stream",
     "text": [
      "Highest limit for fibonacci series : 100\n",
      "enter value of starting point of fibonacci series : 0\n",
      "0 1 1 2 3 5 8 13 21 34 55 89 "
     ]
    }
   ],
   "source": [
    "def fibo(n):\n",
    "    '''print a fibonacci number up to 100'''\n",
    "    a=int(input('enter value of starting point of fibonacci series : '))\n",
    "    b=a+1\n",
    "    while a<=n:\n",
    "        print(a,end=' ')\n",
    "        a,b=b,a+b\n",
    "        \n",
    "n =int(input('Highest limit for fibonacci series : ')) \n",
    "fibo(n)"
   ]
  },
  {
   "cell_type": "code",
   "execution_count": 28,
   "metadata": {},
   "outputs": [
    {
     "name": "stdout",
     "output_type": "stream",
     "text": [
      "Highest limit for fibonacci series : 100\n",
      "enter value of starting point of fibonacci series : 0\n"
     ]
    },
    {
     "data": {
      "text/plain": [
       "[0, 1, 1, 2, 3, 5, 8, 13, 21, 34, 55, 89]"
      ]
     },
     "execution_count": 28,
     "metadata": {},
     "output_type": "execute_result"
    }
   ],
   "source": [
    "def fibo(n):\n",
    "    '''print a fibonacci number up to 100'''\n",
    "    result=[]\n",
    "    a=int(input('enter value of starting point of fibonacci series : '))\n",
    "    b=a+1\n",
    "    while a<=n:\n",
    "        result.append(a)\n",
    "        a,b=b,a+b\n",
    "    return result\n",
    "        \n",
    "n =int(input('Highest limit for fibonacci series : ')) \n",
    "fibo(n)"
   ]
  },
  {
   "cell_type": "code",
   "execution_count": 30,
   "metadata": {},
   "outputs": [
    {
     "name": "stdout",
     "output_type": "stream",
     "text": [
      "Highest limit for fibonacci series : 100\n",
      "enter value of starting point of fibonacci series : 0\n"
     ]
    },
    {
     "data": {
      "text/plain": [
       "[0, 1, 1, 2, 3, 5, 8, 13, 21, 34, 55, 89]"
      ]
     },
     "execution_count": 30,
     "metadata": {},
     "output_type": "execute_result"
    }
   ],
   "source": [
    "def fibo(n):\n",
    "    '''print a fibonacci number up to 100'''\n",
    "    result=[]\n",
    "    a=int(input('enter value of starting point of fibonacci series : '))\n",
    "    b=a+1\n",
    "    while a<=n:\n",
    "        result=result+[a] ##equivalent\n",
    "        a,b=b,a+b\n",
    "    return result\n",
    "        \n",
    "n =int(input('Highest limit for fibonacci series : ')) \n",
    "fibo(n)"
   ]
  },
  {
   "cell_type": "code",
   "execution_count": 3,
   "metadata": {},
   "outputs": [
    {
     "name": "stdout",
     "output_type": "stream",
     "text": [
      "helloy\n"
     ]
    },
    {
     "data": {
      "text/plain": [
       "True"
      ]
     },
     "execution_count": 3,
     "metadata": {},
     "output_type": "execute_result"
    }
   ],
   "source": [
    "def ask_ok(prompt,retries=4,reminder='Please try again'):\n",
    "    while True:\n",
    "        ok=input(prompt)\n",
    "        if ok in ('y','ye','yes','yup'):\n",
    "            return True\n",
    "        if ok in ('n','no','not','nope'):\n",
    "            return False\n",
    "        retries=retires-1\n",
    "        if retries <0:\n",
    "            raise ValueError('Invalid User Response')\n",
    "        print(reminder)\n",
    "\n",
    "ask_ok(\"hello\")"
   ]
  },
  {
   "cell_type": "code",
   "execution_count": 7,
   "metadata": {},
   "outputs": [
    {
     "name": "stdout",
     "output_type": "stream",
     "text": [
      "5\n"
     ]
    }
   ],
   "source": [
    "i = 5\n",
    "\n",
    "def f(arg=i):\n",
    "    print(arg)\n",
    "    \n",
    "f()"
   ]
  },
  {
   "cell_type": "code",
   "execution_count": 9,
   "metadata": {},
   "outputs": [
    {
     "data": {
      "text/plain": [
       "[1, 2, 3]"
      ]
     },
     "execution_count": 9,
     "metadata": {},
     "output_type": "execute_result"
    }
   ],
   "source": [
    "def f(a,list=[]):\n",
    "    list.append(a)\n",
    "    return list\n",
    "\n",
    "\n",
    "f(1)\n",
    "f(2)\n",
    "f(3)"
   ]
  },
  {
   "cell_type": "code",
   "execution_count": null,
   "metadata": {},
   "outputs": [],
   "source": []
  }
 ],
 "metadata": {
  "kernelspec": {
   "display_name": "Python 3",
   "language": "python",
   "name": "python3"
  }
 },
 "nbformat": 4,
 "nbformat_minor": 2
}
